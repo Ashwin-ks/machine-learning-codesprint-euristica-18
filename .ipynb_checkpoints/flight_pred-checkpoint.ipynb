{
 "cells": [
  {
   "cell_type": "code",
   "execution_count": 1,
   "metadata": {
    "collapsed": true
   },
   "outputs": [],
   "source": [
    "import numpy as np\n",
    "import pandas as pd\n",
    "import matplotlib.pyplot as plt\n",
    "import seaborn as sns\n",
    "%matplotlib inline\n",
    "import os,sys"
   ]
  },
  {
   "cell_type": "code",
   "execution_count": 2,
   "metadata": {
    "collapsed": true
   },
   "outputs": [],
   "source": [
    "import xgboost as xgb\n",
    "\n",
    "from sklearn.model_selection import cross_val_score\n",
    "from sklearn.preprocessing import MinMaxScaler\n",
    "from sklearn import preprocessing\n",
    "from sklearn.linear_model import LogisticRegression\n",
    "from xgboost import XGBClassifier\n",
    "from xgboost import XGBRegressor\n",
    "import lightgbm as lgb\n",
    "from lightgbm import LGBMRegressor\n",
    "from sklearn.metrics import accuracy_score\n",
    "from sklearn.model_selection import GridSearchCV\n",
    "from sklearn.model_selection import StratifiedKFold\n",
    "from sklearn.model_selection import train_test_split\n",
    "from sklearn.metrics import matthews_corrcoef, roc_auc_score\n",
    "from sklearn.model_selection import RandomizedSearchCV\n",
    "#from catboost import CatBoostClassifier\n",
    "\n",
    "#from rgf.sklearn import RGFClassifier\n",
    "from sklearn.ensemble import RandomForestClassifier\n",
    "from sklearn.linear_model import LogisticRegression,LinearRegression\n",
    "from sklearn.linear_model import Lasso\n",
    "from sklearn.linear_model import Ridge\n",
    "from sklearn.preprocessing import OneHotEncoder,LabelEncoder\n",
    "\n",
    "from sklearn.svm import SVC\n",
    "from sklearn.svm import SVR\n",
    "from sklearn.ensemble import ExtraTreesClassifier\n",
    "from sklearn.feature_selection import VarianceThreshold\n",
    "\n",
    "from sklearn.preprocessing import StandardScaler\n",
    "from sklearn.decomposition import PCA\n",
    "from sklearn.model_selection import KFold\n",
    "from sklearn.metrics import r2_score\n",
    "#from ggplot import *\n",
    "from xgboost import XGBRegressor\n",
    "\n",
    "import warnings\n",
    "warnings.filterwarnings(\"ignore\")"
   ]
  },
  {
   "cell_type": "code",
   "execution_count": 3,
   "metadata": {
    "collapsed": true
   },
   "outputs": [],
   "source": [
    "from sklearn.metrics import confusion_matrix\n",
    "from sklearn.metrics import accuracy_score,precision_score,recall_score,f1_score"
   ]
  },
  {
   "cell_type": "code",
   "execution_count": 4,
   "metadata": {},
   "outputs": [
    {
     "data": {
      "text/plain": [
       "'0.20.1'"
      ]
     },
     "execution_count": 4,
     "metadata": {},
     "output_type": "execute_result"
    }
   ],
   "source": [
    "import sklearn\n",
    "sklearn.__version__"
   ]
  },
  {
   "cell_type": "code",
   "execution_count": 5,
   "metadata": {},
   "outputs": [
    {
     "data": {
      "text/plain": [
       "'/mnt/data/scripts/notebooks/ashwin/test'"
      ]
     },
     "execution_count": 5,
     "metadata": {},
     "output_type": "execute_result"
    }
   ],
   "source": [
    "pwd()"
   ]
  },
  {
   "cell_type": "code",
   "execution_count": 6,
   "metadata": {
    "collapsed": true
   },
   "outputs": [],
   "source": [
    "os.chdir('flight_predictor_data')\n",
    "train_df = pd.read_csv('weather_data_train.csv')\n",
    "test_df = pd.read_csv('weather_data_test.csv')"
   ]
  },
  {
   "cell_type": "code",
   "execution_count": 7,
   "metadata": {},
   "outputs": [
    {
     "data": {
      "text/plain": [
       "((2183, 1126), (100, 1126))"
      ]
     },
     "execution_count": 7,
     "metadata": {},
     "output_type": "execute_result"
    }
   ],
   "source": [
    "train_df.shape,test_df.shape"
   ]
  },
  {
   "cell_type": "code",
   "execution_count": 8,
   "metadata": {
    "collapsed": true
   },
   "outputs": [],
   "source": [
    "pred = pd.read_csv('flight_data_train.csv')"
   ]
  },
  {
   "cell_type": "code",
   "execution_count": 9,
   "metadata": {},
   "outputs": [
    {
     "data": {
      "text/html": [
       "<div>\n",
       "<style scoped>\n",
       "    .dataframe tbody tr th:only-of-type {\n",
       "        vertical-align: middle;\n",
       "    }\n",
       "\n",
       "    .dataframe tbody tr th {\n",
       "        vertical-align: top;\n",
       "    }\n",
       "\n",
       "    .dataframe thead th {\n",
       "        text-align: right;\n",
       "    }\n",
       "</style>\n",
       "<table border=\"1\" class=\"dataframe\">\n",
       "  <thead>\n",
       "    <tr style=\"text-align: right;\">\n",
       "      <th></th>\n",
       "      <th>Day_Id</th>\n",
       "      <th>Spot1 maxDistance</th>\n",
       "      <th>Spot1 totalDistance</th>\n",
       "      <th>Spot1 totalFlights</th>\n",
       "      <th>Spot2 maxDistance</th>\n",
       "      <th>Spot2 totalDistance</th>\n",
       "      <th>Spot2 totalFlights</th>\n",
       "      <th>Spot3 maxDistance</th>\n",
       "      <th>Spot3 totalDistance</th>\n",
       "      <th>Spot3 totalFlights</th>\n",
       "      <th>...</th>\n",
       "      <th>Spot285 totalFlights</th>\n",
       "      <th>Spot286 maxDistance</th>\n",
       "      <th>Spot286 totalDistance</th>\n",
       "      <th>Spot286 totalFlights</th>\n",
       "      <th>Spot287 maxDistance</th>\n",
       "      <th>Spot287 totalDistance</th>\n",
       "      <th>Spot287 totalFlights</th>\n",
       "      <th>Spot288 maxDistance</th>\n",
       "      <th>Spot288 totalDistance</th>\n",
       "      <th>Spot288 totalFlights</th>\n",
       "    </tr>\n",
       "  </thead>\n",
       "  <tbody>\n",
       "    <tr>\n",
       "      <th>0</th>\n",
       "      <td>1</td>\n",
       "      <td>0.00</td>\n",
       "      <td>0.00</td>\n",
       "      <td>0</td>\n",
       "      <td>0.0</td>\n",
       "      <td>0.0</td>\n",
       "      <td>0</td>\n",
       "      <td>0.0</td>\n",
       "      <td>0.0</td>\n",
       "      <td>0</td>\n",
       "      <td>...</td>\n",
       "      <td>0</td>\n",
       "      <td>0.0</td>\n",
       "      <td>0.0</td>\n",
       "      <td>0</td>\n",
       "      <td>0.0</td>\n",
       "      <td>0.0</td>\n",
       "      <td>0</td>\n",
       "      <td>0.0</td>\n",
       "      <td>0.0</td>\n",
       "      <td>0</td>\n",
       "    </tr>\n",
       "    <tr>\n",
       "      <th>1</th>\n",
       "      <td>2</td>\n",
       "      <td>23.84</td>\n",
       "      <td>41.82</td>\n",
       "      <td>2</td>\n",
       "      <td>0.0</td>\n",
       "      <td>0.0</td>\n",
       "      <td>0</td>\n",
       "      <td>0.0</td>\n",
       "      <td>0.0</td>\n",
       "      <td>0</td>\n",
       "      <td>...</td>\n",
       "      <td>0</td>\n",
       "      <td>0.0</td>\n",
       "      <td>0.0</td>\n",
       "      <td>0</td>\n",
       "      <td>0.0</td>\n",
       "      <td>0.0</td>\n",
       "      <td>0</td>\n",
       "      <td>0.0</td>\n",
       "      <td>0.0</td>\n",
       "      <td>0</td>\n",
       "    </tr>\n",
       "    <tr>\n",
       "      <th>2</th>\n",
       "      <td>3</td>\n",
       "      <td>0.00</td>\n",
       "      <td>0.00</td>\n",
       "      <td>0</td>\n",
       "      <td>0.0</td>\n",
       "      <td>0.0</td>\n",
       "      <td>0</td>\n",
       "      <td>0.0</td>\n",
       "      <td>0.0</td>\n",
       "      <td>0</td>\n",
       "      <td>...</td>\n",
       "      <td>0</td>\n",
       "      <td>0.0</td>\n",
       "      <td>0.0</td>\n",
       "      <td>0</td>\n",
       "      <td>0.0</td>\n",
       "      <td>0.0</td>\n",
       "      <td>0</td>\n",
       "      <td>0.0</td>\n",
       "      <td>0.0</td>\n",
       "      <td>0</td>\n",
       "    </tr>\n",
       "    <tr>\n",
       "      <th>3</th>\n",
       "      <td>4</td>\n",
       "      <td>0.00</td>\n",
       "      <td>0.00</td>\n",
       "      <td>0</td>\n",
       "      <td>0.0</td>\n",
       "      <td>0.0</td>\n",
       "      <td>0</td>\n",
       "      <td>0.0</td>\n",
       "      <td>0.0</td>\n",
       "      <td>0</td>\n",
       "      <td>...</td>\n",
       "      <td>0</td>\n",
       "      <td>0.0</td>\n",
       "      <td>0.0</td>\n",
       "      <td>0</td>\n",
       "      <td>0.0</td>\n",
       "      <td>0.0</td>\n",
       "      <td>0</td>\n",
       "      <td>0.0</td>\n",
       "      <td>0.0</td>\n",
       "      <td>0</td>\n",
       "    </tr>\n",
       "    <tr>\n",
       "      <th>4</th>\n",
       "      <td>5</td>\n",
       "      <td>24.40</td>\n",
       "      <td>48.20</td>\n",
       "      <td>2</td>\n",
       "      <td>0.0</td>\n",
       "      <td>0.0</td>\n",
       "      <td>0</td>\n",
       "      <td>0.0</td>\n",
       "      <td>0.0</td>\n",
       "      <td>0</td>\n",
       "      <td>...</td>\n",
       "      <td>0</td>\n",
       "      <td>0.0</td>\n",
       "      <td>0.0</td>\n",
       "      <td>0</td>\n",
       "      <td>0.0</td>\n",
       "      <td>0.0</td>\n",
       "      <td>0</td>\n",
       "      <td>0.0</td>\n",
       "      <td>0.0</td>\n",
       "      <td>0</td>\n",
       "    </tr>\n",
       "  </tbody>\n",
       "</table>\n",
       "<p>5 rows × 865 columns</p>\n",
       "</div>"
      ],
      "text/plain": [
       "   Day_Id  Spot1 maxDistance  Spot1 totalDistance  Spot1 totalFlights  \\\n",
       "0       1               0.00                 0.00                   0   \n",
       "1       2              23.84                41.82                   2   \n",
       "2       3               0.00                 0.00                   0   \n",
       "3       4               0.00                 0.00                   0   \n",
       "4       5              24.40                48.20                   2   \n",
       "\n",
       "   Spot2 maxDistance  Spot2 totalDistance  Spot2 totalFlights  \\\n",
       "0                0.0                  0.0                   0   \n",
       "1                0.0                  0.0                   0   \n",
       "2                0.0                  0.0                   0   \n",
       "3                0.0                  0.0                   0   \n",
       "4                0.0                  0.0                   0   \n",
       "\n",
       "   Spot3 maxDistance  Spot3 totalDistance  Spot3 totalFlights  \\\n",
       "0                0.0                  0.0                   0   \n",
       "1                0.0                  0.0                   0   \n",
       "2                0.0                  0.0                   0   \n",
       "3                0.0                  0.0                   0   \n",
       "4                0.0                  0.0                   0   \n",
       "\n",
       "           ...           Spot285 totalFlights  Spot286 maxDistance  \\\n",
       "0          ...                              0                  0.0   \n",
       "1          ...                              0                  0.0   \n",
       "2          ...                              0                  0.0   \n",
       "3          ...                              0                  0.0   \n",
       "4          ...                              0                  0.0   \n",
       "\n",
       "   Spot286 totalDistance  Spot286 totalFlights  Spot287 maxDistance  \\\n",
       "0                    0.0                     0                  0.0   \n",
       "1                    0.0                     0                  0.0   \n",
       "2                    0.0                     0                  0.0   \n",
       "3                    0.0                     0                  0.0   \n",
       "4                    0.0                     0                  0.0   \n",
       "\n",
       "   Spot287 totalDistance  Spot287 totalFlights  Spot288 maxDistance  \\\n",
       "0                    0.0                     0                  0.0   \n",
       "1                    0.0                     0                  0.0   \n",
       "2                    0.0                     0                  0.0   \n",
       "3                    0.0                     0                  0.0   \n",
       "4                    0.0                     0                  0.0   \n",
       "\n",
       "   Spot288 totalDistance  Spot288 totalFlights  \n",
       "0                    0.0                     0  \n",
       "1                    0.0                     0  \n",
       "2                    0.0                     0  \n",
       "3                    0.0                     0  \n",
       "4                    0.0                     0  \n",
       "\n",
       "[5 rows x 865 columns]"
      ]
     },
     "execution_count": 9,
     "metadata": {},
     "output_type": "execute_result"
    }
   ],
   "source": [
    "pred.head()"
   ]
  },
  {
   "cell_type": "code",
   "execution_count": 10,
   "metadata": {},
   "outputs": [
    {
     "data": {
      "text/html": [
       "<div>\n",
       "<style scoped>\n",
       "    .dataframe tbody tr th:only-of-type {\n",
       "        vertical-align: middle;\n",
       "    }\n",
       "\n",
       "    .dataframe tbody tr th {\n",
       "        vertical-align: top;\n",
       "    }\n",
       "\n",
       "    .dataframe thead th {\n",
       "        text-align: right;\n",
       "    }\n",
       "</style>\n",
       "<table border=\"1\" class=\"dataframe\">\n",
       "  <thead>\n",
       "    <tr style=\"text-align: right;\">\n",
       "      <th></th>\n",
       "      <th>Day_Id</th>\n",
       "      <th>Station1 Dew Point Height1</th>\n",
       "      <th>Station1 Dew Point Height2</th>\n",
       "      <th>Station1 Dew Point Height3</th>\n",
       "      <th>Station1 Dew Point Height4</th>\n",
       "      <th>Station1 Dew Point Height5</th>\n",
       "      <th>Station1 Dew Point Height6</th>\n",
       "      <th>Station1 Dew Point Height7</th>\n",
       "      <th>Station1 Dew Point Height8</th>\n",
       "      <th>Station1 Dew Point Height9</th>\n",
       "      <th>...</th>\n",
       "      <th>Station5 Wind Speed Height36</th>\n",
       "      <th>Station5 Wind Speed Height37</th>\n",
       "      <th>Station5 Wind Speed Height38</th>\n",
       "      <th>Station5 Wind Speed Height39</th>\n",
       "      <th>Station5 Wind Speed Height40</th>\n",
       "      <th>Station5 Wind Speed Height41</th>\n",
       "      <th>Station5 Wind Speed Height42</th>\n",
       "      <th>Station5 Wind Speed Height43</th>\n",
       "      <th>Station5 Wind Speed Height44</th>\n",
       "      <th>Station5 Wind Speed Height45</th>\n",
       "    </tr>\n",
       "  </thead>\n",
       "  <tbody>\n",
       "    <tr>\n",
       "      <th>count</th>\n",
       "      <td>2183.000000</td>\n",
       "      <td>2183.000000</td>\n",
       "      <td>2183.000000</td>\n",
       "      <td>2183.000000</td>\n",
       "      <td>2183.000000</td>\n",
       "      <td>2183.000000</td>\n",
       "      <td>2183.000000</td>\n",
       "      <td>2183.000000</td>\n",
       "      <td>2183.000000</td>\n",
       "      <td>2183.000000</td>\n",
       "      <td>...</td>\n",
       "      <td>2183.000000</td>\n",
       "      <td>2183.000000</td>\n",
       "      <td>2183.000000</td>\n",
       "      <td>2183.000000</td>\n",
       "      <td>2183.000000</td>\n",
       "      <td>2183.000000</td>\n",
       "      <td>2183.000000</td>\n",
       "      <td>2183.000000</td>\n",
       "      <td>2183.000000</td>\n",
       "      <td>2183.000000</td>\n",
       "    </tr>\n",
       "    <tr>\n",
       "      <th>mean</th>\n",
       "      <td>1161.975263</td>\n",
       "      <td>5.424167</td>\n",
       "      <td>4.935076</td>\n",
       "      <td>4.461103</td>\n",
       "      <td>4.042764</td>\n",
       "      <td>3.554599</td>\n",
       "      <td>3.020216</td>\n",
       "      <td>2.470416</td>\n",
       "      <td>1.933228</td>\n",
       "      <td>1.396137</td>\n",
       "      <td>...</td>\n",
       "      <td>24.596934</td>\n",
       "      <td>24.916352</td>\n",
       "      <td>25.241739</td>\n",
       "      <td>25.573145</td>\n",
       "      <td>25.893053</td>\n",
       "      <td>26.221007</td>\n",
       "      <td>26.553247</td>\n",
       "      <td>26.890890</td>\n",
       "      <td>27.237081</td>\n",
       "      <td>27.584012</td>\n",
       "    </tr>\n",
       "    <tr>\n",
       "      <th>std</th>\n",
       "      <td>673.965531</td>\n",
       "      <td>9.471207</td>\n",
       "      <td>9.538955</td>\n",
       "      <td>9.693580</td>\n",
       "      <td>9.822583</td>\n",
       "      <td>9.861115</td>\n",
       "      <td>9.916416</td>\n",
       "      <td>9.997071</td>\n",
       "      <td>10.070162</td>\n",
       "      <td>10.135811</td>\n",
       "      <td>...</td>\n",
       "      <td>12.546472</td>\n",
       "      <td>12.710584</td>\n",
       "      <td>12.867511</td>\n",
       "      <td>13.028636</td>\n",
       "      <td>13.188974</td>\n",
       "      <td>13.345971</td>\n",
       "      <td>13.509388</td>\n",
       "      <td>13.692444</td>\n",
       "      <td>13.879558</td>\n",
       "      <td>14.084127</td>\n",
       "    </tr>\n",
       "    <tr>\n",
       "      <th>min</th>\n",
       "      <td>1.000000</td>\n",
       "      <td>-112.889831</td>\n",
       "      <td>-112.759452</td>\n",
       "      <td>-112.629074</td>\n",
       "      <td>-112.498696</td>\n",
       "      <td>-112.368318</td>\n",
       "      <td>-112.237940</td>\n",
       "      <td>-112.107562</td>\n",
       "      <td>-111.977184</td>\n",
       "      <td>-111.846806</td>\n",
       "      <td>...</td>\n",
       "      <td>0.000000</td>\n",
       "      <td>0.000000</td>\n",
       "      <td>0.009083</td>\n",
       "      <td>0.246400</td>\n",
       "      <td>0.103527</td>\n",
       "      <td>0.332447</td>\n",
       "      <td>0.198479</td>\n",
       "      <td>0.096386</td>\n",
       "      <td>0.147117</td>\n",
       "      <td>0.058398</td>\n",
       "    </tr>\n",
       "    <tr>\n",
       "      <th>25%</th>\n",
       "      <td>578.500000</td>\n",
       "      <td>1.232608</td>\n",
       "      <td>0.752023</td>\n",
       "      <td>0.237731</td>\n",
       "      <td>-0.372771</td>\n",
       "      <td>-0.812917</td>\n",
       "      <td>-1.441226</td>\n",
       "      <td>-2.268203</td>\n",
       "      <td>-2.781116</td>\n",
       "      <td>-3.409715</td>\n",
       "      <td>...</td>\n",
       "      <td>15.161252</td>\n",
       "      <td>15.429079</td>\n",
       "      <td>15.750631</td>\n",
       "      <td>16.026380</td>\n",
       "      <td>16.369179</td>\n",
       "      <td>16.453653</td>\n",
       "      <td>16.708970</td>\n",
       "      <td>16.831048</td>\n",
       "      <td>16.985326</td>\n",
       "      <td>17.249704</td>\n",
       "    </tr>\n",
       "    <tr>\n",
       "      <th>50%</th>\n",
       "      <td>1162.000000</td>\n",
       "      <td>6.414188</td>\n",
       "      <td>5.899363</td>\n",
       "      <td>5.588889</td>\n",
       "      <td>5.324444</td>\n",
       "      <td>4.784173</td>\n",
       "      <td>4.241860</td>\n",
       "      <td>3.742776</td>\n",
       "      <td>3.273444</td>\n",
       "      <td>2.698563</td>\n",
       "      <td>...</td>\n",
       "      <td>23.000000</td>\n",
       "      <td>23.014218</td>\n",
       "      <td>23.304348</td>\n",
       "      <td>23.593723</td>\n",
       "      <td>23.872340</td>\n",
       "      <td>24.000000</td>\n",
       "      <td>24.154587</td>\n",
       "      <td>24.454918</td>\n",
       "      <td>24.725689</td>\n",
       "      <td>25.000000</td>\n",
       "    </tr>\n",
       "    <tr>\n",
       "      <th>75%</th>\n",
       "      <td>1746.500000</td>\n",
       "      <td>11.651285</td>\n",
       "      <td>11.230862</td>\n",
       "      <td>10.890605</td>\n",
       "      <td>10.598843</td>\n",
       "      <td>10.138906</td>\n",
       "      <td>9.691971</td>\n",
       "      <td>9.354228</td>\n",
       "      <td>8.876311</td>\n",
       "      <td>8.321108</td>\n",
       "      <td>...</td>\n",
       "      <td>32.264178</td>\n",
       "      <td>32.778230</td>\n",
       "      <td>33.204379</td>\n",
       "      <td>33.733717</td>\n",
       "      <td>34.237816</td>\n",
       "      <td>34.683905</td>\n",
       "      <td>35.000000</td>\n",
       "      <td>35.322170</td>\n",
       "      <td>35.726893</td>\n",
       "      <td>35.973528</td>\n",
       "    </tr>\n",
       "    <tr>\n",
       "      <th>max</th>\n",
       "      <td>2332.000000</td>\n",
       "      <td>20.749333</td>\n",
       "      <td>20.233251</td>\n",
       "      <td>20.133995</td>\n",
       "      <td>20.034739</td>\n",
       "      <td>19.903465</td>\n",
       "      <td>19.754950</td>\n",
       "      <td>19.596154</td>\n",
       "      <td>19.431319</td>\n",
       "      <td>19.266484</td>\n",
       "      <td>...</td>\n",
       "      <td>76.809359</td>\n",
       "      <td>77.329289</td>\n",
       "      <td>77.849220</td>\n",
       "      <td>78.414720</td>\n",
       "      <td>78.998832</td>\n",
       "      <td>79.936937</td>\n",
       "      <td>81.922156</td>\n",
       "      <td>83.797688</td>\n",
       "      <td>85.642643</td>\n",
       "      <td>87.544545</td>\n",
       "    </tr>\n",
       "  </tbody>\n",
       "</table>\n",
       "<p>8 rows × 1126 columns</p>\n",
       "</div>"
      ],
      "text/plain": [
       "            Day_Id  Station1 Dew Point Height1  Station1 Dew Point Height2  \\\n",
       "count  2183.000000                 2183.000000                 2183.000000   \n",
       "mean   1161.975263                    5.424167                    4.935076   \n",
       "std     673.965531                    9.471207                    9.538955   \n",
       "min       1.000000                 -112.889831                 -112.759452   \n",
       "25%     578.500000                    1.232608                    0.752023   \n",
       "50%    1162.000000                    6.414188                    5.899363   \n",
       "75%    1746.500000                   11.651285                   11.230862   \n",
       "max    2332.000000                   20.749333                   20.233251   \n",
       "\n",
       "       Station1 Dew Point Height3  Station1 Dew Point Height4  \\\n",
       "count                 2183.000000                 2183.000000   \n",
       "mean                     4.461103                    4.042764   \n",
       "std                      9.693580                    9.822583   \n",
       "min                   -112.629074                 -112.498696   \n",
       "25%                      0.237731                   -0.372771   \n",
       "50%                      5.588889                    5.324444   \n",
       "75%                     10.890605                   10.598843   \n",
       "max                     20.133995                   20.034739   \n",
       "\n",
       "       Station1 Dew Point Height5  Station1 Dew Point Height6  \\\n",
       "count                 2183.000000                 2183.000000   \n",
       "mean                     3.554599                    3.020216   \n",
       "std                      9.861115                    9.916416   \n",
       "min                   -112.368318                 -112.237940   \n",
       "25%                     -0.812917                   -1.441226   \n",
       "50%                      4.784173                    4.241860   \n",
       "75%                     10.138906                    9.691971   \n",
       "max                     19.903465                   19.754950   \n",
       "\n",
       "       Station1 Dew Point Height7  Station1 Dew Point Height8  \\\n",
       "count                 2183.000000                 2183.000000   \n",
       "mean                     2.470416                    1.933228   \n",
       "std                      9.997071                   10.070162   \n",
       "min                   -112.107562                 -111.977184   \n",
       "25%                     -2.268203                   -2.781116   \n",
       "50%                      3.742776                    3.273444   \n",
       "75%                      9.354228                    8.876311   \n",
       "max                     19.596154                   19.431319   \n",
       "\n",
       "       Station1 Dew Point Height9              ...               \\\n",
       "count                 2183.000000              ...                \n",
       "mean                     1.396137              ...                \n",
       "std                     10.135811              ...                \n",
       "min                   -111.846806              ...                \n",
       "25%                     -3.409715              ...                \n",
       "50%                      2.698563              ...                \n",
       "75%                      8.321108              ...                \n",
       "max                     19.266484              ...                \n",
       "\n",
       "       Station5 Wind Speed Height36  Station5 Wind Speed Height37  \\\n",
       "count                   2183.000000                   2183.000000   \n",
       "mean                      24.596934                     24.916352   \n",
       "std                       12.546472                     12.710584   \n",
       "min                        0.000000                      0.000000   \n",
       "25%                       15.161252                     15.429079   \n",
       "50%                       23.000000                     23.014218   \n",
       "75%                       32.264178                     32.778230   \n",
       "max                       76.809359                     77.329289   \n",
       "\n",
       "       Station5 Wind Speed Height38  Station5 Wind Speed Height39  \\\n",
       "count                   2183.000000                   2183.000000   \n",
       "mean                      25.241739                     25.573145   \n",
       "std                       12.867511                     13.028636   \n",
       "min                        0.009083                      0.246400   \n",
       "25%                       15.750631                     16.026380   \n",
       "50%                       23.304348                     23.593723   \n",
       "75%                       33.204379                     33.733717   \n",
       "max                       77.849220                     78.414720   \n",
       "\n",
       "       Station5 Wind Speed Height40  Station5 Wind Speed Height41  \\\n",
       "count                   2183.000000                   2183.000000   \n",
       "mean                      25.893053                     26.221007   \n",
       "std                       13.188974                     13.345971   \n",
       "min                        0.103527                      0.332447   \n",
       "25%                       16.369179                     16.453653   \n",
       "50%                       23.872340                     24.000000   \n",
       "75%                       34.237816                     34.683905   \n",
       "max                       78.998832                     79.936937   \n",
       "\n",
       "       Station5 Wind Speed Height42  Station5 Wind Speed Height43  \\\n",
       "count                   2183.000000                   2183.000000   \n",
       "mean                      26.553247                     26.890890   \n",
       "std                       13.509388                     13.692444   \n",
       "min                        0.198479                      0.096386   \n",
       "25%                       16.708970                     16.831048   \n",
       "50%                       24.154587                     24.454918   \n",
       "75%                       35.000000                     35.322170   \n",
       "max                       81.922156                     83.797688   \n",
       "\n",
       "       Station5 Wind Speed Height44  Station5 Wind Speed Height45  \n",
       "count                   2183.000000                   2183.000000  \n",
       "mean                      27.237081                     27.584012  \n",
       "std                       13.879558                     14.084127  \n",
       "min                        0.147117                      0.058398  \n",
       "25%                       16.985326                     17.249704  \n",
       "50%                       24.725689                     25.000000  \n",
       "75%                       35.726893                     35.973528  \n",
       "max                       85.642643                     87.544545  \n",
       "\n",
       "[8 rows x 1126 columns]"
      ]
     },
     "execution_count": 10,
     "metadata": {},
     "output_type": "execute_result"
    }
   ],
   "source": [
    "train_df.describe()"
   ]
  },
  {
   "cell_type": "markdown",
   "metadata": {},
   "source": [
    "5 weather stations \n",
    "Every day around 2 AM weather data is collected for 45 heights at equal height intervals at each of these stations. Weather data collected includes pressure, temperature, dew point, wind speed and wind direction for each height. Using this weather data Laxman wants to predict whether it will be a good day or bad day for paragliding."
   ]
  },
  {
   "cell_type": "code",
   "execution_count": 11,
   "metadata": {
    "collapsed": true
   },
   "outputs": [],
   "source": [
    "import re\n",
    "dew_point_cols = [x for x in train_df.columns if re.search(r\".*Dew Point.*\",x)]\n",
    "pressure_cols = [x for x in train_df.columns if re.search(r\".*Pressure.*\",x)]\n",
    "temperature_cols = [x for x in train_df.columns if re.search(r\".*Temperature.*\",x)]\n",
    "wind_direction_cols = [x for x in train_df.columns if re.search(r\".*Wind Direction.*\",x)]\n",
    "wind_speed_cols = [x for x in train_df.columns if re.search(r\".*Wind Speed.*\",x)]"
   ]
  },
  {
   "cell_type": "code",
   "execution_count": 12,
   "metadata": {
    "collapsed": true
   },
   "outputs": [],
   "source": [
    "all_sensor_cols = dew_point_cols+pressure_cols+temperature_cols+wind_direction_cols+wind_speed_cols\n"
   ]
  },
  {
   "cell_type": "code",
   "execution_count": 13,
   "metadata": {},
   "outputs": [
    {
     "data": {
      "text/plain": [
       "1125"
      ]
     },
     "execution_count": 13,
     "metadata": {},
     "output_type": "execute_result"
    }
   ],
   "source": [
    "len(all_sensor_cols)"
   ]
  },
  {
   "cell_type": "markdown",
   "metadata": {},
   "source": [
    "##### Checking for Outliers and treating\n",
    "We have information that sometimes sensor devices at weather stations record wrong weather parameters, so we'll check for outliers and remove them using z score method. We could use robust z score method if we think the outlier values are very large and impacts the calculation of mean and standard deviation which is used in calculation z score,in our case it was checked and the normal z score method was able to identify ouliers with observations having absolute value of z score greater than 3."
   ]
  },
  {
   "cell_type": "code",
   "execution_count": 14,
   "metadata": {
    "collapsed": true
   },
   "outputs": [],
   "source": [
    "station1temp = [x for x in temperature_cols if re.search(r\".*Station1.*\",x)] \n",
    "#Station3 Dew Point Height1"
   ]
  },
  {
   "cell_type": "code",
   "execution_count": 15,
   "metadata": {},
   "outputs": [
    {
     "data": {
      "image/png": "[encoded data removed]",
      "text/plain": [
       "<Figure size 1008x432 with 1 Axes>"
      ]
     },
     "metadata": {},
     "output_type": "display_data"
    }
   ],
   "source": [
    "fig,ax = plt.subplots(figsize=(14,6))\n",
    "g = sns.boxplot(x=\"variable\", y=\"value\", data=pd.melt(train_df[station1temp]))\n",
    "g.set_xticklabels(g.get_xticklabels(), rotation=80)\n",
    "plt.show()"
   ]
  },
  {
   "cell_type": "markdown",
   "metadata": {},
   "source": [
    "As we can see in the boxplot of sensor measurement(temperature),there are outliers due to faulty sensors and needs to be removed before training the model,hence we calculate the z score and remove obsv with absolute values > 3 standard deviations."
   ]
  },
  {
   "cell_type": "code",
   "execution_count": 4,
   "metadata": {
    "collapsed": true
   },
   "outputs": [],
   "source": [
    "#def outliers_iqr(col,k=1.5):\n",
    "    #quartile_1, quartile_3 = np.percentile(col, [25, 75])\n",
    "    #iqr = quartile_3 - quartile_1\n",
    "    #lower_bound = quartile_1 - (iqr * k)\n",
    "    #upper_bound = quartile_3 + (iqr * k)\n",
    "    #print(col.name,sum([x < lower_bound or x > upper_bound for x in col]))\n",
    "    #return [True if x < lower_bound or x > upper_bound else False for x in col]"
   ]
  },
  {
   "cell_type": "code",
   "execution_count": null,
   "metadata": {
    "collapsed": true
   },
   "outputs": [],
   "source": [
    "from scipy import stats\n",
    "import numpy as np\n",
    "def remove_high_lev(df):\n",
    "    for station in range(1,6):\n",
    "        for col_type in (dew_point_cols,pressure_cols,temperature_cols,wind_direction_cols,wind_speed_cols):         \n",
    "            station_no_col_type = [x for x in col_type if re.search(r\".*Station\"+str(station)+\"\\s+.*\",x)]\n",
    "            z = np.abs(stats.zscore(df[station_no_col_type]))                        \n",
    "            df[station_no_col_type].drop(df[(z > 2).all(axis=1)].index,inplace=True)\n",
    "    return df                           "
   ]
  },
  {
   "cell_type": "code",
   "execution_count": 16,
   "metadata": {
    "collapsed": true
   },
   "outputs": [],
   "source": [
    "from scipy import stats\n",
    "import numpy as np\n",
    "def remove_high_lev(col):\n",
    "\n",
    "    #station_no_col_type = [x for x in col_type if re.search(r\".*Station\"+str(station)+\"\\s+.*\",x)]\n",
    "    #z = np.abs(stats.zscore(df[station_no_col_type]))    \n",
    "    z = np.abs(stats.zscore(col)) \n",
    "    return [True if x>3 else False for x in z]\n",
    "    #cdf = df[col_type].drop(df[(z > 3).all(axis=1)].index).copy()\n",
    "    #cdf = df[station_no_col_type].drop(df[(z > 3).all(axis=1)].index).copy()\n",
    "    #return cdf                           "
   ]
  },
  {
   "cell_type": "code",
   "execution_count": 17,
   "metadata": {
    "collapsed": true
   },
   "outputs": [],
   "source": [
    "outlier_mask = train_df[all_sensor_cols].apply(remove_high_lev)"
   ]
  },
  {
   "cell_type": "code",
   "execution_count": 18,
   "metadata": {},
   "outputs": [
    {
     "data": {
      "text/plain": [
       "((2183, 1125), (2183, 1126))"
      ]
     },
     "execution_count": 18,
     "metadata": {},
     "output_type": "execute_result"
    }
   ],
   "source": [
    "outlier_mask.shape,train_df.shape"
   ]
  },
  {
   "cell_type": "code",
   "execution_count": 19,
   "metadata": {
    "collapsed": true
   },
   "outputs": [],
   "source": [
    "train_df1 = train_df[~outlier_mask.any(axis=1)].copy()"
   ]
  },
  {
   "cell_type": "code",
   "execution_count": 20,
   "metadata": {},
   "outputs": [
    {
     "data": {
      "text/plain": [
       "(1670, 1126)"
      ]
     },
     "execution_count": 20,
     "metadata": {},
     "output_type": "execute_result"
    }
   ],
   "source": [
    "train_df1.shape"
   ]
  },
  {
   "cell_type": "markdown",
   "metadata": {},
   "source": [
    "We have removed records with faulty sensor measurements and will verify the same with boxplots."
   ]
  },
  {
   "cell_type": "code",
   "execution_count": 21,
   "metadata": {},
   "outputs": [
    {
     "data": {
      "image/png": "[encoded data removed]",
      "text/plain": [
       "<Figure size 1008x432 with 1 Axes>"
      ]
     },
     "metadata": {},
     "output_type": "display_data"
    }
   ],
   "source": [
    "fig,ax = plt.subplots(figsize=(14,6))\n",
    "g = sns.boxplot(x=\"variable\", y=\"value\", data=pd.melt(train_df1[station1temp]))\n",
    "g.set_xticklabels(g.get_xticklabels(), rotation=80)\n",
    "plt.show()"
   ]
  },
  {
   "cell_type": "markdown",
   "metadata": {},
   "source": [
    "We will join pred dataframe with train data which includes flight details for 288 paragliding spots for several days. Flight details for each spot include max distance, total distance, number of flights that took place at that spot on a particular day. The conclustion is that if the total number of flights combining all these spots is more than or equal to 15 then it is good day else it is a bad day for paragliding. "
   ]
  },
  {
   "cell_type": "code",
   "execution_count": 22,
   "metadata": {
    "collapsed": true
   },
   "outputs": [],
   "source": [
    "train_df_final = train_df1.merge(pred,on=['Day_Id'],how='left')\n",
    "import re\n",
    "total_flight_cols = [x for x in train_df_final.columns if re.search(r\".*totalFlights\",x)]\n",
    "train_df_final['total_flights'] = train_df_final[total_flight_cols].sum(axis=1)"
   ]
  },
  {
   "cell_type": "code",
   "execution_count": 23,
   "metadata": {},
   "outputs": [
    {
     "data": {
      "text/plain": [
       "array([  0,   3,   2,   7,   6,  21,   1,  11,  14,   9,  29,   4,  49,\n",
       "        13,  97,  53,  25,  10,  71,  74,  22, 156,  15,  16,   5,  32,\n",
       "        12,  24,   8,  75,  40,  30,  19,  35,  34,  58,  18,  20,  17,\n",
       "        81, 132, 102, 106,  96,  76, 111, 109,  57,  26,  91,  65,  62,\n",
       "        23,  60,  37,  46,  36,  66, 105,  78,  31,  55,  72, 125,  33,\n",
       "        93,  54,  27,  84,  63,  52,  28,  77, 137, 194, 110, 104, 164,\n",
       "       190, 150, 161,  47,  95,  80,  90,  43, 120,  56, 243, 170,  68,\n",
       "       128,  79, 158, 204,  82,  92, 142,  50,  73,  39, 126,  94, 141,\n",
       "        98,  89, 145, 107, 114,  70,  61,  41, 187,  51,  99,  67,  45,\n",
       "        88, 130, 100, 113, 307, 121, 222, 175, 249, 233, 172,  64,  42,\n",
       "       103, 168,  59, 144, 119, 152, 116, 157, 266,  48, 198, 295, 306,\n",
       "       245, 189, 140, 101,  69,  83,  44, 124, 117, 203, 394, 208, 176,\n",
       "       305, 178, 200,  86, 173, 242,  38, 248, 244, 153, 148, 313, 235,\n",
       "       134, 259, 177, 151, 146, 115,  85, 133, 182, 207, 171, 439, 509,\n",
       "       155, 186, 210, 167, 258, 197, 206, 444, 386, 195, 339, 256, 112,\n",
       "       162, 118, 224, 138, 226, 316, 344])"
      ]
     },
     "execution_count": 23,
     "metadata": {},
     "output_type": "execute_result"
    }
   ],
   "source": [
    "train_df_final['total_flights'].unique()"
   ]
  },
  {
   "cell_type": "code",
   "execution_count": 24,
   "metadata": {},
   "outputs": [
    {
     "data": {
      "text/plain": [
       "Text(0.5, 0.98, 'Histogram and boxplot of total_flights')"
      ]
     },
     "execution_count": 24,
     "metadata": {},
     "output_type": "execute_result"
    },
    {
     "data": {
      "image/png": "[encoded data removed]",
      "text/plain": [
       "<Figure size 1080x432 with 2 Axes>"
      ]
     },
     "metadata": {},
     "output_type": "display_data"
    }
   ],
   "source": [
    "fig,ax=plt.subplots(ncols=2,nrows=1,figsize=(15,6))\n",
    "sns.distplot(train_df_final['total_flights'],ax=ax[0])\n",
    "sns.boxplot(train_df_final['total_flights'],ax=ax[1],showfliers=False)##we are not showing very large values as we are only interested whether total flights was greater than 15 or not\n",
    "#sns.swarmplot(train_df_final['total_flights'], zorder=0,ax=ax[1],showfliers=False)\n",
    "fig.suptitle('Histogram and boxplot of total_flights')\n"
   ]
  },
  {
   "cell_type": "code",
   "execution_count": 25,
   "metadata": {
    "collapsed": true
   },
   "outputs": [],
   "source": [
    "train_df_final['label'] = np.where(train_df_final['total_flights']>=15,1,0)"
   ]
  },
  {
   "cell_type": "code",
   "execution_count": 143,
   "metadata": {},
   "outputs": [
    {
     "data": {
      "text/plain": [
       "<matplotlib.axes._subplots.AxesSubplot at 0x7f218b2ec710>"
      ]
     },
     "execution_count": 143,
     "metadata": {},
     "output_type": "execute_result"
    },
    {
     "data": {
      "image/png": "[encoded data removed]",
      "text/plain": [
       "<Figure size 432x288 with 1 Axes>"
      ]
     },
     "metadata": {},
     "output_type": "display_data"
    }
   ],
   "source": [
    "train_df_final['total_flights_bin'] = pd.qcut(train_df_final['total_flights'],q=[0, .25, .5, .75, 1.],labels = ['0-25Q', '25-50Q', '50-75Q', '75-100Q'])\n",
    "\n",
    "train_df_final['total_flights_range'] = pd.qcut(train_df_final['total_flights'],q=[0, .25, .55, .75, 1.])\n",
    "\n",
    "train_df_final['total_flights_range'] = train_df_final['total_flights_range'].astype('str')\n",
    "\n",
    "sns.countplot(train_df_final['total_flights_range'])#.value_counts()"
   ]
  },
  {
   "cell_type": "code",
   "execution_count": 29,
   "metadata": {
    "collapsed": true
   },
   "outputs": [],
   "source": [
    "train = train_df_final.copy()#[all_sensor_cols].copy()#.drop(columns=pred.columns,axis=1)\n",
    "train_labels = train_df_final['label'].copy()\n",
    "#train.drop(columns=['total_flights','label'],inplace=True)\n",
    "\n",
    "test = test_df.copy()#[all_sensor_cols].copy()#.drop(columns=['Day_Id'],inplace=True)"
   ]
  },
  {
   "cell_type": "code",
   "execution_count": 30,
   "metadata": {},
   "outputs": [
    {
     "data": {
      "text/plain": [
       "((1670, 1994), (1670,), (100, 1126))"
      ]
     },
     "execution_count": 30,
     "metadata": {},
     "output_type": "execute_result"
    }
   ],
   "source": [
    "train.shape,train_labels.shape,test.shape"
   ]
  },
  {
   "cell_type": "markdown",
   "metadata": {},
   "source": [
    "## Model Building & Validation"
   ]
  },
  {
   "cell_type": "code",
   "execution_count": 31,
   "metadata": {
    "collapsed": true
   },
   "outputs": [],
   "source": [
    "def random_grid_search_params(clf,random_grid,features):\n",
    "    clf_random = RandomizedSearchCV(estimator = clf,scoring='roc_auc', param_distributions = random_grid, n_iter = 100, cv = 3, verbose=2, random_state=42, n_jobs = -1)\n",
    "    # Fit the random search model\n",
    "    clf_random.fit(train_df_final[features], train_labels)\n",
    "    print(\">>Best_params<<\\n\",clf_random.best_params_)\n",
    "    print(\">>Best_score<<\\n\",clf_random.best_score_)\n",
    "    return clf_random.best_estimator_"
   ]
  },
  {
   "cell_type": "code",
   "execution_count": 32,
   "metadata": {
    "collapsed": true
   },
   "outputs": [],
   "source": [
    "from sklearn.model_selection import StratifiedKFold\n",
    "def stratify_kfold_cv(train_data,clf,features,weights=False):\n",
    "    split = StratifiedKFold(n_splits=5,random_state=43,shuffle=True)\n",
    "    i=1\n",
    "    X_preds = np.zeros(train_data.shape[0])\n",
    "    X_preds_label = np.zeros(train_data.shape[0])\n",
    "    preds = np.zeros(test_df.shape[0])\n",
    "    output_dict = dict()\n",
    "    for train_index,test_index in split.split(train_data,train_data['total_flights_range']):\n",
    "        #print(\"##########\")\n",
    "        #print(i,'fold>')\n",
    "        dict_results = dict()\n",
    "        X_train , X_val = train_data.iloc[train_index],train_data.iloc[test_index]\n",
    "        y_train , y_val = train_labels.iloc[train_index],train_labels.iloc[test_index]\n",
    "        X_train = X_train[features]\n",
    "        X_val = X_val[features]\n",
    "        if weights:\n",
    "            sample_weights_data = train_df_final['weights'].copy()\n",
    "            clf.fit(X_train,y_train,sample_weight=sample_weights_data)\n",
    "        else:\n",
    "            clf.fit(X_train,y_train)\n",
    "        #print(clf.feature_importances_)\n",
    "\n",
    "\n",
    "        X_preds[test_index] = clf.predict_proba(X_val)[:,1]\n",
    "        X_preds_label[test_index] = clf.predict(X_val)\n",
    "        #preds += clf.predict_proba(test_df)[:,1]\n",
    "        y_predicted_val = clf.predict_proba(X_val)[:,1]\n",
    "        auc = roc_auc_score(y_val, y_predicted_val)\n",
    "        dict_results['accuracy'] = accuracy_score(y_val, clf.predict(X_val))\n",
    "        dict_results['precision'] = precision_score(y_val, clf.predict(X_val))\n",
    "        dict_results['recall'] = recall_score(y_val, clf.predict(X_val))\n",
    "        dict_results['f1score'] = f1_score(y_val, clf.predict(X_val))\n",
    "        dict_results['roc_auc_score'] = auc\n",
    "        tn, fp, fn, tp = confusion_matrix(y_val, clf.predict(X_val)).ravel()\n",
    "        dict_results['TN'] = tn\n",
    "        dict_results['FP'] = fp\n",
    "        dict_results['FN'] = fn\n",
    "        dict_results['TP'] = tp\n",
    "        \n",
    "        output_dict[str(i)+\"Fold\"] = dict_results\n",
    "        print(str(i)+'fold completed')\n",
    "        i+=1\n",
    "    score = roc_auc_score(train_labels, X_preds)\n",
    "    mean_accuracy = accuracy_score(train_labels, X_preds_label)\n",
    "    mean_precision = precision_score(train_labels, X_preds_label)\n",
    "    mean_recall = recall_score(train_labels, X_preds_label)\n",
    "    mean_f1_score = f1_score(train_labels, X_preds_label)\n",
    "    tn, fp, fn, tp = confusion_matrix(train_labels, X_preds_label).ravel()\n",
    "    mean_dict = dict()\n",
    "    mean_dict['TN'] = tn\n",
    "    mean_dict['FP'] = fp\n",
    "    mean_dict['FN'] = fn\n",
    "    mean_dict['TP'] = tp\n",
    "    mean_dict['accuracy'] = mean_accuracy\n",
    "    mean_dict['precision'] = mean_precision\n",
    "    mean_dict['recall'] = mean_recall\n",
    "    mean_dict['f1score'] = mean_f1_score\n",
    "    mean_dict['roc_auc_score'] = score\n",
    "    output_dict['Overall'] = mean_dict\n",
    "    #print(pd.DataFrame(output_dict))\n",
    "    return (pd.DataFrame(output_dict))\n",
    "    "
   ]
  },
  {
   "cell_type": "markdown",
   "metadata": {},
   "source": [
    "#### Random forest w/ RandomizedsearchCV - Original features\n",
    "We will start with the original features avaiable and fit randomforest model to our data and check the performance using cross-validation mechanism"
   ]
  },
  {
   "cell_type": "code",
   "execution_count": 33,
   "metadata": {
    "collapsed": true
   },
   "outputs": [],
   "source": [
    "random_state = np.random.RandomState(0)\n",
    "rf_clf = RandomForestClassifier(random_state=random_state)\n",
    "\n",
    "n_estimators = [int(x) for x in np.linspace(start = 200, stop = 2000, num = 10)]# Number of trees in random forest\n",
    "max_features = ['auto', 'sqrt']# Number of features to consider at every split\n",
    "max_depth = [int(x) for x in np.linspace(10, 110, num = 11)]# Maximum number of levels in tree\n",
    "max_depth.append(None)\n",
    "min_samples_split = [2, 5, 10]# Minimum number of samples required to split a node\n",
    "min_samples_leaf = [1, 2, 4]# Minimum number of samples required at each leaf node\n",
    "bootstrap = [True, False]# Method of selecting samples for training each tree\n",
    "# Create the random grid\n",
    "rf_param_grid = {'n_estimators': n_estimators,\n",
    "               'max_features': max_features,\n",
    "               'max_depth': max_depth,\n",
    "               'min_samples_split': min_samples_split,\n",
    "               'min_samples_leaf': min_samples_leaf,\n",
    "               'bootstrap': bootstrap}"
   ]
  },
  {
   "cell_type": "code",
   "execution_count": 34,
   "metadata": {},
   "outputs": [
    {
     "name": "stdout",
     "output_type": "stream",
     "text": [
      "Fitting 3 folds for each of 100 candidates, totalling 300 fits\n"
     ]
    },
    {
     "name": "stderr",
     "output_type": "stream",
     "text": [
      "[Parallel(n_jobs=-1)]: Using backend LokyBackend with 16 concurrent workers.\n",
      "[Parallel(n_jobs=-1)]: Done   9 tasks      | elapsed:   58.6s\n",
      "[Parallel(n_jobs=-1)]: Done 130 tasks      | elapsed:  6.6min\n",
      "[Parallel(n_jobs=-1)]: Done 300 out of 300 | elapsed: 14.5min finished\n"
     ]
    },
    {
     "name": "stdout",
     "output_type": "stream",
     "text": [
      ">>Best_params<<\n",
      " {'n_estimators': 400, 'min_samples_split': 10, 'min_samples_leaf': 4, 'max_features': 'auto', 'max_depth': 70, 'bootstrap': True}\n",
      ">>Best_score<<\n",
      " 0.7365894697929011\n"
     ]
    }
   ],
   "source": [
    "rf_final = random_grid_search_params(rf_clf,rf_param_grid,all_sensor_cols)"
   ]
  },
  {
   "cell_type": "code",
   "execution_count": 35,
   "metadata": {},
   "outputs": [
    {
     "name": "stdout",
     "output_type": "stream",
     "text": [
      "1fold completed\n",
      "2fold completed\n",
      "3fold completed\n",
      "4fold completed\n",
      "5fold completed\n"
     ]
    }
   ],
   "source": [
    "rf_all_results=stratify_kfold_cv(train_df_final,rf_final,all_sensor_cols)##0.7666096465330601\n"
   ]
  },
  {
   "cell_type": "code",
   "execution_count": 36,
   "metadata": {},
   "outputs": [
    {
     "data": {
      "text/html": [
       "<div>\n",
       "<style scoped>\n",
       "    .dataframe tbody tr th:only-of-type {\n",
       "        vertical-align: middle;\n",
       "    }\n",
       "\n",
       "    .dataframe tbody tr th {\n",
       "        vertical-align: top;\n",
       "    }\n",
       "\n",
       "    .dataframe thead th {\n",
       "        text-align: right;\n",
       "    }\n",
       "</style>\n",
       "<table border=\"1\" class=\"dataframe\">\n",
       "  <thead>\n",
       "    <tr style=\"text-align: right;\">\n",
       "      <th></th>\n",
       "      <th>FN</th>\n",
       "      <th>FP</th>\n",
       "      <th>TN</th>\n",
       "      <th>TP</th>\n",
       "      <th>accuracy</th>\n",
       "      <th>f1score</th>\n",
       "      <th>precision</th>\n",
       "      <th>recall</th>\n",
       "      <th>roc_auc_score</th>\n",
       "    </tr>\n",
       "  </thead>\n",
       "  <tbody>\n",
       "    <tr>\n",
       "      <th>1Fold</th>\n",
       "      <td>55.0</td>\n",
       "      <td>35.0</td>\n",
       "      <td>147.0</td>\n",
       "      <td>98.0</td>\n",
       "      <td>0.731343</td>\n",
       "      <td>0.685315</td>\n",
       "      <td>0.736842</td>\n",
       "      <td>0.640523</td>\n",
       "      <td>0.798966</td>\n",
       "    </tr>\n",
       "    <tr>\n",
       "      <th>2Fold</th>\n",
       "      <td>54.0</td>\n",
       "      <td>54.0</td>\n",
       "      <td>133.0</td>\n",
       "      <td>94.0</td>\n",
       "      <td>0.677612</td>\n",
       "      <td>0.635135</td>\n",
       "      <td>0.635135</td>\n",
       "      <td>0.635135</td>\n",
       "      <td>0.733018</td>\n",
       "    </tr>\n",
       "    <tr>\n",
       "      <th>3Fold</th>\n",
       "      <td>56.0</td>\n",
       "      <td>44.0</td>\n",
       "      <td>138.0</td>\n",
       "      <td>97.0</td>\n",
       "      <td>0.701493</td>\n",
       "      <td>0.659864</td>\n",
       "      <td>0.687943</td>\n",
       "      <td>0.633987</td>\n",
       "      <td>0.752819</td>\n",
       "    </tr>\n",
       "    <tr>\n",
       "      <th>4Fold</th>\n",
       "      <td>53.0</td>\n",
       "      <td>51.0</td>\n",
       "      <td>131.0</td>\n",
       "      <td>98.0</td>\n",
       "      <td>0.687688</td>\n",
       "      <td>0.653333</td>\n",
       "      <td>0.657718</td>\n",
       "      <td>0.649007</td>\n",
       "      <td>0.752201</td>\n",
       "    </tr>\n",
       "    <tr>\n",
       "      <th>5Fold</th>\n",
       "      <td>61.0</td>\n",
       "      <td>44.0</td>\n",
       "      <td>137.0</td>\n",
       "      <td>90.0</td>\n",
       "      <td>0.683735</td>\n",
       "      <td>0.631579</td>\n",
       "      <td>0.671642</td>\n",
       "      <td>0.596026</td>\n",
       "      <td>0.770590</td>\n",
       "    </tr>\n",
       "    <tr>\n",
       "      <th>Overall</th>\n",
       "      <td>279.0</td>\n",
       "      <td>228.0</td>\n",
       "      <td>686.0</td>\n",
       "      <td>477.0</td>\n",
       "      <td>0.696407</td>\n",
       "      <td>0.652977</td>\n",
       "      <td>0.676596</td>\n",
       "      <td>0.630952</td>\n",
       "      <td>0.760795</td>\n",
       "    </tr>\n",
       "  </tbody>\n",
       "</table>\n",
       "</div>"
      ],
      "text/plain": [
       "            FN     FP     TN     TP  accuracy   f1score  precision    recall  \\\n",
       "1Fold     55.0   35.0  147.0   98.0  0.731343  0.685315   0.736842  0.640523   \n",
       "2Fold     54.0   54.0  133.0   94.0  0.677612  0.635135   0.635135  0.635135   \n",
       "3Fold     56.0   44.0  138.0   97.0  0.701493  0.659864   0.687943  0.633987   \n",
       "4Fold     53.0   51.0  131.0   98.0  0.687688  0.653333   0.657718  0.649007   \n",
       "5Fold     61.0   44.0  137.0   90.0  0.683735  0.631579   0.671642  0.596026   \n",
       "Overall  279.0  228.0  686.0  477.0  0.696407  0.652977   0.676596  0.630952   \n",
       "\n",
       "         roc_auc_score  \n",
       "1Fold         0.798966  \n",
       "2Fold         0.733018  \n",
       "3Fold         0.752819  \n",
       "4Fold         0.752201  \n",
       "5Fold         0.770590  \n",
       "Overall       0.760795  "
      ]
     },
     "execution_count": 36,
     "metadata": {},
     "output_type": "execute_result"
    }
   ],
   "source": [
    "rf_all_results.T"
   ]
  },
  {
   "cell_type": "raw",
   "metadata": {},
   "source": [
    "As we can see,the initial model provides a reasonable performance  although in our case we would be more interested in the precision of our model because the risk in predicting it is safe for flight when it actually isn't is very high and hence would like to improve our model with better features via feature engineering and other transformations of features before training the model"
   ]
  },
  {
   "cell_type": "code",
   "execution_count": 39,
   "metadata": {},
   "outputs": [
    {
     "data": {
      "text/plain": [
       "<matplotlib.axes._subplots.AxesSubplot at 0x7f21e8b79b38>"
      ]
     },
     "execution_count": 39,
     "metadata": {},
     "output_type": "execute_result"
    },
    {
     "data": {
      "image/png": "[encoded data removed]",
      "text/plain": [
       "<Figure size 432x288 with 1 Axes>"
      ]
     },
     "metadata": {},
     "output_type": "display_data"
    }
   ],
   "source": [
    "feat_imp = pd.DataFrame(rf_final.feature_importances_)\n",
    "feat_imp.columns = ['Feature_importance']\n",
    "feat_imp = feat_imp.assign(Column_name=all_sensor_cols)\n",
    "feat_imp.sort_values(by=['Feature_importance'],ascending=False).set_index('Column_name').head(30).plot(kind='barh')"
   ]
  },
  {
   "cell_type": "markdown",
   "metadata": {},
   "source": [
    "We cannot infer much from the feature importances due to the fact that our variable measurements would be highly correlated with measurements at different heights being used as features and hence the feature importance which is calcualted by mean reduction in impurity due to each feature at each split would be reduced.Although the importance of temperature and pressure is highlighted here.    \n",
    "\n",
    "Qouted from link \"http://blog.datadive.net/selecting-good-features-part-iii-random-forests/\"    \n",
    "\"Random forest consists of a number of decision trees. Every node in the decision trees is a condition on a single feature, designed to split the dataset into two so that similar response values end up in the same set. The measure based on which the (locally) optimal condition is chosen is called impurity. For classification, it is typically either Gini impurity or information gain/entropy and for regression trees it is variance. Thus when training a tree, it can be computed how much each feature decreases the weighted impurity in a tree. For a forest, the impurity decrease from each feature can be averaged and the features are ranked according to this measure.\"    \n",
    "\n",
    "\"There are a few things to keep in mind when using the impurity based ranking. Firstly, feature selection based on impurity reduction is biased towards preferring variables with more categories (see Bias in random forest variable importance measures). Secondly, when the dataset has two (or more) correlated features, then from the point of view of the model, any of these correlated features can be used as the predictor, with no concrete preference of one over the others. But once one of them is used, the importance of others is significantly reduced since effectively the impurity they can remove is already removed by the first feature. As a consequence, they will have a lower reported importance. This is not an issue when we want to use feature selection to reduce overfitting, since it makes sense to remove features that are mostly duplicated by other features. But when interpreting the data, it can lead to the incorrect conclusion that one of the variables is a strong predictor while the others in the same group are unimportant, while actually they are very close in terms of their relationship with the response variable.    \n",
    "\n",
    "The effect of this phenomenon is somewhat reduced thanks to random selection of features at each node creation, but in general the effect is not removed completely. For example, we have three correlated variables X0,X1,X2, and no noise in the data, with the output variable simply being the sum of the three features:    \n",
    "When we compute the feature importances, we see that X1 is computed to have over 10x higher importance than X2, while their “true” importance is very similar. This happens despite the fact that the data is noiseless, we use 20 trees, random selection of features (at each split, only two of the three features are considered) and a sufficiently large dataset.    \n",
    "\n",
    "One thing to point out though is that the difficulty of interpreting the importance/ranking of correlated variables is not random forest specific, but applies to most model based feature selection methods\"    "
   ]
  },
  {
   "cell_type": "markdown",
   "metadata": {},
   "source": [
    "### Feature enginnering\n"
   ]
  },
  {
   "cell_type": "markdown",
   "metadata": {},
   "source": [
    "We'll further try to bin measurements at similar heights as there wouldn't be much difference in sensor values.We could check this from boxplot of measurement values at heights closer to each other."
   ]
  },
  {
   "cell_type": "code",
   "execution_count": 43,
   "metadata": {
    "collapsed": true
   },
   "outputs": [],
   "source": [
    "stns=['Station1','Station2','Station3','Station4','Station5']\n",
    "def bin_measured_values(df,cols,coltype):\n",
    "    for stn in stns:\n",
    "        col = [x for x in cols if re.search(r\"\"+str(stn),x)]\n",
    "        for i in range(0,45,5):\n",
    "            \n",
    "            col_height_filter = [x for x in col if x.endswith(tuple(map(lambda x: 'Height'+str(x),range(i+1,i+6))))]\n",
    "            #print(col_height_filter)\n",
    "            #print(\"Height\"+str(1+i)+\"-\"+str(5+i))\n",
    "            df[stn+\" \"+coltype+\" \"+\"Height\"+str(1+i)+\"-\"+str(5+i)] = df[col_height_filter].mean(axis=1)\n",
    "    #print('completed')\n",
    "    \n",
    "for i,j in zip(['dew','pressure','temp','wind_dir','wind_speed'],[dew_point_cols,pressure_cols,temperature_cols,wind_direction_cols,wind_speed_cols]):    \n",
    "    bin_measured_values(train_df_final,j,i)\n",
    "    bin_measured_values(test_df,j,i)\n",
    "        #df[stn+\" \"+coltype+\" \"+\"Height\"+str(1+k)+\"-\"+str(5+k)] = df[col_height_filter].mean(axis=1)"
   ]
  },
  {
   "cell_type": "code",
   "execution_count": 44,
   "metadata": {
    "collapsed": true
   },
   "outputs": [],
   "source": [
    "def overall_measured_values(df,cols,coltype):\n",
    "    for stn in stns:\n",
    "        col = [x for x in cols if re.search(r\"\"+str(stn),x)]\n",
    "        df[stn+\" \"+coltype+\" \"+\"Height1-45\"] = df[col].mean(axis=1)\n",
    "for i,j in zip(['dew','pressure','temp','wind_dir','wind_speed'],[dew_point_cols,pressure_cols,temperature_cols,wind_direction_cols,wind_speed_cols]):    \n",
    "    overall_measured_values(train_df_final,j,i)\n",
    "    overall_measured_values(test_df,j,i)\n",
    "    "
   ]
  },
  {
   "cell_type": "code",
   "execution_count": 45,
   "metadata": {
    "collapsed": true
   },
   "outputs": [],
   "source": [
    "binning_features = [ x for x in train_df_final.columns if re.search(r\"Height\\d+-\\d+\",x)]"
   ]
  },
  {
   "cell_type": "markdown",
   "metadata": {},
   "source": [
    "We'll take the weighted average of each sensor measurements at each station based on their absolute values of correlation with total flights such that each feature is weighted differently, and the resulting feature tends to\n",
    "be more important in feature selection process while building each individual tree"
   ]
  },
  {
   "cell_type": "code",
   "execution_count": 46,
   "metadata": {},
   "outputs": [
    {
     "name": "stdout",
     "output_type": "stream",
     "text": [
      "Station1 dew Height1-5      0.043565\n",
      "Station1 dew Height6-10     0.042431\n",
      "Station1 dew Height11-15    0.043253\n",
      "Station1 dew Height16-20    0.016291\n",
      "Station1 dew Height21-25    0.027981\n",
      "Station1 dew Height26-30    0.008152\n",
      "Station1 dew Height31-35   -0.001672\n",
      "Station1 dew Height36-40   -0.006968\n",
      "Station1 dew Height41-45   -0.027207\n",
      "total_flights               1.000000\n",
      "Name: total_flights, dtype: float64\n",
      "Station1 temp Height1-5      0.193719\n",
      "Station1 temp Height6-10     0.184025\n",
      "Station1 temp Height11-15    0.172748\n",
      "Station1 temp Height16-20    0.166064\n",
      "Station1 temp Height21-25    0.147500\n",
      "Station1 temp Height26-30    0.139564\n",
      "Station1 temp Height31-35    0.133428\n",
      "Station1 temp Height36-40    0.131844\n",
      "Station1 temp Height41-45    0.136825\n",
      "total_flights                1.000000\n",
      "Name: total_flights, dtype: float64\n",
      "Station1 pressure Height1-5      0.210847\n",
      "Station1 pressure Height6-10     0.241342\n",
      "Station1 pressure Height11-15    0.253858\n",
      "Station1 pressure Height16-20    0.256485\n",
      "Station1 pressure Height21-25    0.250735\n",
      "Station1 pressure Height26-30    0.241025\n",
      "Station1 pressure Height31-35    0.232826\n",
      "Station1 pressure Height36-40    0.222451\n",
      "Station1 pressure Height41-45    0.214222\n",
      "total_flights                    1.000000\n",
      "Name: total_flights, dtype: float64\n",
      "Station1 wind_dir Height1-5     -0.010590\n",
      "Station1 wind_dir Height6-10    -0.027597\n",
      "Station1 wind_dir Height11-15   -0.008178\n",
      "Station1 wind_dir Height16-20   -0.032151\n",
      "Station1 wind_dir Height21-25   -0.028102\n",
      "Station1 wind_dir Height26-30   -0.069670\n",
      "Station1 wind_dir Height31-35   -0.082259\n",
      "Station1 wind_dir Height36-40   -0.050031\n",
      "Station1 wind_dir Height41-45   -0.038770\n",
      "total_flights                    1.000000\n",
      "Name: total_flights, dtype: float64\n",
      "Station1 wind_speed Height1-5     -0.047589\n",
      "Station1 wind_speed Height6-10    -0.117692\n",
      "Station1 wind_speed Height11-15   -0.118630\n",
      "Station1 wind_speed Height16-20   -0.138978\n",
      "Station1 wind_speed Height21-25   -0.185249\n",
      "Station1 wind_speed Height26-30   -0.197616\n",
      "Station1 wind_speed Height31-35   -0.174328\n",
      "Station1 wind_speed Height36-40   -0.160168\n",
      "Station1 wind_speed Height41-45   -0.143052\n",
      "total_flights                      1.000000\n",
      "Name: total_flights, dtype: float64\n"
     ]
    }
   ],
   "source": [
    "for coltype in ['dew','temp','pressure','wind_dir','wind_speed']:\n",
    "    test = train_df_final[['Station1 '+str(coltype)+' Height1-5','Station1 '+str(coltype)+' Height6-10','Station1 '+str(coltype)+' Height11-15',\n",
    "                           'Station1 '+str(coltype)+' Height16-20','Station1 '+str(coltype)+' Height21-25','Station1 '+str(coltype)+' Height26-30',\n",
    "                           'Station1 '+str(coltype)+' Height31-35','Station1 '+str(coltype)+' Height36-40','Station1 '+str(coltype)+' Height41-45',\n",
    "                           'total_flights']].copy()\n",
    "    print(test.corr()['total_flights'])"
   ]
  },
  {
   "cell_type": "code",
   "execution_count": 47,
   "metadata": {},
   "outputs": [
    {
     "data": {
      "image/png": "[encoded data removed]",
      "text/plain": [
       "<Figure size 1080x576 with 4 Axes>"
      ]
     },
     "metadata": {},
     "output_type": "display_data"
    }
   ],
   "source": [
    "fig,axs = plt.subplots(nrows=2,ncols=2,figsize=(15,8))\n",
    "axs = axs.flatten()\n",
    "sns.regplot(x='Station1 Pressure Height1', y='total_flights', data=train_df_final, ax=axs[0])\n",
    "#axs[0].set(xlim=(500, 970))\n",
    "sns.regplot(x='Station1 Pressure Height20', y='total_flights', data=train_df_final, ax=axs[1])\n",
    "#axs[1].set(xlim=(500, 970))\n",
    "sns.regplot(x='Station1 Pressure Height30', y='total_flights', data=train_df_final, ax=axs[2])\n",
    "#axs[2].set(xlim=(500, 970))\n",
    "sns.regplot(x='Station1 Pressure Height45', y='total_flights', data=train_df_final, ax=axs[3])\n",
    "#axs[3].set(xlim=(500, 970))\n",
    "\n",
    "plt.show()"
   ]
  },
  {
   "cell_type": "code",
   "execution_count": 48,
   "metadata": {
    "collapsed": true
   },
   "outputs": [],
   "source": [
    "from sklearn.preprocessing import MinMaxScaler\n",
    "sclr = MinMaxScaler(feature_range=(0.01,1))\n",
    "def calc_weights(stn_num,colstype):\n",
    "\n",
    "    stn1temp = [x for x in colstype if re.search(r\"\"+str(stn_num)+\"\\s+\",x)]\n",
    "    abs_corr  = abs(train_df_final[stn1temp+['total_flights']].corr()[['total_flights']][:-1])\n",
    "    weights = sclr.fit_transform(abs_corr)\n",
    "    #print(weights[0][0])\n",
    "    wts = [weights[i][0] for i in range(0,45)]\n",
    "    return wts"
   ]
  },
  {
   "cell_type": "code",
   "execution_count": 49,
   "metadata": {
    "collapsed": true
   },
   "outputs": [],
   "source": [
    "wts_dict = dict()\n",
    "\n",
    "\n",
    "wts_dict['Station1'] = {}\n",
    "wts_dict['Station2'] = {}\n",
    "wts_dict['Station3'] = {}\n",
    "wts_dict['Station4'] = {}\n",
    "wts_dict['Station5'] = {}\n",
    "for stn in ['Station1','Station2','Station3','Station4','Station5']:\n",
    "    wts_dict[stn]['temp'] = calc_weights(stn,temperature_cols)\n",
    "    wts_dict[stn]['dew'] = calc_weights(stn,dew_point_cols)\n",
    "    wts_dict[stn]['pressure'] = calc_weights(stn,pressure_cols)\n",
    "    wts_dict[stn]['wind_dir'] = calc_weights(stn,wind_direction_cols)\n",
    "    wts_dict[stn]['wind_speed'] = calc_weights(stn,wind_speed_cols)\n"
   ]
  },
  {
   "cell_type": "code",
   "execution_count": 50,
   "metadata": {
    "collapsed": true
   },
   "outputs": [],
   "source": [
    "\n",
    "for stn in stns:\n",
    "    for coltype,cols in zip(['dew','pressure','temp','wind_dir','wind_speed'],[dew_point_cols,pressure_cols,temperature_cols,wind_direction_cols,wind_speed_cols]):    \n",
    "        col = [x for x in cols if re.search(r\"\"+str(stn)+\"\\s+\",x)]\n",
    "        train_df_final[str(stn)+\" \"+str(coltype)+\"-wtavg\"] = train_df_final[col].apply(lambda x:np.average(x,weights=wts_dict[stn][coltype]),axis=1)\n",
    "    "
   ]
  },
  {
   "cell_type": "code",
   "execution_count": 51,
   "metadata": {
    "collapsed": true
   },
   "outputs": [],
   "source": [
    "stns=['Station1','Station2','Station3','Station4','Station5']\n",
    "for stn in stns:\n",
    "    for coltype,cols in zip(['dew','pressure','temp','wind_dir','wind_speed'],[dew_point_cols,pressure_cols,temperature_cols,wind_direction_cols,wind_speed_cols]):    \n",
    "        col = [x for x in cols if re.search(r\"\"+str(stn)+\"\\s+\",x)]\n",
    "        test_df[str(stn)+\" \"+str(coltype)+\"-wtavg\"] = test_df[col].apply(lambda x:np.average(x,weights=wts_dict[stn][coltype]),axis=1)\n",
    "    "
   ]
  },
  {
   "cell_type": "code",
   "execution_count": 52,
   "metadata": {
    "collapsed": true
   },
   "outputs": [],
   "source": [
    "weighted_avg_features = [x for x in train_df_final if re.search(r\"wtavg\",x)]"
   ]
  },
  {
   "cell_type": "markdown",
   "metadata": {},
   "source": [
    "Create features such as max,min,variance,difference of each measurement types"
   ]
  },
  {
   "cell_type": "code",
   "execution_count": 53,
   "metadata": {
    "collapsed": true
   },
   "outputs": [],
   "source": [
    "stns=['Station1','Station2','Station3','Station4','Station5']\n",
    "def new_feat(df,stns,cols_measures,coltype):\n",
    "    for stn in stns:\n",
    "        cols = [x for x in cols_measures if re.search(r\"^\"+stn,x)]\n",
    "        #print(cols)\n",
    "        df[stn+\" \"+coltype+\" \"+\"max\"] = df[cols].max(axis=1)\n",
    "        df[stn+\" \"+coltype+\" \"+\"min\"] = df[cols].min(axis=1)\n",
    "        df[stn+\" \"+coltype+\" \"+\"mean\"] = df[cols].mean(axis=1)\n",
    "        df[stn+\" \"+coltype+\" \"+\"std\"] = df[cols].std(axis=1)\n",
    "        df[stn+\" \"+coltype+\" \"+\"var\"] = df[cols].var(axis=1)\n",
    "        df[stn+\" \"+coltype+\" \"+\"max-min\"] = df[stn+\" \"+coltype+\" \"+\"max\"] - df[stn+\" \"+coltype+\" \"+\"min\"]\n",
    "        \n",
    "        \n",
    "for i,j in zip(['dew','pressure','temp','wind_dir','wind_speed'],[dew_point_cols,pressure_cols,temperature_cols,wind_direction_cols,wind_speed_cols]):                                              \n",
    "    new_feat(train_df_final,stns,j,i)  \n",
    "    new_feat(test_df,stns,j,i)\n"
   ]
  },
  {
   "cell_type": "code",
   "execution_count": 54,
   "metadata": {
    "collapsed": true
   },
   "outputs": [],
   "source": [
    "aggr_features = [x for x in train_df_final.columns if x.endswith(('max','min','max-min','mean','std','var'))]"
   ]
  },
  {
   "cell_type": "code",
   "execution_count": 1,
   "metadata": {},
   "outputs": [],
   "source": [
    "###hist plot of binned measurement features\n",
    "#num = [f for f in df_train.columns if df_train.dtypes[f] != 'object']\n",
    "numdf=pd.melt(train_df_final,value_vars=new_feat_cols1)\n",
    "numgrid=sns.FacetGrid(numdf,col='variable',col_wrap=4,sharex=False,sharey=False)\n",
    "numgrid=numgrid.map(sns.distplot,'value')\n",
    "numgrid.savefig(\"histogram_sensor_values.png\")"
   ]
  },
  {
   "cell_type": "code",
   "execution_count": 152,
   "metadata": {
    "collapsed": true
   },
   "outputs": [],
   "source": [
    "#pd.melt(train_df_final, value_vars=new_feat_cols1,id_vars='total_flights_range')"
   ]
  },
  {
   "cell_type": "code",
   "execution_count": 3,
   "metadata": {
    "collapsed": true
   },
   "outputs": [],
   "source": [
    "def boxplot(x,y,**kwargs):\n",
    "            sns.boxplot(x=x,y=y)\n",
    "            x = plt.xticks(rotation=90)\n",
    "def gen_box_plot(station_no):\n",
    "    cols = [x for x in new_feat_cols1 if re.search(r\"Station\"+str(station_no)+\"\\s\",x)]\n",
    "    p = pd.melt(train_df_final, value_vars=cols,id_vars='total_flights_range')\n",
    "    g = sns.FacetGrid (p, col='variable', col_wrap=2, sharex=False, sharey=False, size=5)\n",
    "    g = g.map(boxplot, 'total_flights_range','value')\n",
    "    g.savefig(\"boxplots_sensor_values_with_total_flights_bin\"+str(station_no)+\".png\")\n"
   ]
  },
  {
   "cell_type": "code",
   "execution_count": 2,
   "metadata": {},
   "outputs": [],
   "source": [
    "for stns in range(1,6):\n",
    "    gen_box_plot(stns)"
   ]
  },
  {
   "cell_type": "markdown",
   "metadata": {},
   "source": [
    "From the plots,windspeed,temperature and pressure seems to be correlated with the no of flights on a particular day"
   ]
  },
  {
   "cell_type": "markdown",
   "metadata": {},
   "source": [
    "From the PCA analysis performed in another notebook we can try using pca features in our model,especially the pressure and temperature components since the first 3 pricipal components are explaining more than 90% variance in data,moreover pressure and temperature plays an importanat role in deciding of flights on a particular day. Refer PCA analysis notebook for further understanding on explained variance for each sensor measurements across stations."
   ]
  },
  {
   "cell_type": "code",
   "execution_count": 55,
   "metadata": {
    "collapsed": true
   },
   "outputs": [],
   "source": [
    "scaler = StandardScaler()\n",
    "pcadf = train_df_final[all_sensor_cols+['Day_Id']].copy()\n",
    "pcadf[all_sensor_cols] = scaler.fit_transform(pcadf[all_sensor_cols])\n"
   ]
  },
  {
   "cell_type": "code",
   "execution_count": 56,
   "metadata": {
    "collapsed": true
   },
   "outputs": [],
   "source": [
    "pca = PCA(n_components=3)\n",
    "\n",
    "pcadf['PC1'+'temp'] = pca.fit_transform(pcadf[temperature_cols].values)[:,0]\n",
    "pcadf['PC2'+'temp'] = pca.fit_transform(pcadf[temperature_cols].values)[:,1]\n",
    "pcadf['PC3'+'temp'] = pca.fit_transform(pcadf[temperature_cols].values)[:,2]\n",
    "\n",
    "pcadf['PC1'+'pressure'] = pca.fit_transform(pcadf[pressure_cols].values)[:,0]\n",
    "pcadf['PC2'+'pressure'] = pca.fit_transform(pcadf[pressure_cols].values)[:,1]\n",
    "pcadf['PC3'+'pressure'] = pca.fit_transform(pcadf[pressure_cols].values)[:,2]"
   ]
  },
  {
   "cell_type": "code",
   "execution_count": 57,
   "metadata": {
    "collapsed": true
   },
   "outputs": [],
   "source": [
    "train_df_final = train_df_final.merge(pcadf[['PC1temp','PC2temp','PC3temp','PC1pressure','PC2pressure','PC3pressure','Day_Id']],on=['Day_Id'],how='left')"
   ]
  },
  {
   "cell_type": "code",
   "execution_count": 58,
   "metadata": {
    "collapsed": true
   },
   "outputs": [],
   "source": [
    "test_df['PC1'+'temp'] = pca.transform(test_df[temperature_cols].values)[:,0]\n",
    "test_df['PC2'+'temp'] = pca.transform(test_df[temperature_cols].values)[:,1]\n",
    "test_df['PC3'+'temp'] = pca.transform(test_df[temperature_cols].values)[:,2]\n",
    "\n",
    "test_df['PC1'+'pressure'] = pca.transform(test_df[pressure_cols].values)[:,0]\n",
    "test_df['PC2'+'pressure'] = pca.transform(test_df[pressure_cols].values)[:,1]\n",
    "test_df['PC3'+'pressure'] = pca.transform(test_df[pressure_cols].values)[:,2]"
   ]
  },
  {
   "cell_type": "code",
   "execution_count": 60,
   "metadata": {
    "collapsed": true
   },
   "outputs": [],
   "source": [
    "pca_features = ['PC1temp','PC2temp','PC3temp','PC1pressure','PC2pressure','PC3pressure']"
   ]
  },
  {
   "cell_type": "code",
   "execution_count": 63,
   "metadata": {
    "collapsed": true
   },
   "outputs": [],
   "source": [
    "engineered_features = binning_features+weighted_avg_features+aggr_features+pca_features"
   ]
  },
  {
   "cell_type": "markdown",
   "metadata": {},
   "source": [
    "### Random forest with new features"
   ]
  },
  {
   "cell_type": "code",
   "execution_count": 64,
   "metadata": {},
   "outputs": [
    {
     "name": "stdout",
     "output_type": "stream",
     "text": [
      "Fitting 3 folds for each of 100 candidates, totalling 300 fits\n"
     ]
    },
    {
     "name": "stderr",
     "output_type": "stream",
     "text": [
      "[Parallel(n_jobs=-1)]: Using backend LokyBackend with 16 concurrent workers.\n",
      "[Parallel(n_jobs=-1)]: Done   9 tasks      | elapsed:   34.3s\n",
      "[Parallel(n_jobs=-1)]: Done 130 tasks      | elapsed:  4.1min\n",
      "[Parallel(n_jobs=-1)]: Done 300 out of 300 | elapsed:  9.0min finished\n"
     ]
    },
    {
     "name": "stdout",
     "output_type": "stream",
     "text": [
      ">>Best_params<<\n",
      " {'n_estimators': 1400, 'min_samples_split': 5, 'min_samples_leaf': 4, 'max_features': 'sqrt', 'max_depth': 80, 'bootstrap': True}\n",
      ">>Best_score<<\n",
      " 0.7385785041732961\n",
      "1fold completed\n",
      "2fold completed\n",
      "3fold completed\n",
      "4fold completed\n",
      "5fold completed\n"
     ]
    }
   ],
   "source": [
    "rf_new = random_grid_search_params(rf_clf,rf_param_grid,engineered_features)\n",
    "rf_new_feat_results = stratify_kfold_cv(train_df_final,rf_new,engineered_features)"
   ]
  },
  {
   "cell_type": "code",
   "execution_count": 65,
   "metadata": {},
   "outputs": [
    {
     "data": {
      "text/html": [
       "<div>\n",
       "<style scoped>\n",
       "    .dataframe tbody tr th:only-of-type {\n",
       "        vertical-align: middle;\n",
       "    }\n",
       "\n",
       "    .dataframe tbody tr th {\n",
       "        vertical-align: top;\n",
       "    }\n",
       "\n",
       "    .dataframe thead th {\n",
       "        text-align: right;\n",
       "    }\n",
       "</style>\n",
       "<table border=\"1\" class=\"dataframe\">\n",
       "  <thead>\n",
       "    <tr style=\"text-align: right;\">\n",
       "      <th></th>\n",
       "      <th>FN</th>\n",
       "      <th>FP</th>\n",
       "      <th>TN</th>\n",
       "      <th>TP</th>\n",
       "      <th>accuracy</th>\n",
       "      <th>f1score</th>\n",
       "      <th>precision</th>\n",
       "      <th>recall</th>\n",
       "      <th>roc_auc_score</th>\n",
       "    </tr>\n",
       "  </thead>\n",
       "  <tbody>\n",
       "    <tr>\n",
       "      <th>1Fold</th>\n",
       "      <td>55.0</td>\n",
       "      <td>38.0</td>\n",
       "      <td>144.0</td>\n",
       "      <td>98.0</td>\n",
       "      <td>0.722388</td>\n",
       "      <td>0.678201</td>\n",
       "      <td>0.720588</td>\n",
       "      <td>0.640523</td>\n",
       "      <td>0.800151</td>\n",
       "    </tr>\n",
       "    <tr>\n",
       "      <th>2Fold</th>\n",
       "      <td>55.0</td>\n",
       "      <td>53.0</td>\n",
       "      <td>134.0</td>\n",
       "      <td>93.0</td>\n",
       "      <td>0.677612</td>\n",
       "      <td>0.632653</td>\n",
       "      <td>0.636986</td>\n",
       "      <td>0.628378</td>\n",
       "      <td>0.737751</td>\n",
       "    </tr>\n",
       "    <tr>\n",
       "      <th>3Fold</th>\n",
       "      <td>55.0</td>\n",
       "      <td>42.0</td>\n",
       "      <td>140.0</td>\n",
       "      <td>98.0</td>\n",
       "      <td>0.710448</td>\n",
       "      <td>0.668942</td>\n",
       "      <td>0.700000</td>\n",
       "      <td>0.640523</td>\n",
       "      <td>0.754435</td>\n",
       "    </tr>\n",
       "    <tr>\n",
       "      <th>4Fold</th>\n",
       "      <td>51.0</td>\n",
       "      <td>47.0</td>\n",
       "      <td>135.0</td>\n",
       "      <td>100.0</td>\n",
       "      <td>0.705706</td>\n",
       "      <td>0.671141</td>\n",
       "      <td>0.680272</td>\n",
       "      <td>0.662252</td>\n",
       "      <td>0.764719</td>\n",
       "    </tr>\n",
       "    <tr>\n",
       "      <th>5Fold</th>\n",
       "      <td>59.0</td>\n",
       "      <td>47.0</td>\n",
       "      <td>134.0</td>\n",
       "      <td>92.0</td>\n",
       "      <td>0.680723</td>\n",
       "      <td>0.634483</td>\n",
       "      <td>0.661871</td>\n",
       "      <td>0.609272</td>\n",
       "      <td>0.770846</td>\n",
       "    </tr>\n",
       "    <tr>\n",
       "      <th>Overall</th>\n",
       "      <td>275.0</td>\n",
       "      <td>227.0</td>\n",
       "      <td>687.0</td>\n",
       "      <td>481.0</td>\n",
       "      <td>0.699401</td>\n",
       "      <td>0.657104</td>\n",
       "      <td>0.679379</td>\n",
       "      <td>0.636243</td>\n",
       "      <td>0.765141</td>\n",
       "    </tr>\n",
       "  </tbody>\n",
       "</table>\n",
       "</div>"
      ],
      "text/plain": [
       "            FN     FP     TN     TP  accuracy   f1score  precision    recall  \\\n",
       "1Fold     55.0   38.0  144.0   98.0  0.722388  0.678201   0.720588  0.640523   \n",
       "2Fold     55.0   53.0  134.0   93.0  0.677612  0.632653   0.636986  0.628378   \n",
       "3Fold     55.0   42.0  140.0   98.0  0.710448  0.668942   0.700000  0.640523   \n",
       "4Fold     51.0   47.0  135.0  100.0  0.705706  0.671141   0.680272  0.662252   \n",
       "5Fold     59.0   47.0  134.0   92.0  0.680723  0.634483   0.661871  0.609272   \n",
       "Overall  275.0  227.0  687.0  481.0  0.699401  0.657104   0.679379  0.636243   \n",
       "\n",
       "         roc_auc_score  \n",
       "1Fold         0.800151  \n",
       "2Fold         0.737751  \n",
       "3Fold         0.754435  \n",
       "4Fold         0.764719  \n",
       "5Fold         0.770846  \n",
       "Overall       0.765141  "
      ]
     },
     "execution_count": 65,
     "metadata": {},
     "output_type": "execute_result"
    }
   ],
   "source": [
    "rf_new_feat_results.T"
   ]
  },
  {
   "cell_type": "code",
   "execution_count": 71,
   "metadata": {},
   "outputs": [
    {
     "data": {
      "text/plain": [
       "<matplotlib.axes._subplots.AxesSubplot at 0x7f21a838dd30>"
      ]
     },
     "execution_count": 71,
     "metadata": {},
     "output_type": "execute_result"
    },
    {
     "data": {
      "image/png": "[encoded data removed]",
      "text/plain": [
       "<Figure size 432x288 with 1 Axes>"
      ]
     },
     "metadata": {},
     "output_type": "display_data"
    }
   ],
   "source": [
    "engg_feat_imp = pd.DataFrame(rf_new.feature_importances_)\n",
    "engg_feat_imp.columns = ['Feature_importance']\n",
    "engg_feat_imp = engg_feat_imp.assign(Column_name=engineered_features)\n",
    "engg_feat_imp.sort_values(by=['Feature_importance'],ascending=False).set_index('Column_name').head(20).plot(kind='barh')"
   ]
  },
  {
   "cell_type": "code",
   "execution_count": 67,
   "metadata": {},
   "outputs": [
    {
     "data": {
      "text/plain": [
       "(431, 1125)"
      ]
     },
     "execution_count": 67,
     "metadata": {},
     "output_type": "execute_result"
    }
   ],
   "source": [
    "len(engineered_features),len(all_sensor_cols)"
   ]
  },
  {
   "cell_type": "markdown",
   "metadata": {},
   "source": [
    "Slight improvement in performance with comparitively lesser number of features engineered from original features.We have reduced the 1125 dimesional features space to 431 dimensions through feature engineering and further improved the performance"
   ]
  },
  {
   "cell_type": "markdown",
   "metadata": {},
   "source": [
    "## AdaBoost"
   ]
  },
  {
   "cell_type": "code",
   "execution_count": 72,
   "metadata": {},
   "outputs": [
    {
     "name": "stdout",
     "output_type": "stream",
     "text": [
      "1fold completed\n",
      "2fold completed\n",
      "3fold completed\n",
      "4fold completed\n",
      "5fold completed\n"
     ]
    }
   ],
   "source": [
    "from sklearn.ensemble import AdaBoostClassifier\n",
    "adabst_clf = AdaBoostClassifier(n_estimators=50,\n",
    "                         learning_rate=0.5,\n",
    "                         random_state=0)\n",
    "adabst_result = stratify_kfold_cv(train_df_final,adabst_clf,engineered_features)"
   ]
  },
  {
   "cell_type": "code",
   "execution_count": 77,
   "metadata": {},
   "outputs": [
    {
     "data": {
      "text/html": [
       "<div>\n",
       "<style scoped>\n",
       "    .dataframe tbody tr th:only-of-type {\n",
       "        vertical-align: middle;\n",
       "    }\n",
       "\n",
       "    .dataframe tbody tr th {\n",
       "        vertical-align: top;\n",
       "    }\n",
       "\n",
       "    .dataframe thead th {\n",
       "        text-align: right;\n",
       "    }\n",
       "</style>\n",
       "<table border=\"1\" class=\"dataframe\">\n",
       "  <thead>\n",
       "    <tr style=\"text-align: right;\">\n",
       "      <th></th>\n",
       "      <th>FN</th>\n",
       "      <th>FP</th>\n",
       "      <th>TN</th>\n",
       "      <th>TP</th>\n",
       "      <th>accuracy</th>\n",
       "      <th>f1score</th>\n",
       "      <th>precision</th>\n",
       "      <th>recall</th>\n",
       "      <th>roc_auc_score</th>\n",
       "    </tr>\n",
       "  </thead>\n",
       "  <tbody>\n",
       "    <tr>\n",
       "      <th>1Fold</th>\n",
       "      <td>59.0</td>\n",
       "      <td>43.0</td>\n",
       "      <td>139.0</td>\n",
       "      <td>94.0</td>\n",
       "      <td>0.695522</td>\n",
       "      <td>0.648276</td>\n",
       "      <td>0.686131</td>\n",
       "      <td>0.614379</td>\n",
       "      <td>0.769339</td>\n",
       "    </tr>\n",
       "    <tr>\n",
       "      <th>2Fold</th>\n",
       "      <td>61.0</td>\n",
       "      <td>53.0</td>\n",
       "      <td>134.0</td>\n",
       "      <td>87.0</td>\n",
       "      <td>0.659701</td>\n",
       "      <td>0.604167</td>\n",
       "      <td>0.621429</td>\n",
       "      <td>0.587838</td>\n",
       "      <td>0.722250</td>\n",
       "    </tr>\n",
       "    <tr>\n",
       "      <th>3Fold</th>\n",
       "      <td>65.0</td>\n",
       "      <td>46.0</td>\n",
       "      <td>136.0</td>\n",
       "      <td>88.0</td>\n",
       "      <td>0.668657</td>\n",
       "      <td>0.613240</td>\n",
       "      <td>0.656716</td>\n",
       "      <td>0.575163</td>\n",
       "      <td>0.729135</td>\n",
       "    </tr>\n",
       "    <tr>\n",
       "      <th>4Fold</th>\n",
       "      <td>52.0</td>\n",
       "      <td>50.0</td>\n",
       "      <td>132.0</td>\n",
       "      <td>99.0</td>\n",
       "      <td>0.693694</td>\n",
       "      <td>0.660000</td>\n",
       "      <td>0.664430</td>\n",
       "      <td>0.655629</td>\n",
       "      <td>0.761553</td>\n",
       "    </tr>\n",
       "    <tr>\n",
       "      <th>5Fold</th>\n",
       "      <td>60.0</td>\n",
       "      <td>54.0</td>\n",
       "      <td>127.0</td>\n",
       "      <td>91.0</td>\n",
       "      <td>0.656627</td>\n",
       "      <td>0.614865</td>\n",
       "      <td>0.627586</td>\n",
       "      <td>0.602649</td>\n",
       "      <td>0.725586</td>\n",
       "    </tr>\n",
       "    <tr>\n",
       "      <th>Overall</th>\n",
       "      <td>297.0</td>\n",
       "      <td>246.0</td>\n",
       "      <td>668.0</td>\n",
       "      <td>459.0</td>\n",
       "      <td>0.674850</td>\n",
       "      <td>0.628337</td>\n",
       "      <td>0.651064</td>\n",
       "      <td>0.607143</td>\n",
       "      <td>0.741207</td>\n",
       "    </tr>\n",
       "  </tbody>\n",
       "</table>\n",
       "</div>"
      ],
      "text/plain": [
       "            FN     FP     TN     TP  accuracy   f1score  precision    recall  \\\n",
       "1Fold     59.0   43.0  139.0   94.0  0.695522  0.648276   0.686131  0.614379   \n",
       "2Fold     61.0   53.0  134.0   87.0  0.659701  0.604167   0.621429  0.587838   \n",
       "3Fold     65.0   46.0  136.0   88.0  0.668657  0.613240   0.656716  0.575163   \n",
       "4Fold     52.0   50.0  132.0   99.0  0.693694  0.660000   0.664430  0.655629   \n",
       "5Fold     60.0   54.0  127.0   91.0  0.656627  0.614865   0.627586  0.602649   \n",
       "Overall  297.0  246.0  668.0  459.0  0.674850  0.628337   0.651064  0.607143   \n",
       "\n",
       "         roc_auc_score  \n",
       "1Fold         0.769339  \n",
       "2Fold         0.722250  \n",
       "3Fold         0.729135  \n",
       "4Fold         0.761553  \n",
       "5Fold         0.725586  \n",
       "Overall       0.741207  "
      ]
     },
     "execution_count": 77,
     "metadata": {},
     "output_type": "execute_result"
    }
   ],
   "source": [
    "adabst_result.T"
   ]
  },
  {
   "cell_type": "markdown",
   "metadata": {},
   "source": [
    "### Light GBM"
   ]
  },
  {
   "cell_type": "code",
   "execution_count": 75,
   "metadata": {},
   "outputs": [
    {
     "name": "stdout",
     "output_type": "stream",
     "text": [
      "1fold completed\n",
      "2fold completed\n",
      "3fold completed\n",
      "4fold completed\n",
      "5fold completed\n"
     ]
    }
   ],
   "source": [
    "lgbm_model = lgb.LGBMClassifier(lambda_l2=1.0,feature_fraction=0.6,num_boost_round=1200,num_leaves=9)\n",
    "lgbm_new_feat_results = stratify_kfold_cv(train_df_final,lgbm_model,engineered_features)"
   ]
  },
  {
   "cell_type": "code",
   "execution_count": 78,
   "metadata": {},
   "outputs": [
    {
     "data": {
      "text/html": [
       "<div>\n",
       "<style scoped>\n",
       "    .dataframe tbody tr th:only-of-type {\n",
       "        vertical-align: middle;\n",
       "    }\n",
       "\n",
       "    .dataframe tbody tr th {\n",
       "        vertical-align: top;\n",
       "    }\n",
       "\n",
       "    .dataframe thead th {\n",
       "        text-align: right;\n",
       "    }\n",
       "</style>\n",
       "<table border=\"1\" class=\"dataframe\">\n",
       "  <thead>\n",
       "    <tr style=\"text-align: right;\">\n",
       "      <th></th>\n",
       "      <th>FN</th>\n",
       "      <th>FP</th>\n",
       "      <th>TN</th>\n",
       "      <th>TP</th>\n",
       "      <th>accuracy</th>\n",
       "      <th>f1score</th>\n",
       "      <th>precision</th>\n",
       "      <th>recall</th>\n",
       "      <th>roc_auc_score</th>\n",
       "    </tr>\n",
       "  </thead>\n",
       "  <tbody>\n",
       "    <tr>\n",
       "      <th>1Fold</th>\n",
       "      <td>56.0</td>\n",
       "      <td>39.0</td>\n",
       "      <td>143.0</td>\n",
       "      <td>97.0</td>\n",
       "      <td>0.716418</td>\n",
       "      <td>0.671280</td>\n",
       "      <td>0.713235</td>\n",
       "      <td>0.633987</td>\n",
       "      <td>0.795877</td>\n",
       "    </tr>\n",
       "    <tr>\n",
       "      <th>2Fold</th>\n",
       "      <td>52.0</td>\n",
       "      <td>47.0</td>\n",
       "      <td>140.0</td>\n",
       "      <td>96.0</td>\n",
       "      <td>0.704478</td>\n",
       "      <td>0.659794</td>\n",
       "      <td>0.671329</td>\n",
       "      <td>0.648649</td>\n",
       "      <td>0.750470</td>\n",
       "    </tr>\n",
       "    <tr>\n",
       "      <th>3Fold</th>\n",
       "      <td>58.0</td>\n",
       "      <td>50.0</td>\n",
       "      <td>132.0</td>\n",
       "      <td>95.0</td>\n",
       "      <td>0.677612</td>\n",
       "      <td>0.637584</td>\n",
       "      <td>0.655172</td>\n",
       "      <td>0.620915</td>\n",
       "      <td>0.754148</td>\n",
       "    </tr>\n",
       "    <tr>\n",
       "      <th>4Fold</th>\n",
       "      <td>44.0</td>\n",
       "      <td>57.0</td>\n",
       "      <td>125.0</td>\n",
       "      <td>107.0</td>\n",
       "      <td>0.696697</td>\n",
       "      <td>0.679365</td>\n",
       "      <td>0.652439</td>\n",
       "      <td>0.708609</td>\n",
       "      <td>0.772142</td>\n",
       "    </tr>\n",
       "    <tr>\n",
       "      <th>5Fold</th>\n",
       "      <td>58.0</td>\n",
       "      <td>53.0</td>\n",
       "      <td>128.0</td>\n",
       "      <td>93.0</td>\n",
       "      <td>0.665663</td>\n",
       "      <td>0.626263</td>\n",
       "      <td>0.636986</td>\n",
       "      <td>0.615894</td>\n",
       "      <td>0.759906</td>\n",
       "    </tr>\n",
       "    <tr>\n",
       "      <th>Overall</th>\n",
       "      <td>268.0</td>\n",
       "      <td>246.0</td>\n",
       "      <td>668.0</td>\n",
       "      <td>488.0</td>\n",
       "      <td>0.692216</td>\n",
       "      <td>0.655034</td>\n",
       "      <td>0.664850</td>\n",
       "      <td>0.645503</td>\n",
       "      <td>0.766558</td>\n",
       "    </tr>\n",
       "  </tbody>\n",
       "</table>\n",
       "</div>"
      ],
      "text/plain": [
       "            FN     FP     TN     TP  accuracy   f1score  precision    recall  \\\n",
       "1Fold     56.0   39.0  143.0   97.0  0.716418  0.671280   0.713235  0.633987   \n",
       "2Fold     52.0   47.0  140.0   96.0  0.704478  0.659794   0.671329  0.648649   \n",
       "3Fold     58.0   50.0  132.0   95.0  0.677612  0.637584   0.655172  0.620915   \n",
       "4Fold     44.0   57.0  125.0  107.0  0.696697  0.679365   0.652439  0.708609   \n",
       "5Fold     58.0   53.0  128.0   93.0  0.665663  0.626263   0.636986  0.615894   \n",
       "Overall  268.0  246.0  668.0  488.0  0.692216  0.655034   0.664850  0.645503   \n",
       "\n",
       "         roc_auc_score  \n",
       "1Fold         0.795877  \n",
       "2Fold         0.750470  \n",
       "3Fold         0.754148  \n",
       "4Fold         0.772142  \n",
       "5Fold         0.759906  \n",
       "Overall       0.766558  "
      ]
     },
     "execution_count": 78,
     "metadata": {},
     "output_type": "execute_result"
    }
   ],
   "source": [
    "lgbm_new_feat_results.T"
   ]
  },
  {
   "cell_type": "markdown",
   "metadata": {},
   "source": [
    "### XGBOOST w/ new features "
   ]
  },
  {
   "cell_type": "code",
   "execution_count": 147,
   "metadata": {
    "collapsed": true
   },
   "outputs": [],
   "source": [
    "xgb_model = XGBClassifier()"
   ]
  },
  {
   "cell_type": "code",
   "execution_count": 148,
   "metadata": {
    "collapsed": true
   },
   "outputs": [],
   "source": [
    "#train_df_final['weights'] = np.where((train_df_final['total_flights_range']=='(3.0, 15.0]')|(train_df_final['total_flights_range']=='(15.0, 43.0]'),1,0.8)"
   ]
  },
  {
   "cell_type": "code",
   "execution_count": 149,
   "metadata": {
    "scrolled": true
   },
   "outputs": [
    {
     "name": "stdout",
     "output_type": "stream",
     "text": [
      "1fold completed\n",
      "2fold completed\n",
      "3fold completed\n",
      "4fold completed\n",
      "5fold completed\n"
     ]
    }
   ],
   "source": [
    "xgb_new_feat_results_upd = stratify_kfold_cv(train_df_final,xgb_model,engineered_features)"
   ]
  },
  {
   "cell_type": "code",
   "execution_count": 150,
   "metadata": {},
   "outputs": [
    {
     "data": {
      "text/html": [
       "<div>\n",
       "<style scoped>\n",
       "    .dataframe tbody tr th:only-of-type {\n",
       "        vertical-align: middle;\n",
       "    }\n",
       "\n",
       "    .dataframe tbody tr th {\n",
       "        vertical-align: top;\n",
       "    }\n",
       "\n",
       "    .dataframe thead th {\n",
       "        text-align: right;\n",
       "    }\n",
       "</style>\n",
       "<table border=\"1\" class=\"dataframe\">\n",
       "  <thead>\n",
       "    <tr style=\"text-align: right;\">\n",
       "      <th></th>\n",
       "      <th>FN</th>\n",
       "      <th>FP</th>\n",
       "      <th>TN</th>\n",
       "      <th>TP</th>\n",
       "      <th>accuracy</th>\n",
       "      <th>f1score</th>\n",
       "      <th>precision</th>\n",
       "      <th>recall</th>\n",
       "      <th>roc_auc_score</th>\n",
       "    </tr>\n",
       "  </thead>\n",
       "  <tbody>\n",
       "    <tr>\n",
       "      <th>1Fold</th>\n",
       "      <td>54.0</td>\n",
       "      <td>37.0</td>\n",
       "      <td>145.0</td>\n",
       "      <td>99.0</td>\n",
       "      <td>0.728358</td>\n",
       "      <td>0.685121</td>\n",
       "      <td>0.727941</td>\n",
       "      <td>0.647059</td>\n",
       "      <td>0.795339</td>\n",
       "    </tr>\n",
       "    <tr>\n",
       "      <th>2Fold</th>\n",
       "      <td>52.0</td>\n",
       "      <td>45.0</td>\n",
       "      <td>142.0</td>\n",
       "      <td>96.0</td>\n",
       "      <td>0.710448</td>\n",
       "      <td>0.664360</td>\n",
       "      <td>0.680851</td>\n",
       "      <td>0.648649</td>\n",
       "      <td>0.757552</td>\n",
       "    </tr>\n",
       "    <tr>\n",
       "      <th>3Fold</th>\n",
       "      <td>55.0</td>\n",
       "      <td>50.0</td>\n",
       "      <td>132.0</td>\n",
       "      <td>98.0</td>\n",
       "      <td>0.686567</td>\n",
       "      <td>0.651163</td>\n",
       "      <td>0.662162</td>\n",
       "      <td>0.640523</td>\n",
       "      <td>0.754579</td>\n",
       "    </tr>\n",
       "    <tr>\n",
       "      <th>4Fold</th>\n",
       "      <td>46.0</td>\n",
       "      <td>49.0</td>\n",
       "      <td>133.0</td>\n",
       "      <td>105.0</td>\n",
       "      <td>0.714715</td>\n",
       "      <td>0.688525</td>\n",
       "      <td>0.681818</td>\n",
       "      <td>0.695364</td>\n",
       "      <td>0.785787</td>\n",
       "    </tr>\n",
       "    <tr>\n",
       "      <th>5Fold</th>\n",
       "      <td>56.0</td>\n",
       "      <td>44.0</td>\n",
       "      <td>137.0</td>\n",
       "      <td>95.0</td>\n",
       "      <td>0.698795</td>\n",
       "      <td>0.655172</td>\n",
       "      <td>0.683453</td>\n",
       "      <td>0.629139</td>\n",
       "      <td>0.762687</td>\n",
       "    </tr>\n",
       "    <tr>\n",
       "      <th>Overall</th>\n",
       "      <td>263.0</td>\n",
       "      <td>225.0</td>\n",
       "      <td>689.0</td>\n",
       "      <td>493.0</td>\n",
       "      <td>0.707784</td>\n",
       "      <td>0.668928</td>\n",
       "      <td>0.686630</td>\n",
       "      <td>0.652116</td>\n",
       "      <td>0.770621</td>\n",
       "    </tr>\n",
       "  </tbody>\n",
       "</table>\n",
       "</div>"
      ],
      "text/plain": [
       "            FN     FP     TN     TP  accuracy   f1score  precision    recall  \\\n",
       "1Fold     54.0   37.0  145.0   99.0  0.728358  0.685121   0.727941  0.647059   \n",
       "2Fold     52.0   45.0  142.0   96.0  0.710448  0.664360   0.680851  0.648649   \n",
       "3Fold     55.0   50.0  132.0   98.0  0.686567  0.651163   0.662162  0.640523   \n",
       "4Fold     46.0   49.0  133.0  105.0  0.714715  0.688525   0.681818  0.695364   \n",
       "5Fold     56.0   44.0  137.0   95.0  0.698795  0.655172   0.683453  0.629139   \n",
       "Overall  263.0  225.0  689.0  493.0  0.707784  0.668928   0.686630  0.652116   \n",
       "\n",
       "         roc_auc_score  \n",
       "1Fold         0.795339  \n",
       "2Fold         0.757552  \n",
       "3Fold         0.754579  \n",
       "4Fold         0.785787  \n",
       "5Fold         0.762687  \n",
       "Overall       0.770621  "
      ]
     },
     "execution_count": 150,
     "metadata": {},
     "output_type": "execute_result"
    }
   ],
   "source": [
    "xgb_new_feat_results_upd.T"
   ]
  },
  {
   "cell_type": "code",
   "execution_count": 160,
   "metadata": {},
   "outputs": [
    {
     "data": {
      "text/plain": [
       "XGBClassifier(base_score=0.5, booster='gbtree', colsample_bylevel=1,\n",
       "       colsample_bytree=1, gamma=0, learning_rate=0.1, max_delta_step=0,\n",
       "       max_depth=3, min_child_weight=1, missing=None, n_estimators=100,\n",
       "       n_jobs=1, nthread=None, objective='binary:logistic', random_state=0,\n",
       "       reg_alpha=0, reg_lambda=1, scale_pos_weight=1, seed=None,\n",
       "       silent=True, subsample=1)"
      ]
     },
     "execution_count": 160,
     "metadata": {},
     "output_type": "execute_result"
    }
   ],
   "source": [
    "xgb_model.fit(train_df_final[engineered_features],train_labels)"
   ]
  },
  {
   "cell_type": "code",
   "execution_count": 161,
   "metadata": {
    "collapsed": true
   },
   "outputs": [],
   "source": [
    "test_df['Good_Bad'] = xgb_model.predict(test_df[engineered_features])"
   ]
  },
  {
   "cell_type": "code",
   "execution_count": 162,
   "metadata": {},
   "outputs": [
    {
     "data": {
      "text/plain": [
       "(100, 1558)"
      ]
     },
     "execution_count": 162,
     "metadata": {},
     "output_type": "execute_result"
    }
   ],
   "source": [
    "test_df.shape"
   ]
  },
  {
   "cell_type": "code",
   "execution_count": 163,
   "metadata": {
    "collapsed": true
   },
   "outputs": [],
   "source": [
    "##Initial submission\n",
    "sub = test_df[['Day_Id','Good_Bad']].copy()\n",
    "sub=sub.reindex(columns=[\"Day_Id\",\"Good_Bad\"])\n",
    "filename = 'submission.csv'\n",
    "sub.to_csv(filename, index=False)"
   ]
  },
  {
   "cell_type": "markdown",
   "metadata": {},
   "source": [
    "Very useful link to understand the hyperparameters and tune them.\n",
    "https://sites.google.com/view/lauraepp/parameters"
   ]
  },
  {
   "cell_type": "markdown",
   "metadata": {},
   "source": [
    "###### Hyper parameter tuning of xgboost"
   ]
  },
  {
   "cell_type": "code",
   "execution_count": 90,
   "metadata": {},
   "outputs": [
    {
     "name": "stdout",
     "output_type": "stream",
     "text": [
      "Fitting 3 folds for each of 100 candidates, totalling 300 fits\n",
      "[CV] subsample=0.5, objective=binary:logistic, n_estimators=20, min_child_weight=3, max_depth=12, learning_rate=0.3, gamma=0.25, colsample_bytree=1 \n"
     ]
    },
    {
     "name": "stderr",
     "output_type": "stream",
     "text": [
      "[Parallel(n_jobs=1)]: Using backend SequentialBackend with 1 concurrent workers.\n"
     ]
    },
    {
     "name": "stdout",
     "output_type": "stream",
     "text": [
      "[CV]  subsample=0.5, objective=binary:logistic, n_estimators=20, min_child_weight=3, max_depth=12, learning_rate=0.3, gamma=0.25, colsample_bytree=1, total=   1.0s\n",
      "[CV] subsample=0.5, objective=binary:logistic, n_estimators=20, min_child_weight=3, max_depth=12, learning_rate=0.3, gamma=0.25, colsample_bytree=1 \n"
     ]
    },
    {
     "name": "stderr",
     "output_type": "stream",
     "text": [
      "[Parallel(n_jobs=1)]: Done   1 out of   1 | elapsed:    1.0s remaining:    0.0s\n"
     ]
    },
    {
     "name": "stdout",
     "output_type": "stream",
     "text": [
      "[CV]  subsample=0.5, objective=binary:logistic, n_estimators=20, min_child_weight=3, max_depth=12, learning_rate=0.3, gamma=0.25, colsample_bytree=1, total=   1.0s\n",
      "[CV] subsample=0.5, objective=binary:logistic, n_estimators=20, min_child_weight=3, max_depth=12, learning_rate=0.3, gamma=0.25, colsample_bytree=1 \n",
      "[CV]  subsample=0.5, objective=binary:logistic, n_estimators=20, min_child_weight=3, max_depth=12, learning_rate=0.3, gamma=0.25, colsample_bytree=1, total=   1.0s\n",
      "[CV] subsample=1, objective=binary:logistic, n_estimators=20, min_child_weight=5, max_depth=4, learning_rate=0.3, gamma=0.5, colsample_bytree=0.5 \n",
      "[CV]  subsample=1, objective=binary:logistic, n_estimators=20, min_child_weight=5, max_depth=4, learning_rate=0.3, gamma=0.5, colsample_bytree=0.5, total=   0.4s\n",
      "[CV] subsample=1, objective=binary:logistic, n_estimators=20, min_child_weight=5, max_depth=4, learning_rate=0.3, gamma=0.5, colsample_bytree=0.5 \n",
      "[CV]  subsample=1, objective=binary:logistic, n_estimators=20, min_child_weight=5, max_depth=4, learning_rate=0.3, gamma=0.5, colsample_bytree=0.5, total=   0.4s\n",
      "[CV] subsample=1, objective=binary:logistic, n_estimators=20, min_child_weight=5, max_depth=4, learning_rate=0.3, gamma=0.5, colsample_bytree=0.5 \n",
      "[CV]  subsample=1, objective=binary:logistic, n_estimators=20, min_child_weight=5, max_depth=4, learning_rate=0.3, gamma=0.5, colsample_bytree=0.5, total=   0.4s\n",
      "[CV] subsample=1, objective=binary:logistic, n_estimators=200, min_child_weight=1, max_depth=8, learning_rate=0.01, gamma=0, colsample_bytree=0.5 \n",
      "[CV]  subsample=1, objective=binary:logistic, n_estimators=200, min_child_weight=1, max_depth=8, learning_rate=0.01, gamma=0, colsample_bytree=0.5, total=   7.7s\n",
      "[CV] subsample=1, objective=binary:logistic, n_estimators=200, min_child_weight=1, max_depth=8, learning_rate=0.01, gamma=0, colsample_bytree=0.5 \n",
      "[CV]  subsample=1, objective=binary:logistic, n_estimators=200, min_child_weight=1, max_depth=8, learning_rate=0.01, gamma=0, colsample_bytree=0.5, total=   7.7s\n",
      "[CV] subsample=1, objective=binary:logistic, n_estimators=200, min_child_weight=1, max_depth=8, learning_rate=0.01, gamma=0, colsample_bytree=0.5 \n",
      "[CV]  subsample=1, objective=binary:logistic, n_estimators=200, min_child_weight=1, max_depth=8, learning_rate=0.01, gamma=0, colsample_bytree=0.5, total=   7.8s\n",
      "[CV] subsample=1, objective=binary:logistic, n_estimators=20, min_child_weight=3, max_depth=4, learning_rate=0.3, gamma=0, colsample_bytree=1 \n",
      "[CV]  subsample=1, objective=binary:logistic, n_estimators=20, min_child_weight=3, max_depth=4, learning_rate=0.3, gamma=0, colsample_bytree=1, total=   0.8s\n",
      "[CV] subsample=1, objective=binary:logistic, n_estimators=20, min_child_weight=3, max_depth=4, learning_rate=0.3, gamma=0, colsample_bytree=1 \n",
      "[CV]  subsample=1, objective=binary:logistic, n_estimators=20, min_child_weight=3, max_depth=4, learning_rate=0.3, gamma=0, colsample_bytree=1, total=   0.8s\n",
      "[CV] subsample=1, objective=binary:logistic, n_estimators=20, min_child_weight=3, max_depth=4, learning_rate=0.3, gamma=0, colsample_bytree=1 \n",
      "[CV]  subsample=1, objective=binary:logistic, n_estimators=20, min_child_weight=3, max_depth=4, learning_rate=0.3, gamma=0, colsample_bytree=1, total=   0.8s\n",
      "[CV] subsample=0.1, objective=binary:logistic, n_estimators=50, min_child_weight=5, max_depth=4, learning_rate=0.01, gamma=0.25, colsample_bytree=0.5 \n",
      "[CV]  subsample=0.1, objective=binary:logistic, n_estimators=50, min_child_weight=5, max_depth=4, learning_rate=0.01, gamma=0.25, colsample_bytree=0.5, total=   0.3s\n",
      "[CV] subsample=0.1, objective=binary:logistic, n_estimators=50, min_child_weight=5, max_depth=4, learning_rate=0.01, gamma=0.25, colsample_bytree=0.5 \n",
      "[CV]  subsample=0.1, objective=binary:logistic, n_estimators=50, min_child_weight=5, max_depth=4, learning_rate=0.01, gamma=0.25, colsample_bytree=0.5, total=   0.3s\n",
      "[CV] subsample=0.1, objective=binary:logistic, n_estimators=50, min_child_weight=5, max_depth=4, learning_rate=0.01, gamma=0.25, colsample_bytree=0.5 \n",
      "[CV]  subsample=0.1, objective=binary:logistic, n_estimators=50, min_child_weight=5, max_depth=4, learning_rate=0.01, gamma=0.25, colsample_bytree=0.5, total=   0.3s\n",
      "[CV] subsample=0.1, objective=binary:logistic, n_estimators=50, min_child_weight=3, max_depth=8, learning_rate=0.5, gamma=0.5, colsample_bytree=1 \n",
      "[CV]  subsample=0.1, objective=binary:logistic, n_estimators=50, min_child_weight=3, max_depth=8, learning_rate=0.5, gamma=0.5, colsample_bytree=1, total=   0.4s\n",
      "[CV] subsample=0.1, objective=binary:logistic, n_estimators=50, min_child_weight=3, max_depth=8, learning_rate=0.5, gamma=0.5, colsample_bytree=1 \n",
      "[CV]  subsample=0.1, objective=binary:logistic, n_estimators=50, min_child_weight=3, max_depth=8, learning_rate=0.5, gamma=0.5, colsample_bytree=1, total=   0.4s\n",
      "[CV] subsample=0.1, objective=binary:logistic, n_estimators=50, min_child_weight=3, max_depth=8, learning_rate=0.5, gamma=0.5, colsample_bytree=1 \n",
      "[CV]  subsample=0.1, objective=binary:logistic, n_estimators=50, min_child_weight=3, max_depth=8, learning_rate=0.5, gamma=0.5, colsample_bytree=1, total=   0.4s\n",
      "[CV] subsample=0.1, objective=binary:logistic, n_estimators=200, min_child_weight=5, max_depth=8, learning_rate=0.01, gamma=0.25, colsample_bytree=1 \n",
      "[CV]  subsample=0.1, objective=binary:logistic, n_estimators=200, min_child_weight=5, max_depth=8, learning_rate=0.01, gamma=0.25, colsample_bytree=1, total=   1.6s\n",
      "[CV] subsample=0.1, objective=binary:logistic, n_estimators=200, min_child_weight=5, max_depth=8, learning_rate=0.01, gamma=0.25, colsample_bytree=1 \n",
      "[CV]  subsample=0.1, objective=binary:logistic, n_estimators=200, min_child_weight=5, max_depth=8, learning_rate=0.01, gamma=0.25, colsample_bytree=1, total=   1.7s\n",
      "[CV] subsample=0.1, objective=binary:logistic, n_estimators=200, min_child_weight=5, max_depth=8, learning_rate=0.01, gamma=0.25, colsample_bytree=1 \n",
      "[CV]  subsample=0.1, objective=binary:logistic, n_estimators=200, min_child_weight=5, max_depth=8, learning_rate=0.01, gamma=0.25, colsample_bytree=1, total=   1.7s\n",
      "[CV] subsample=1, objective=binary:logistic, n_estimators=50, min_child_weight=1, max_depth=8, learning_rate=0.01, gamma=0.5, colsample_bytree=0.5 \n",
      "[CV]  subsample=1, objective=binary:logistic, n_estimators=50, min_child_weight=1, max_depth=8, learning_rate=0.01, gamma=0.5, colsample_bytree=0.5, total=   2.0s\n",
      "[CV] subsample=1, objective=binary:logistic, n_estimators=50, min_child_weight=1, max_depth=8, learning_rate=0.01, gamma=0.5, colsample_bytree=0.5 \n",
      "[CV]  subsample=1, objective=binary:logistic, n_estimators=50, min_child_weight=1, max_depth=8, learning_rate=0.01, gamma=0.5, colsample_bytree=0.5, total=   2.0s\n",
      "[CV] subsample=1, objective=binary:logistic, n_estimators=50, min_child_weight=1, max_depth=8, learning_rate=0.01, gamma=0.5, colsample_bytree=0.5 \n",
      "[CV]  subsample=1, objective=binary:logistic, n_estimators=50, min_child_weight=1, max_depth=8, learning_rate=0.01, gamma=0.5, colsample_bytree=0.5, total=   2.0s\n",
      "[CV] subsample=1, objective=binary:logistic, n_estimators=200, min_child_weight=1, max_depth=8, learning_rate=0.5, gamma=0.5, colsample_bytree=1 \n",
      "[CV]  subsample=1, objective=binary:logistic, n_estimators=200, min_child_weight=1, max_depth=8, learning_rate=0.5, gamma=0.5, colsample_bytree=1, total=  11.9s\n",
      "[CV] subsample=1, objective=binary:logistic, n_estimators=200, min_child_weight=1, max_depth=8, learning_rate=0.5, gamma=0.5, colsample_bytree=1 \n",
      "[CV]  subsample=1, objective=binary:logistic, n_estimators=200, min_child_weight=1, max_depth=8, learning_rate=0.5, gamma=0.5, colsample_bytree=1, total=  12.1s\n",
      "[CV] subsample=1, objective=binary:logistic, n_estimators=200, min_child_weight=1, max_depth=8, learning_rate=0.5, gamma=0.5, colsample_bytree=1 \n",
      "[CV]  subsample=1, objective=binary:logistic, n_estimators=200, min_child_weight=1, max_depth=8, learning_rate=0.5, gamma=0.5, colsample_bytree=1, total=  12.2s\n",
      "[CV] subsample=0.5, objective=binary:logistic, n_estimators=200, min_child_weight=3, max_depth=12, learning_rate=0.01, gamma=0.25, colsample_bytree=1 \n",
      "[CV]  subsample=0.5, objective=binary:logistic, n_estimators=200, min_child_weight=3, max_depth=12, learning_rate=0.01, gamma=0.25, colsample_bytree=1, total=  10.4s\n",
      "[CV] subsample=0.5, objective=binary:logistic, n_estimators=200, min_child_weight=3, max_depth=12, learning_rate=0.01, gamma=0.25, colsample_bytree=1 \n"
     ]
    },
    {
     "name": "stdout",
     "output_type": "stream",
     "text": [
      "[CV]  subsample=0.5, objective=binary:logistic, n_estimators=200, min_child_weight=3, max_depth=12, learning_rate=0.01, gamma=0.25, colsample_bytree=1, total=  10.3s\n",
      "[CV] subsample=0.5, objective=binary:logistic, n_estimators=200, min_child_weight=3, max_depth=12, learning_rate=0.01, gamma=0.25, colsample_bytree=1 \n",
      "[CV]  subsample=0.5, objective=binary:logistic, n_estimators=200, min_child_weight=3, max_depth=12, learning_rate=0.01, gamma=0.25, colsample_bytree=1, total=  10.1s\n",
      "[CV] subsample=0.5, objective=binary:logistic, n_estimators=20, min_child_weight=3, max_depth=8, learning_rate=0.5, gamma=0, colsample_bytree=1 \n",
      "[CV]  subsample=0.5, objective=binary:logistic, n_estimators=20, min_child_weight=3, max_depth=8, learning_rate=0.5, gamma=0, colsample_bytree=1, total=   0.9s\n",
      "[CV] subsample=0.5, objective=binary:logistic, n_estimators=20, min_child_weight=3, max_depth=8, learning_rate=0.5, gamma=0, colsample_bytree=1 \n",
      "[CV]  subsample=0.5, objective=binary:logistic, n_estimators=20, min_child_weight=3, max_depth=8, learning_rate=0.5, gamma=0, colsample_bytree=1, total=   0.9s\n",
      "[CV] subsample=0.5, objective=binary:logistic, n_estimators=20, min_child_weight=3, max_depth=8, learning_rate=0.5, gamma=0, colsample_bytree=1 \n",
      "[CV]  subsample=0.5, objective=binary:logistic, n_estimators=20, min_child_weight=3, max_depth=8, learning_rate=0.5, gamma=0, colsample_bytree=1, total=   0.9s\n",
      "[CV] subsample=1, objective=binary:logistic, n_estimators=200, min_child_weight=1, max_depth=4, learning_rate=0.01, gamma=0, colsample_bytree=1 \n",
      "[CV]  subsample=1, objective=binary:logistic, n_estimators=200, min_child_weight=1, max_depth=4, learning_rate=0.01, gamma=0, colsample_bytree=1, total=   7.8s\n",
      "[CV] subsample=1, objective=binary:logistic, n_estimators=200, min_child_weight=1, max_depth=4, learning_rate=0.01, gamma=0, colsample_bytree=1 \n",
      "[CV]  subsample=1, objective=binary:logistic, n_estimators=200, min_child_weight=1, max_depth=4, learning_rate=0.01, gamma=0, colsample_bytree=1, total=   7.7s\n",
      "[CV] subsample=1, objective=binary:logistic, n_estimators=200, min_child_weight=1, max_depth=4, learning_rate=0.01, gamma=0, colsample_bytree=1 \n",
      "[CV]  subsample=1, objective=binary:logistic, n_estimators=200, min_child_weight=1, max_depth=4, learning_rate=0.01, gamma=0, colsample_bytree=1, total=   7.8s\n",
      "[CV] subsample=0.5, objective=binary:logistic, n_estimators=200, min_child_weight=1, max_depth=4, learning_rate=0.3, gamma=0.25, colsample_bytree=1 \n",
      "[CV]  subsample=0.5, objective=binary:logistic, n_estimators=200, min_child_weight=1, max_depth=4, learning_rate=0.3, gamma=0.25, colsample_bytree=1, total=   5.5s\n",
      "[CV] subsample=0.5, objective=binary:logistic, n_estimators=200, min_child_weight=1, max_depth=4, learning_rate=0.3, gamma=0.25, colsample_bytree=1 \n",
      "[CV]  subsample=0.5, objective=binary:logistic, n_estimators=200, min_child_weight=1, max_depth=4, learning_rate=0.3, gamma=0.25, colsample_bytree=1, total=   5.4s\n",
      "[CV] subsample=0.5, objective=binary:logistic, n_estimators=200, min_child_weight=1, max_depth=4, learning_rate=0.3, gamma=0.25, colsample_bytree=1 \n",
      "[CV]  subsample=0.5, objective=binary:logistic, n_estimators=200, min_child_weight=1, max_depth=4, learning_rate=0.3, gamma=0.25, colsample_bytree=1, total=   5.3s\n",
      "[CV] subsample=0.1, objective=binary:logistic, n_estimators=20, min_child_weight=1, max_depth=4, learning_rate=0.3, gamma=0.25, colsample_bytree=0.5 \n",
      "[CV]  subsample=0.1, objective=binary:logistic, n_estimators=20, min_child_weight=1, max_depth=4, learning_rate=0.3, gamma=0.25, colsample_bytree=0.5, total=   0.2s\n",
      "[CV] subsample=0.1, objective=binary:logistic, n_estimators=20, min_child_weight=1, max_depth=4, learning_rate=0.3, gamma=0.25, colsample_bytree=0.5 \n",
      "[CV]  subsample=0.1, objective=binary:logistic, n_estimators=20, min_child_weight=1, max_depth=4, learning_rate=0.3, gamma=0.25, colsample_bytree=0.5, total=   0.2s\n",
      "[CV] subsample=0.1, objective=binary:logistic, n_estimators=20, min_child_weight=1, max_depth=4, learning_rate=0.3, gamma=0.25, colsample_bytree=0.5 \n",
      "[CV]  subsample=0.1, objective=binary:logistic, n_estimators=20, min_child_weight=1, max_depth=4, learning_rate=0.3, gamma=0.25, colsample_bytree=0.5, total=   0.2s\n",
      "[CV] subsample=0.5, objective=binary:logistic, n_estimators=20, min_child_weight=1, max_depth=8, learning_rate=0.3, gamma=0, colsample_bytree=0.1 \n",
      "[CV]  subsample=0.5, objective=binary:logistic, n_estimators=20, min_child_weight=1, max_depth=8, learning_rate=0.3, gamma=0, colsample_bytree=0.1, total=   0.2s\n",
      "[CV] subsample=0.5, objective=binary:logistic, n_estimators=20, min_child_weight=1, max_depth=8, learning_rate=0.3, gamma=0, colsample_bytree=0.1 \n",
      "[CV]  subsample=0.5, objective=binary:logistic, n_estimators=20, min_child_weight=1, max_depth=8, learning_rate=0.3, gamma=0, colsample_bytree=0.1, total=   0.2s\n",
      "[CV] subsample=0.5, objective=binary:logistic, n_estimators=20, min_child_weight=1, max_depth=8, learning_rate=0.3, gamma=0, colsample_bytree=0.1 \n",
      "[CV]  subsample=0.5, objective=binary:logistic, n_estimators=20, min_child_weight=1, max_depth=8, learning_rate=0.3, gamma=0, colsample_bytree=0.1, total=   0.2s\n",
      "[CV] subsample=0.5, objective=binary:logistic, n_estimators=50, min_child_weight=5, max_depth=8, learning_rate=0.5, gamma=0, colsample_bytree=0.1 \n",
      "[CV]  subsample=0.5, objective=binary:logistic, n_estimators=50, min_child_weight=5, max_depth=8, learning_rate=0.5, gamma=0, colsample_bytree=0.1, total=   0.3s\n",
      "[CV] subsample=0.5, objective=binary:logistic, n_estimators=50, min_child_weight=5, max_depth=8, learning_rate=0.5, gamma=0, colsample_bytree=0.1 \n",
      "[CV]  subsample=0.5, objective=binary:logistic, n_estimators=50, min_child_weight=5, max_depth=8, learning_rate=0.5, gamma=0, colsample_bytree=0.1, total=   0.3s\n",
      "[CV] subsample=0.5, objective=binary:logistic, n_estimators=50, min_child_weight=5, max_depth=8, learning_rate=0.5, gamma=0, colsample_bytree=0.1 \n",
      "[CV]  subsample=0.5, objective=binary:logistic, n_estimators=50, min_child_weight=5, max_depth=8, learning_rate=0.5, gamma=0, colsample_bytree=0.1, total=   0.3s\n",
      "[CV] subsample=0.5, objective=binary:logistic, n_estimators=50, min_child_weight=1, max_depth=4, learning_rate=0.5, gamma=0.25, colsample_bytree=0.1 \n",
      "[CV]  subsample=0.5, objective=binary:logistic, n_estimators=50, min_child_weight=1, max_depth=4, learning_rate=0.5, gamma=0.25, colsample_bytree=0.1, total=   0.2s\n",
      "[CV] subsample=0.5, objective=binary:logistic, n_estimators=50, min_child_weight=1, max_depth=4, learning_rate=0.5, gamma=0.25, colsample_bytree=0.1 \n",
      "[CV]  subsample=0.5, objective=binary:logistic, n_estimators=50, min_child_weight=1, max_depth=4, learning_rate=0.5, gamma=0.25, colsample_bytree=0.1, total=   0.2s\n",
      "[CV] subsample=0.5, objective=binary:logistic, n_estimators=50, min_child_weight=1, max_depth=4, learning_rate=0.5, gamma=0.25, colsample_bytree=0.1 \n",
      "[CV]  subsample=0.5, objective=binary:logistic, n_estimators=50, min_child_weight=1, max_depth=4, learning_rate=0.5, gamma=0.25, colsample_bytree=0.1, total=   0.2s\n",
      "[CV] subsample=0.1, objective=binary:logistic, n_estimators=20, min_child_weight=3, max_depth=8, learning_rate=0.3, gamma=0, colsample_bytree=1 \n",
      "[CV]  subsample=0.1, objective=binary:logistic, n_estimators=20, min_child_weight=3, max_depth=8, learning_rate=0.3, gamma=0, colsample_bytree=1, total=   0.2s\n",
      "[CV] subsample=0.1, objective=binary:logistic, n_estimators=20, min_child_weight=3, max_depth=8, learning_rate=0.3, gamma=0, colsample_bytree=1 \n",
      "[CV]  subsample=0.1, objective=binary:logistic, n_estimators=20, min_child_weight=3, max_depth=8, learning_rate=0.3, gamma=0, colsample_bytree=1, total=   0.2s\n",
      "[CV] subsample=0.1, objective=binary:logistic, n_estimators=20, min_child_weight=3, max_depth=8, learning_rate=0.3, gamma=0, colsample_bytree=1 \n",
      "[CV]  subsample=0.1, objective=binary:logistic, n_estimators=20, min_child_weight=3, max_depth=8, learning_rate=0.3, gamma=0, colsample_bytree=1, total=   0.2s\n",
      "[CV] subsample=1, objective=binary:logistic, n_estimators=20, min_child_weight=1, max_depth=8, learning_rate=0.01, gamma=0, colsample_bytree=0.1 \n",
      "[CV]  subsample=1, objective=binary:logistic, n_estimators=20, min_child_weight=1, max_depth=8, learning_rate=0.01, gamma=0, colsample_bytree=0.1, total=   0.2s\n",
      "[CV] subsample=1, objective=binary:logistic, n_estimators=20, min_child_weight=1, max_depth=8, learning_rate=0.01, gamma=0, colsample_bytree=0.1 \n"
     ]
    },
    {
     "name": "stdout",
     "output_type": "stream",
     "text": [
      "[CV]  subsample=1, objective=binary:logistic, n_estimators=20, min_child_weight=1, max_depth=8, learning_rate=0.01, gamma=0, colsample_bytree=0.1, total=   0.2s\n",
      "[CV] subsample=1, objective=binary:logistic, n_estimators=20, min_child_weight=1, max_depth=8, learning_rate=0.01, gamma=0, colsample_bytree=0.1 \n",
      "[CV]  subsample=1, objective=binary:logistic, n_estimators=20, min_child_weight=1, max_depth=8, learning_rate=0.01, gamma=0, colsample_bytree=0.1, total=   0.2s\n",
      "[CV] subsample=1, objective=binary:logistic, n_estimators=50, min_child_weight=1, max_depth=4, learning_rate=0.5, gamma=0.25, colsample_bytree=0.1 \n",
      "[CV]  subsample=1, objective=binary:logistic, n_estimators=50, min_child_weight=1, max_depth=4, learning_rate=0.5, gamma=0.25, colsample_bytree=0.1, total=   0.3s\n",
      "[CV] subsample=1, objective=binary:logistic, n_estimators=50, min_child_weight=1, max_depth=4, learning_rate=0.5, gamma=0.25, colsample_bytree=0.1 \n",
      "[CV]  subsample=1, objective=binary:logistic, n_estimators=50, min_child_weight=1, max_depth=4, learning_rate=0.5, gamma=0.25, colsample_bytree=0.1, total=   0.3s\n",
      "[CV] subsample=1, objective=binary:logistic, n_estimators=50, min_child_weight=1, max_depth=4, learning_rate=0.5, gamma=0.25, colsample_bytree=0.1 \n",
      "[CV]  subsample=1, objective=binary:logistic, n_estimators=50, min_child_weight=1, max_depth=4, learning_rate=0.5, gamma=0.25, colsample_bytree=0.1, total=   0.3s\n",
      "[CV] subsample=1, objective=binary:logistic, n_estimators=20, min_child_weight=3, max_depth=4, learning_rate=0.01, gamma=0.5, colsample_bytree=0.5 \n",
      "[CV]  subsample=1, objective=binary:logistic, n_estimators=20, min_child_weight=3, max_depth=4, learning_rate=0.01, gamma=0.5, colsample_bytree=0.5, total=   0.5s\n",
      "[CV] subsample=1, objective=binary:logistic, n_estimators=20, min_child_weight=3, max_depth=4, learning_rate=0.01, gamma=0.5, colsample_bytree=0.5 \n",
      "[CV]  subsample=1, objective=binary:logistic, n_estimators=20, min_child_weight=3, max_depth=4, learning_rate=0.01, gamma=0.5, colsample_bytree=0.5, total=   0.5s\n",
      "[CV] subsample=1, objective=binary:logistic, n_estimators=20, min_child_weight=3, max_depth=4, learning_rate=0.01, gamma=0.5, colsample_bytree=0.5 \n",
      "[CV]  subsample=1, objective=binary:logistic, n_estimators=20, min_child_weight=3, max_depth=4, learning_rate=0.01, gamma=0.5, colsample_bytree=0.5, total=   0.4s\n",
      "[CV] subsample=0.1, objective=binary:logistic, n_estimators=50, min_child_weight=5, max_depth=8, learning_rate=0.01, gamma=0.5, colsample_bytree=0.5 \n",
      "[CV]  subsample=0.1, objective=binary:logistic, n_estimators=50, min_child_weight=5, max_depth=8, learning_rate=0.01, gamma=0.5, colsample_bytree=0.5, total=   0.3s\n",
      "[CV] subsample=0.1, objective=binary:logistic, n_estimators=50, min_child_weight=5, max_depth=8, learning_rate=0.01, gamma=0.5, colsample_bytree=0.5 \n",
      "[CV]  subsample=0.1, objective=binary:logistic, n_estimators=50, min_child_weight=5, max_depth=8, learning_rate=0.01, gamma=0.5, colsample_bytree=0.5, total=   0.3s\n",
      "[CV] subsample=0.1, objective=binary:logistic, n_estimators=50, min_child_weight=5, max_depth=8, learning_rate=0.01, gamma=0.5, colsample_bytree=0.5 \n",
      "[CV]  subsample=0.1, objective=binary:logistic, n_estimators=50, min_child_weight=5, max_depth=8, learning_rate=0.01, gamma=0.5, colsample_bytree=0.5, total=   0.3s\n",
      "[CV] subsample=0.5, objective=binary:logistic, n_estimators=200, min_child_weight=3, max_depth=4, learning_rate=0.01, gamma=0.25, colsample_bytree=0.1 \n",
      "[CV]  subsample=0.5, objective=binary:logistic, n_estimators=200, min_child_weight=3, max_depth=4, learning_rate=0.01, gamma=0.25, colsample_bytree=0.1, total=   0.8s\n",
      "[CV] subsample=0.5, objective=binary:logistic, n_estimators=200, min_child_weight=3, max_depth=4, learning_rate=0.01, gamma=0.25, colsample_bytree=0.1 \n",
      "[CV]  subsample=0.5, objective=binary:logistic, n_estimators=200, min_child_weight=3, max_depth=4, learning_rate=0.01, gamma=0.25, colsample_bytree=0.1, total=   0.8s\n",
      "[CV] subsample=0.5, objective=binary:logistic, n_estimators=200, min_child_weight=3, max_depth=4, learning_rate=0.01, gamma=0.25, colsample_bytree=0.1 \n",
      "[CV]  subsample=0.5, objective=binary:logistic, n_estimators=200, min_child_weight=3, max_depth=4, learning_rate=0.01, gamma=0.25, colsample_bytree=0.1, total=   0.8s\n",
      "[CV] subsample=0.1, objective=binary:logistic, n_estimators=50, min_child_weight=5, max_depth=12, learning_rate=0.3, gamma=0.25, colsample_bytree=1 \n",
      "[CV]  subsample=0.1, objective=binary:logistic, n_estimators=50, min_child_weight=5, max_depth=12, learning_rate=0.3, gamma=0.25, colsample_bytree=1, total=   0.4s\n",
      "[CV] subsample=0.1, objective=binary:logistic, n_estimators=50, min_child_weight=5, max_depth=12, learning_rate=0.3, gamma=0.25, colsample_bytree=1 \n",
      "[CV]  subsample=0.1, objective=binary:logistic, n_estimators=50, min_child_weight=5, max_depth=12, learning_rate=0.3, gamma=0.25, colsample_bytree=1, total=   0.4s\n",
      "[CV] subsample=0.1, objective=binary:logistic, n_estimators=50, min_child_weight=5, max_depth=12, learning_rate=0.3, gamma=0.25, colsample_bytree=1 \n",
      "[CV]  subsample=0.1, objective=binary:logistic, n_estimators=50, min_child_weight=5, max_depth=12, learning_rate=0.3, gamma=0.25, colsample_bytree=1, total=   0.4s\n",
      "[CV] subsample=0.1, objective=binary:logistic, n_estimators=50, min_child_weight=3, max_depth=8, learning_rate=0.3, gamma=0, colsample_bytree=0.5 \n",
      "[CV]  subsample=0.1, objective=binary:logistic, n_estimators=50, min_child_weight=3, max_depth=8, learning_rate=0.3, gamma=0, colsample_bytree=0.5, total=   0.3s\n",
      "[CV] subsample=0.1, objective=binary:logistic, n_estimators=50, min_child_weight=3, max_depth=8, learning_rate=0.3, gamma=0, colsample_bytree=0.5 \n",
      "[CV]  subsample=0.1, objective=binary:logistic, n_estimators=50, min_child_weight=3, max_depth=8, learning_rate=0.3, gamma=0, colsample_bytree=0.5, total=   0.3s\n",
      "[CV] subsample=0.1, objective=binary:logistic, n_estimators=50, min_child_weight=3, max_depth=8, learning_rate=0.3, gamma=0, colsample_bytree=0.5 \n",
      "[CV]  subsample=0.1, objective=binary:logistic, n_estimators=50, min_child_weight=3, max_depth=8, learning_rate=0.3, gamma=0, colsample_bytree=0.5, total=   0.3s\n",
      "[CV] subsample=0.1, objective=binary:logistic, n_estimators=200, min_child_weight=1, max_depth=4, learning_rate=0.5, gamma=0, colsample_bytree=0.1 \n",
      "[CV]  subsample=0.1, objective=binary:logistic, n_estimators=200, min_child_weight=1, max_depth=4, learning_rate=0.5, gamma=0, colsample_bytree=0.1, total=   0.4s\n",
      "[CV] subsample=0.1, objective=binary:logistic, n_estimators=200, min_child_weight=1, max_depth=4, learning_rate=0.5, gamma=0, colsample_bytree=0.1 \n",
      "[CV]  subsample=0.1, objective=binary:logistic, n_estimators=200, min_child_weight=1, max_depth=4, learning_rate=0.5, gamma=0, colsample_bytree=0.1, total=   0.3s\n",
      "[CV] subsample=0.1, objective=binary:logistic, n_estimators=200, min_child_weight=1, max_depth=4, learning_rate=0.5, gamma=0, colsample_bytree=0.1 \n",
      "[CV]  subsample=0.1, objective=binary:logistic, n_estimators=200, min_child_weight=1, max_depth=4, learning_rate=0.5, gamma=0, colsample_bytree=0.1, total=   0.4s\n",
      "[CV] subsample=0.1, objective=binary:logistic, n_estimators=20, min_child_weight=5, max_depth=12, learning_rate=0.5, gamma=0.5, colsample_bytree=1 \n",
      "[CV]  subsample=0.1, objective=binary:logistic, n_estimators=20, min_child_weight=5, max_depth=12, learning_rate=0.5, gamma=0.5, colsample_bytree=1, total=   0.2s\n",
      "[CV] subsample=0.1, objective=binary:logistic, n_estimators=20, min_child_weight=5, max_depth=12, learning_rate=0.5, gamma=0.5, colsample_bytree=1 \n",
      "[CV]  subsample=0.1, objective=binary:logistic, n_estimators=20, min_child_weight=5, max_depth=12, learning_rate=0.5, gamma=0.5, colsample_bytree=1, total=   0.2s\n",
      "[CV] subsample=0.1, objective=binary:logistic, n_estimators=20, min_child_weight=5, max_depth=12, learning_rate=0.5, gamma=0.5, colsample_bytree=1 \n",
      "[CV]  subsample=0.1, objective=binary:logistic, n_estimators=20, min_child_weight=5, max_depth=12, learning_rate=0.5, gamma=0.5, colsample_bytree=1, total=   0.2s\n",
      "[CV] subsample=0.5, objective=binary:logistic, n_estimators=50, min_child_weight=1, max_depth=12, learning_rate=0.01, gamma=0.5, colsample_bytree=0.5 \n",
      "[CV]  subsample=0.5, objective=binary:logistic, n_estimators=50, min_child_weight=1, max_depth=12, learning_rate=0.01, gamma=0.5, colsample_bytree=0.5, total=   1.7s\n",
      "[CV] subsample=0.5, objective=binary:logistic, n_estimators=50, min_child_weight=1, max_depth=12, learning_rate=0.01, gamma=0.5, colsample_bytree=0.5 \n"
     ]
    },
    {
     "name": "stdout",
     "output_type": "stream",
     "text": [
      "[CV]  subsample=0.5, objective=binary:logistic, n_estimators=50, min_child_weight=1, max_depth=12, learning_rate=0.01, gamma=0.5, colsample_bytree=0.5, total=   1.6s\n",
      "[CV] subsample=0.5, objective=binary:logistic, n_estimators=50, min_child_weight=1, max_depth=12, learning_rate=0.01, gamma=0.5, colsample_bytree=0.5 \n",
      "[CV]  subsample=0.5, objective=binary:logistic, n_estimators=50, min_child_weight=1, max_depth=12, learning_rate=0.01, gamma=0.5, colsample_bytree=0.5, total=   1.6s\n",
      "[CV] subsample=1, objective=binary:logistic, n_estimators=20, min_child_weight=3, max_depth=4, learning_rate=0.5, gamma=0.5, colsample_bytree=1 \n",
      "[CV]  subsample=1, objective=binary:logistic, n_estimators=20, min_child_weight=3, max_depth=4, learning_rate=0.5, gamma=0.5, colsample_bytree=1, total=   0.8s\n",
      "[CV] subsample=1, objective=binary:logistic, n_estimators=20, min_child_weight=3, max_depth=4, learning_rate=0.5, gamma=0.5, colsample_bytree=1 \n",
      "[CV]  subsample=1, objective=binary:logistic, n_estimators=20, min_child_weight=3, max_depth=4, learning_rate=0.5, gamma=0.5, colsample_bytree=1, total=   0.8s\n",
      "[CV] subsample=1, objective=binary:logistic, n_estimators=20, min_child_weight=3, max_depth=4, learning_rate=0.5, gamma=0.5, colsample_bytree=1 \n",
      "[CV]  subsample=1, objective=binary:logistic, n_estimators=20, min_child_weight=3, max_depth=4, learning_rate=0.5, gamma=0.5, colsample_bytree=1, total=   0.8s\n",
      "[CV] subsample=1, objective=binary:logistic, n_estimators=50, min_child_weight=1, max_depth=12, learning_rate=0.3, gamma=0.25, colsample_bytree=0.1 \n",
      "[CV]  subsample=1, objective=binary:logistic, n_estimators=50, min_child_weight=1, max_depth=12, learning_rate=0.3, gamma=0.25, colsample_bytree=0.1, total=   0.5s\n",
      "[CV] subsample=1, objective=binary:logistic, n_estimators=50, min_child_weight=1, max_depth=12, learning_rate=0.3, gamma=0.25, colsample_bytree=0.1 \n",
      "[CV]  subsample=1, objective=binary:logistic, n_estimators=50, min_child_weight=1, max_depth=12, learning_rate=0.3, gamma=0.25, colsample_bytree=0.1, total=   0.5s\n",
      "[CV] subsample=1, objective=binary:logistic, n_estimators=50, min_child_weight=1, max_depth=12, learning_rate=0.3, gamma=0.25, colsample_bytree=0.1 \n",
      "[CV]  subsample=1, objective=binary:logistic, n_estimators=50, min_child_weight=1, max_depth=12, learning_rate=0.3, gamma=0.25, colsample_bytree=0.1, total=   0.5s\n",
      "[CV] subsample=1, objective=binary:logistic, n_estimators=50, min_child_weight=1, max_depth=4, learning_rate=0.3, gamma=0.5, colsample_bytree=1 \n",
      "[CV]  subsample=1, objective=binary:logistic, n_estimators=50, min_child_weight=1, max_depth=4, learning_rate=0.3, gamma=0.5, colsample_bytree=1, total=   1.9s\n",
      "[CV] subsample=1, objective=binary:logistic, n_estimators=50, min_child_weight=1, max_depth=4, learning_rate=0.3, gamma=0.5, colsample_bytree=1 \n",
      "[CV]  subsample=1, objective=binary:logistic, n_estimators=50, min_child_weight=1, max_depth=4, learning_rate=0.3, gamma=0.5, colsample_bytree=1, total=   1.9s\n",
      "[CV] subsample=1, objective=binary:logistic, n_estimators=50, min_child_weight=1, max_depth=4, learning_rate=0.3, gamma=0.5, colsample_bytree=1 \n",
      "[CV]  subsample=1, objective=binary:logistic, n_estimators=50, min_child_weight=1, max_depth=4, learning_rate=0.3, gamma=0.5, colsample_bytree=1, total=   1.9s\n",
      "[CV] subsample=1, objective=binary:logistic, n_estimators=20, min_child_weight=3, max_depth=4, learning_rate=0.01, gamma=0.25, colsample_bytree=0.1 \n",
      "[CV]  subsample=1, objective=binary:logistic, n_estimators=20, min_child_weight=3, max_depth=4, learning_rate=0.01, gamma=0.25, colsample_bytree=0.1, total=   0.1s\n",
      "[CV] subsample=1, objective=binary:logistic, n_estimators=20, min_child_weight=3, max_depth=4, learning_rate=0.01, gamma=0.25, colsample_bytree=0.1 \n",
      "[CV]  subsample=1, objective=binary:logistic, n_estimators=20, min_child_weight=3, max_depth=4, learning_rate=0.01, gamma=0.25, colsample_bytree=0.1, total=   0.1s\n",
      "[CV] subsample=1, objective=binary:logistic, n_estimators=20, min_child_weight=3, max_depth=4, learning_rate=0.01, gamma=0.25, colsample_bytree=0.1 \n",
      "[CV]  subsample=1, objective=binary:logistic, n_estimators=20, min_child_weight=3, max_depth=4, learning_rate=0.01, gamma=0.25, colsample_bytree=0.1, total=   0.1s\n",
      "[CV] subsample=0.5, objective=binary:logistic, n_estimators=50, min_child_weight=3, max_depth=12, learning_rate=0.5, gamma=0.5, colsample_bytree=0.5 \n",
      "[CV]  subsample=0.5, objective=binary:logistic, n_estimators=50, min_child_weight=3, max_depth=12, learning_rate=0.5, gamma=0.5, colsample_bytree=0.5, total=   1.0s\n",
      "[CV] subsample=0.5, objective=binary:logistic, n_estimators=50, min_child_weight=3, max_depth=12, learning_rate=0.5, gamma=0.5, colsample_bytree=0.5 \n",
      "[CV]  subsample=0.5, objective=binary:logistic, n_estimators=50, min_child_weight=3, max_depth=12, learning_rate=0.5, gamma=0.5, colsample_bytree=0.5, total=   1.0s\n",
      "[CV] subsample=0.5, objective=binary:logistic, n_estimators=50, min_child_weight=3, max_depth=12, learning_rate=0.5, gamma=0.5, colsample_bytree=0.5 \n",
      "[CV]  subsample=0.5, objective=binary:logistic, n_estimators=50, min_child_weight=3, max_depth=12, learning_rate=0.5, gamma=0.5, colsample_bytree=0.5, total=   1.0s\n",
      "[CV] subsample=0.1, objective=binary:logistic, n_estimators=20, min_child_weight=1, max_depth=4, learning_rate=0.01, gamma=0.5, colsample_bytree=0.1 \n",
      "[CV]  subsample=0.1, objective=binary:logistic, n_estimators=20, min_child_weight=1, max_depth=4, learning_rate=0.01, gamma=0.5, colsample_bytree=0.1, total=   0.1s\n",
      "[CV] subsample=0.1, objective=binary:logistic, n_estimators=20, min_child_weight=1, max_depth=4, learning_rate=0.01, gamma=0.5, colsample_bytree=0.1 \n",
      "[CV]  subsample=0.1, objective=binary:logistic, n_estimators=20, min_child_weight=1, max_depth=4, learning_rate=0.01, gamma=0.5, colsample_bytree=0.1, total=   0.1s\n",
      "[CV] subsample=0.1, objective=binary:logistic, n_estimators=20, min_child_weight=1, max_depth=4, learning_rate=0.01, gamma=0.5, colsample_bytree=0.1 \n",
      "[CV]  subsample=0.1, objective=binary:logistic, n_estimators=20, min_child_weight=1, max_depth=4, learning_rate=0.01, gamma=0.5, colsample_bytree=0.1, total=   0.1s\n",
      "[CV] subsample=0.1, objective=binary:logistic, n_estimators=200, min_child_weight=3, max_depth=4, learning_rate=0.3, gamma=0, colsample_bytree=0.1 \n",
      "[CV]  subsample=0.1, objective=binary:logistic, n_estimators=200, min_child_weight=3, max_depth=4, learning_rate=0.3, gamma=0, colsample_bytree=0.1, total=   0.3s\n",
      "[CV] subsample=0.1, objective=binary:logistic, n_estimators=200, min_child_weight=3, max_depth=4, learning_rate=0.3, gamma=0, colsample_bytree=0.1 \n",
      "[CV]  subsample=0.1, objective=binary:logistic, n_estimators=200, min_child_weight=3, max_depth=4, learning_rate=0.3, gamma=0, colsample_bytree=0.1, total=   0.3s\n",
      "[CV] subsample=0.1, objective=binary:logistic, n_estimators=200, min_child_weight=3, max_depth=4, learning_rate=0.3, gamma=0, colsample_bytree=0.1 \n",
      "[CV]  subsample=0.1, objective=binary:logistic, n_estimators=200, min_child_weight=3, max_depth=4, learning_rate=0.3, gamma=0, colsample_bytree=0.1, total=   0.3s\n",
      "[CV] subsample=0.1, objective=binary:logistic, n_estimators=50, min_child_weight=1, max_depth=4, learning_rate=0.3, gamma=0.5, colsample_bytree=0.5 \n",
      "[CV]  subsample=0.1, objective=binary:logistic, n_estimators=50, min_child_weight=1, max_depth=4, learning_rate=0.3, gamma=0.5, colsample_bytree=0.5, total=   0.3s\n",
      "[CV] subsample=0.1, objective=binary:logistic, n_estimators=50, min_child_weight=1, max_depth=4, learning_rate=0.3, gamma=0.5, colsample_bytree=0.5 \n",
      "[CV]  subsample=0.1, objective=binary:logistic, n_estimators=50, min_child_weight=1, max_depth=4, learning_rate=0.3, gamma=0.5, colsample_bytree=0.5, total=   0.3s\n",
      "[CV] subsample=0.1, objective=binary:logistic, n_estimators=50, min_child_weight=1, max_depth=4, learning_rate=0.3, gamma=0.5, colsample_bytree=0.5 \n",
      "[CV]  subsample=0.1, objective=binary:logistic, n_estimators=50, min_child_weight=1, max_depth=4, learning_rate=0.3, gamma=0.5, colsample_bytree=0.5, total=   0.3s\n",
      "[CV] subsample=0.5, objective=binary:logistic, n_estimators=20, min_child_weight=1, max_depth=8, learning_rate=0.01, gamma=0, colsample_bytree=1 \n",
      "[CV]  subsample=0.5, objective=binary:logistic, n_estimators=20, min_child_weight=1, max_depth=8, learning_rate=0.01, gamma=0, colsample_bytree=1, total=   1.1s\n",
      "[CV] subsample=0.5, objective=binary:logistic, n_estimators=20, min_child_weight=1, max_depth=8, learning_rate=0.01, gamma=0, colsample_bytree=1 \n"
     ]
    },
    {
     "name": "stdout",
     "output_type": "stream",
     "text": [
      "[CV]  subsample=0.5, objective=binary:logistic, n_estimators=20, min_child_weight=1, max_depth=8, learning_rate=0.01, gamma=0, colsample_bytree=1, total=   1.1s\n",
      "[CV] subsample=0.5, objective=binary:logistic, n_estimators=20, min_child_weight=1, max_depth=8, learning_rate=0.01, gamma=0, colsample_bytree=1 \n",
      "[CV]  subsample=0.5, objective=binary:logistic, n_estimators=20, min_child_weight=1, max_depth=8, learning_rate=0.01, gamma=0, colsample_bytree=1, total=   1.1s\n",
      "[CV] subsample=0.5, objective=binary:logistic, n_estimators=20, min_child_weight=3, max_depth=12, learning_rate=0.5, gamma=0.5, colsample_bytree=0.5 \n",
      "[CV]  subsample=0.5, objective=binary:logistic, n_estimators=20, min_child_weight=3, max_depth=12, learning_rate=0.5, gamma=0.5, colsample_bytree=0.5, total=   0.5s\n",
      "[CV] subsample=0.5, objective=binary:logistic, n_estimators=20, min_child_weight=3, max_depth=12, learning_rate=0.5, gamma=0.5, colsample_bytree=0.5 \n",
      "[CV]  subsample=0.5, objective=binary:logistic, n_estimators=20, min_child_weight=3, max_depth=12, learning_rate=0.5, gamma=0.5, colsample_bytree=0.5, total=   0.5s\n",
      "[CV] subsample=0.5, objective=binary:logistic, n_estimators=20, min_child_weight=3, max_depth=12, learning_rate=0.5, gamma=0.5, colsample_bytree=0.5 \n",
      "[CV]  subsample=0.5, objective=binary:logistic, n_estimators=20, min_child_weight=3, max_depth=12, learning_rate=0.5, gamma=0.5, colsample_bytree=0.5, total=   0.5s\n",
      "[CV] subsample=0.1, objective=binary:logistic, n_estimators=50, min_child_weight=1, max_depth=4, learning_rate=0.5, gamma=0.25, colsample_bytree=0.1 \n",
      "[CV]  subsample=0.1, objective=binary:logistic, n_estimators=50, min_child_weight=1, max_depth=4, learning_rate=0.5, gamma=0.25, colsample_bytree=0.1, total=   0.1s\n",
      "[CV] subsample=0.1, objective=binary:logistic, n_estimators=50, min_child_weight=1, max_depth=4, learning_rate=0.5, gamma=0.25, colsample_bytree=0.1 \n",
      "[CV]  subsample=0.1, objective=binary:logistic, n_estimators=50, min_child_weight=1, max_depth=4, learning_rate=0.5, gamma=0.25, colsample_bytree=0.1, total=   0.1s\n",
      "[CV] subsample=0.1, objective=binary:logistic, n_estimators=50, min_child_weight=1, max_depth=4, learning_rate=0.5, gamma=0.25, colsample_bytree=0.1 \n",
      "[CV]  subsample=0.1, objective=binary:logistic, n_estimators=50, min_child_weight=1, max_depth=4, learning_rate=0.5, gamma=0.25, colsample_bytree=0.1, total=   0.1s\n",
      "[CV] subsample=1, objective=binary:logistic, n_estimators=200, min_child_weight=5, max_depth=4, learning_rate=0.5, gamma=0, colsample_bytree=0.1 \n",
      "[CV]  subsample=1, objective=binary:logistic, n_estimators=200, min_child_weight=5, max_depth=4, learning_rate=0.5, gamma=0, colsample_bytree=0.1, total=   0.7s\n",
      "[CV] subsample=1, objective=binary:logistic, n_estimators=200, min_child_weight=5, max_depth=4, learning_rate=0.5, gamma=0, colsample_bytree=0.1 \n",
      "[CV]  subsample=1, objective=binary:logistic, n_estimators=200, min_child_weight=5, max_depth=4, learning_rate=0.5, gamma=0, colsample_bytree=0.1, total=   0.7s\n",
      "[CV] subsample=1, objective=binary:logistic, n_estimators=200, min_child_weight=5, max_depth=4, learning_rate=0.5, gamma=0, colsample_bytree=0.1 \n",
      "[CV]  subsample=1, objective=binary:logistic, n_estimators=200, min_child_weight=5, max_depth=4, learning_rate=0.5, gamma=0, colsample_bytree=0.1, total=   0.7s\n",
      "[CV] subsample=0.1, objective=binary:logistic, n_estimators=50, min_child_weight=3, max_depth=12, learning_rate=0.01, gamma=0.5, colsample_bytree=0.1 \n",
      "[CV]  subsample=0.1, objective=binary:logistic, n_estimators=50, min_child_weight=3, max_depth=12, learning_rate=0.01, gamma=0.5, colsample_bytree=0.1, total=   0.1s\n",
      "[CV] subsample=0.1, objective=binary:logistic, n_estimators=50, min_child_weight=3, max_depth=12, learning_rate=0.01, gamma=0.5, colsample_bytree=0.1 \n",
      "[CV]  subsample=0.1, objective=binary:logistic, n_estimators=50, min_child_weight=3, max_depth=12, learning_rate=0.01, gamma=0.5, colsample_bytree=0.1, total=   0.1s\n",
      "[CV] subsample=0.1, objective=binary:logistic, n_estimators=50, min_child_weight=3, max_depth=12, learning_rate=0.01, gamma=0.5, colsample_bytree=0.1 \n",
      "[CV]  subsample=0.1, objective=binary:logistic, n_estimators=50, min_child_weight=3, max_depth=12, learning_rate=0.01, gamma=0.5, colsample_bytree=0.1, total=   0.1s\n",
      "[CV] subsample=0.5, objective=binary:logistic, n_estimators=50, min_child_weight=5, max_depth=4, learning_rate=0.5, gamma=0.25, colsample_bytree=1 \n",
      "[CV]  subsample=0.5, objective=binary:logistic, n_estimators=50, min_child_weight=5, max_depth=4, learning_rate=0.5, gamma=0.25, colsample_bytree=1, total=   1.3s\n",
      "[CV] subsample=0.5, objective=binary:logistic, n_estimators=50, min_child_weight=5, max_depth=4, learning_rate=0.5, gamma=0.25, colsample_bytree=1 \n",
      "[CV]  subsample=0.5, objective=binary:logistic, n_estimators=50, min_child_weight=5, max_depth=4, learning_rate=0.5, gamma=0.25, colsample_bytree=1, total=   1.3s\n",
      "[CV] subsample=0.5, objective=binary:logistic, n_estimators=50, min_child_weight=5, max_depth=4, learning_rate=0.5, gamma=0.25, colsample_bytree=1 \n",
      "[CV]  subsample=0.5, objective=binary:logistic, n_estimators=50, min_child_weight=5, max_depth=4, learning_rate=0.5, gamma=0.25, colsample_bytree=1, total=   1.3s\n",
      "[CV] subsample=0.1, objective=binary:logistic, n_estimators=20, min_child_weight=5, max_depth=12, learning_rate=0.01, gamma=0.5, colsample_bytree=0.5 \n",
      "[CV]  subsample=0.1, objective=binary:logistic, n_estimators=20, min_child_weight=5, max_depth=12, learning_rate=0.01, gamma=0.5, colsample_bytree=0.5, total=   0.1s\n",
      "[CV] subsample=0.1, objective=binary:logistic, n_estimators=20, min_child_weight=5, max_depth=12, learning_rate=0.01, gamma=0.5, colsample_bytree=0.5 \n",
      "[CV]  subsample=0.1, objective=binary:logistic, n_estimators=20, min_child_weight=5, max_depth=12, learning_rate=0.01, gamma=0.5, colsample_bytree=0.5, total=   0.1s\n",
      "[CV] subsample=0.1, objective=binary:logistic, n_estimators=20, min_child_weight=5, max_depth=12, learning_rate=0.01, gamma=0.5, colsample_bytree=0.5 \n",
      "[CV]  subsample=0.1, objective=binary:logistic, n_estimators=20, min_child_weight=5, max_depth=12, learning_rate=0.01, gamma=0.5, colsample_bytree=0.5, total=   0.1s\n",
      "[CV] subsample=1, objective=binary:logistic, n_estimators=50, min_child_weight=5, max_depth=8, learning_rate=0.5, gamma=0, colsample_bytree=0.5 \n",
      "[CV]  subsample=1, objective=binary:logistic, n_estimators=50, min_child_weight=5, max_depth=8, learning_rate=0.5, gamma=0, colsample_bytree=0.5, total=   1.2s\n",
      "[CV] subsample=1, objective=binary:logistic, n_estimators=50, min_child_weight=5, max_depth=8, learning_rate=0.5, gamma=0, colsample_bytree=0.5 \n",
      "[CV]  subsample=1, objective=binary:logistic, n_estimators=50, min_child_weight=5, max_depth=8, learning_rate=0.5, gamma=0, colsample_bytree=0.5, total=   1.2s\n",
      "[CV] subsample=1, objective=binary:logistic, n_estimators=50, min_child_weight=5, max_depth=8, learning_rate=0.5, gamma=0, colsample_bytree=0.5 \n",
      "[CV]  subsample=1, objective=binary:logistic, n_estimators=50, min_child_weight=5, max_depth=8, learning_rate=0.5, gamma=0, colsample_bytree=0.5, total=   1.2s\n",
      "[CV] subsample=1, objective=binary:logistic, n_estimators=200, min_child_weight=1, max_depth=4, learning_rate=0.01, gamma=0.25, colsample_bytree=1 \n",
      "[CV]  subsample=1, objective=binary:logistic, n_estimators=200, min_child_weight=1, max_depth=4, learning_rate=0.01, gamma=0.25, colsample_bytree=1, total=   7.8s\n",
      "[CV] subsample=1, objective=binary:logistic, n_estimators=200, min_child_weight=1, max_depth=4, learning_rate=0.01, gamma=0.25, colsample_bytree=1 \n",
      "[CV]  subsample=1, objective=binary:logistic, n_estimators=200, min_child_weight=1, max_depth=4, learning_rate=0.01, gamma=0.25, colsample_bytree=1, total=   7.7s\n",
      "[CV] subsample=1, objective=binary:logistic, n_estimators=200, min_child_weight=1, max_depth=4, learning_rate=0.01, gamma=0.25, colsample_bytree=1 \n",
      "[CV]  subsample=1, objective=binary:logistic, n_estimators=200, min_child_weight=1, max_depth=4, learning_rate=0.01, gamma=0.25, colsample_bytree=1, total=   8.4s\n",
      "[CV] subsample=1, objective=binary:logistic, n_estimators=200, min_child_weight=3, max_depth=8, learning_rate=0.5, gamma=0.5, colsample_bytree=0.5 \n",
      "[CV]  subsample=1, objective=binary:logistic, n_estimators=200, min_child_weight=3, max_depth=8, learning_rate=0.5, gamma=0.5, colsample_bytree=0.5, total=   4.2s\n",
      "[CV] subsample=1, objective=binary:logistic, n_estimators=200, min_child_weight=3, max_depth=8, learning_rate=0.5, gamma=0.5, colsample_bytree=0.5 \n"
     ]
    },
    {
     "name": "stdout",
     "output_type": "stream",
     "text": [
      "[CV]  subsample=1, objective=binary:logistic, n_estimators=200, min_child_weight=3, max_depth=8, learning_rate=0.5, gamma=0.5, colsample_bytree=0.5, total=   4.1s\n",
      "[CV] subsample=1, objective=binary:logistic, n_estimators=200, min_child_weight=3, max_depth=8, learning_rate=0.5, gamma=0.5, colsample_bytree=0.5 \n",
      "[CV]  subsample=1, objective=binary:logistic, n_estimators=200, min_child_weight=3, max_depth=8, learning_rate=0.5, gamma=0.5, colsample_bytree=0.5, total=   4.0s\n",
      "[CV] subsample=0.1, objective=binary:logistic, n_estimators=50, min_child_weight=3, max_depth=12, learning_rate=0.5, gamma=0.25, colsample_bytree=0.1 \n",
      "[CV]  subsample=0.1, objective=binary:logistic, n_estimators=50, min_child_weight=3, max_depth=12, learning_rate=0.5, gamma=0.25, colsample_bytree=0.1, total=   0.1s\n",
      "[CV] subsample=0.1, objective=binary:logistic, n_estimators=50, min_child_weight=3, max_depth=12, learning_rate=0.5, gamma=0.25, colsample_bytree=0.1 \n",
      "[CV]  subsample=0.1, objective=binary:logistic, n_estimators=50, min_child_weight=3, max_depth=12, learning_rate=0.5, gamma=0.25, colsample_bytree=0.1, total=   0.1s\n",
      "[CV] subsample=0.1, objective=binary:logistic, n_estimators=50, min_child_weight=3, max_depth=12, learning_rate=0.5, gamma=0.25, colsample_bytree=0.1 \n",
      "[CV]  subsample=0.1, objective=binary:logistic, n_estimators=50, min_child_weight=3, max_depth=12, learning_rate=0.5, gamma=0.25, colsample_bytree=0.1, total=   0.1s\n",
      "[CV] subsample=0.1, objective=binary:logistic, n_estimators=20, min_child_weight=5, max_depth=8, learning_rate=0.01, gamma=0, colsample_bytree=1 \n",
      "[CV]  subsample=0.1, objective=binary:logistic, n_estimators=20, min_child_weight=5, max_depth=8, learning_rate=0.01, gamma=0, colsample_bytree=1, total=   0.2s\n",
      "[CV] subsample=0.1, objective=binary:logistic, n_estimators=20, min_child_weight=5, max_depth=8, learning_rate=0.01, gamma=0, colsample_bytree=1 \n",
      "[CV]  subsample=0.1, objective=binary:logistic, n_estimators=20, min_child_weight=5, max_depth=8, learning_rate=0.01, gamma=0, colsample_bytree=1, total=   0.2s\n",
      "[CV] subsample=0.1, objective=binary:logistic, n_estimators=20, min_child_weight=5, max_depth=8, learning_rate=0.01, gamma=0, colsample_bytree=1 \n",
      "[CV]  subsample=0.1, objective=binary:logistic, n_estimators=20, min_child_weight=5, max_depth=8, learning_rate=0.01, gamma=0, colsample_bytree=1, total=   0.2s\n",
      "[CV] subsample=0.5, objective=binary:logistic, n_estimators=200, min_child_weight=3, max_depth=8, learning_rate=0.01, gamma=0, colsample_bytree=0.5 \n",
      "[CV]  subsample=0.5, objective=binary:logistic, n_estimators=200, min_child_weight=3, max_depth=8, learning_rate=0.01, gamma=0, colsample_bytree=0.5, total=   5.0s\n",
      "[CV] subsample=0.5, objective=binary:logistic, n_estimators=200, min_child_weight=3, max_depth=8, learning_rate=0.01, gamma=0, colsample_bytree=0.5 \n",
      "[CV]  subsample=0.5, objective=binary:logistic, n_estimators=200, min_child_weight=3, max_depth=8, learning_rate=0.01, gamma=0, colsample_bytree=0.5, total=   5.0s\n",
      "[CV] subsample=0.5, objective=binary:logistic, n_estimators=200, min_child_weight=3, max_depth=8, learning_rate=0.01, gamma=0, colsample_bytree=0.5 \n",
      "[CV]  subsample=0.5, objective=binary:logistic, n_estimators=200, min_child_weight=3, max_depth=8, learning_rate=0.01, gamma=0, colsample_bytree=0.5, total=   5.0s\n",
      "[CV] subsample=0.5, objective=binary:logistic, n_estimators=20, min_child_weight=5, max_depth=12, learning_rate=0.01, gamma=0, colsample_bytree=0.1 \n",
      "[CV]  subsample=0.5, objective=binary:logistic, n_estimators=20, min_child_weight=5, max_depth=12, learning_rate=0.01, gamma=0, colsample_bytree=0.1, total=   0.1s\n",
      "[CV] subsample=0.5, objective=binary:logistic, n_estimators=20, min_child_weight=5, max_depth=12, learning_rate=0.01, gamma=0, colsample_bytree=0.1 \n",
      "[CV]  subsample=0.5, objective=binary:logistic, n_estimators=20, min_child_weight=5, max_depth=12, learning_rate=0.01, gamma=0, colsample_bytree=0.1, total=   0.1s\n",
      "[CV] subsample=0.5, objective=binary:logistic, n_estimators=20, min_child_weight=5, max_depth=12, learning_rate=0.01, gamma=0, colsample_bytree=0.1 \n",
      "[CV]  subsample=0.5, objective=binary:logistic, n_estimators=20, min_child_weight=5, max_depth=12, learning_rate=0.01, gamma=0, colsample_bytree=0.1, total=   0.1s\n",
      "[CV] subsample=0.1, objective=binary:logistic, n_estimators=200, min_child_weight=1, max_depth=12, learning_rate=0.5, gamma=0.25, colsample_bytree=0.5 \n",
      "[CV]  subsample=0.1, objective=binary:logistic, n_estimators=200, min_child_weight=1, max_depth=12, learning_rate=0.5, gamma=0.25, colsample_bytree=0.5, total=   1.0s\n",
      "[CV] subsample=0.1, objective=binary:logistic, n_estimators=200, min_child_weight=1, max_depth=12, learning_rate=0.5, gamma=0.25, colsample_bytree=0.5 \n",
      "[CV]  subsample=0.1, objective=binary:logistic, n_estimators=200, min_child_weight=1, max_depth=12, learning_rate=0.5, gamma=0.25, colsample_bytree=0.5, total=   1.0s\n",
      "[CV] subsample=0.1, objective=binary:logistic, n_estimators=200, min_child_weight=1, max_depth=12, learning_rate=0.5, gamma=0.25, colsample_bytree=0.5 \n",
      "[CV]  subsample=0.1, objective=binary:logistic, n_estimators=200, min_child_weight=1, max_depth=12, learning_rate=0.5, gamma=0.25, colsample_bytree=0.5, total=   0.9s\n",
      "[CV] subsample=0.5, objective=binary:logistic, n_estimators=50, min_child_weight=5, max_depth=8, learning_rate=0.3, gamma=0.5, colsample_bytree=1 \n",
      "[CV]  subsample=0.5, objective=binary:logistic, n_estimators=50, min_child_weight=5, max_depth=8, learning_rate=0.3, gamma=0.5, colsample_bytree=1, total=   1.9s\n",
      "[CV] subsample=0.5, objective=binary:logistic, n_estimators=50, min_child_weight=5, max_depth=8, learning_rate=0.3, gamma=0.5, colsample_bytree=1 \n",
      "[CV]  subsample=0.5, objective=binary:logistic, n_estimators=50, min_child_weight=5, max_depth=8, learning_rate=0.3, gamma=0.5, colsample_bytree=1, total=   2.0s\n",
      "[CV] subsample=0.5, objective=binary:logistic, n_estimators=50, min_child_weight=5, max_depth=8, learning_rate=0.3, gamma=0.5, colsample_bytree=1 \n",
      "[CV]  subsample=0.5, objective=binary:logistic, n_estimators=50, min_child_weight=5, max_depth=8, learning_rate=0.3, gamma=0.5, colsample_bytree=1, total=   1.9s\n",
      "[CV] subsample=0.5, objective=binary:logistic, n_estimators=50, min_child_weight=1, max_depth=8, learning_rate=0.3, gamma=0.25, colsample_bytree=1 \n",
      "[CV]  subsample=0.5, objective=binary:logistic, n_estimators=50, min_child_weight=1, max_depth=8, learning_rate=0.3, gamma=0.25, colsample_bytree=1, total=   2.4s\n",
      "[CV] subsample=0.5, objective=binary:logistic, n_estimators=50, min_child_weight=1, max_depth=8, learning_rate=0.3, gamma=0.25, colsample_bytree=1 \n",
      "[CV]  subsample=0.5, objective=binary:logistic, n_estimators=50, min_child_weight=1, max_depth=8, learning_rate=0.3, gamma=0.25, colsample_bytree=1, total=   2.5s\n",
      "[CV] subsample=0.5, objective=binary:logistic, n_estimators=50, min_child_weight=1, max_depth=8, learning_rate=0.3, gamma=0.25, colsample_bytree=1 \n",
      "[CV]  subsample=0.5, objective=binary:logistic, n_estimators=50, min_child_weight=1, max_depth=8, learning_rate=0.3, gamma=0.25, colsample_bytree=1, total=   2.4s\n",
      "[CV] subsample=0.5, objective=binary:logistic, n_estimators=20, min_child_weight=5, max_depth=8, learning_rate=0.01, gamma=0.5, colsample_bytree=0.5 \n",
      "[CV]  subsample=0.5, objective=binary:logistic, n_estimators=20, min_child_weight=5, max_depth=8, learning_rate=0.01, gamma=0.5, colsample_bytree=0.5, total=   0.5s\n",
      "[CV] subsample=0.5, objective=binary:logistic, n_estimators=20, min_child_weight=5, max_depth=8, learning_rate=0.01, gamma=0.5, colsample_bytree=0.5 \n",
      "[CV]  subsample=0.5, objective=binary:logistic, n_estimators=20, min_child_weight=5, max_depth=8, learning_rate=0.01, gamma=0.5, colsample_bytree=0.5, total=   0.5s\n",
      "[CV] subsample=0.5, objective=binary:logistic, n_estimators=20, min_child_weight=5, max_depth=8, learning_rate=0.01, gamma=0.5, colsample_bytree=0.5 \n",
      "[CV]  subsample=0.5, objective=binary:logistic, n_estimators=20, min_child_weight=5, max_depth=8, learning_rate=0.01, gamma=0.5, colsample_bytree=0.5, total=   0.5s\n",
      "[CV] subsample=0.1, objective=binary:logistic, n_estimators=20, min_child_weight=5, max_depth=4, learning_rate=0.3, gamma=0.25, colsample_bytree=1 \n",
      "[CV]  subsample=0.1, objective=binary:logistic, n_estimators=20, min_child_weight=5, max_depth=4, learning_rate=0.3, gamma=0.25, colsample_bytree=1, total=   0.2s\n",
      "[CV] subsample=0.1, objective=binary:logistic, n_estimators=20, min_child_weight=5, max_depth=4, learning_rate=0.3, gamma=0.25, colsample_bytree=1 \n"
     ]
    },
    {
     "name": "stdout",
     "output_type": "stream",
     "text": [
      "[CV]  subsample=0.1, objective=binary:logistic, n_estimators=20, min_child_weight=5, max_depth=4, learning_rate=0.3, gamma=0.25, colsample_bytree=1, total=   0.2s\n",
      "[CV] subsample=0.1, objective=binary:logistic, n_estimators=20, min_child_weight=5, max_depth=4, learning_rate=0.3, gamma=0.25, colsample_bytree=1 \n",
      "[CV]  subsample=0.1, objective=binary:logistic, n_estimators=20, min_child_weight=5, max_depth=4, learning_rate=0.3, gamma=0.25, colsample_bytree=1, total=   0.2s\n",
      "[CV] subsample=0.1, objective=binary:logistic, n_estimators=50, min_child_weight=3, max_depth=8, learning_rate=0.01, gamma=0.5, colsample_bytree=1 \n",
      "[CV]  subsample=0.1, objective=binary:logistic, n_estimators=50, min_child_weight=3, max_depth=8, learning_rate=0.01, gamma=0.5, colsample_bytree=1, total=   0.5s\n",
      "[CV] subsample=0.1, objective=binary:logistic, n_estimators=50, min_child_weight=3, max_depth=8, learning_rate=0.01, gamma=0.5, colsample_bytree=1 \n",
      "[CV]  subsample=0.1, objective=binary:logistic, n_estimators=50, min_child_weight=3, max_depth=8, learning_rate=0.01, gamma=0.5, colsample_bytree=1, total=   0.6s\n",
      "[CV] subsample=0.1, objective=binary:logistic, n_estimators=50, min_child_weight=3, max_depth=8, learning_rate=0.01, gamma=0.5, colsample_bytree=1 \n",
      "[CV]  subsample=0.1, objective=binary:logistic, n_estimators=50, min_child_weight=3, max_depth=8, learning_rate=0.01, gamma=0.5, colsample_bytree=1, total=   0.6s\n",
      "[CV] subsample=0.1, objective=binary:logistic, n_estimators=20, min_child_weight=5, max_depth=8, learning_rate=0.3, gamma=0, colsample_bytree=0.5 \n",
      "[CV]  subsample=0.1, objective=binary:logistic, n_estimators=20, min_child_weight=5, max_depth=8, learning_rate=0.3, gamma=0, colsample_bytree=0.5, total=   0.1s\n",
      "[CV] subsample=0.1, objective=binary:logistic, n_estimators=20, min_child_weight=5, max_depth=8, learning_rate=0.3, gamma=0, colsample_bytree=0.5 \n",
      "[CV]  subsample=0.1, objective=binary:logistic, n_estimators=20, min_child_weight=5, max_depth=8, learning_rate=0.3, gamma=0, colsample_bytree=0.5, total=   0.1s\n",
      "[CV] subsample=0.1, objective=binary:logistic, n_estimators=20, min_child_weight=5, max_depth=8, learning_rate=0.3, gamma=0, colsample_bytree=0.5 \n",
      "[CV]  subsample=0.1, objective=binary:logistic, n_estimators=20, min_child_weight=5, max_depth=8, learning_rate=0.3, gamma=0, colsample_bytree=0.5, total=   0.1s\n",
      "[CV] subsample=0.1, objective=binary:logistic, n_estimators=200, min_child_weight=1, max_depth=8, learning_rate=0.5, gamma=0.25, colsample_bytree=0.1 \n",
      "[CV]  subsample=0.1, objective=binary:logistic, n_estimators=200, min_child_weight=1, max_depth=8, learning_rate=0.5, gamma=0.25, colsample_bytree=0.1, total=   0.4s\n",
      "[CV] subsample=0.1, objective=binary:logistic, n_estimators=200, min_child_weight=1, max_depth=8, learning_rate=0.5, gamma=0.25, colsample_bytree=0.1 \n",
      "[CV]  subsample=0.1, objective=binary:logistic, n_estimators=200, min_child_weight=1, max_depth=8, learning_rate=0.5, gamma=0.25, colsample_bytree=0.1, total=   0.4s\n",
      "[CV] subsample=0.1, objective=binary:logistic, n_estimators=200, min_child_weight=1, max_depth=8, learning_rate=0.5, gamma=0.25, colsample_bytree=0.1 \n",
      "[CV]  subsample=0.1, objective=binary:logistic, n_estimators=200, min_child_weight=1, max_depth=8, learning_rate=0.5, gamma=0.25, colsample_bytree=0.1, total=   0.4s\n",
      "[CV] subsample=1, objective=binary:logistic, n_estimators=200, min_child_weight=3, max_depth=4, learning_rate=0.5, gamma=0, colsample_bytree=0.1 \n",
      "[CV]  subsample=1, objective=binary:logistic, n_estimators=200, min_child_weight=3, max_depth=4, learning_rate=0.5, gamma=0, colsample_bytree=0.1, total=   0.7s\n",
      "[CV] subsample=1, objective=binary:logistic, n_estimators=200, min_child_weight=3, max_depth=4, learning_rate=0.5, gamma=0, colsample_bytree=0.1 \n",
      "[CV]  subsample=1, objective=binary:logistic, n_estimators=200, min_child_weight=3, max_depth=4, learning_rate=0.5, gamma=0, colsample_bytree=0.1, total=   0.7s\n",
      "[CV] subsample=1, objective=binary:logistic, n_estimators=200, min_child_weight=3, max_depth=4, learning_rate=0.5, gamma=0, colsample_bytree=0.1 \n",
      "[CV]  subsample=1, objective=binary:logistic, n_estimators=200, min_child_weight=3, max_depth=4, learning_rate=0.5, gamma=0, colsample_bytree=0.1, total=   0.7s\n",
      "[CV] subsample=0.5, objective=binary:logistic, n_estimators=200, min_child_weight=1, max_depth=12, learning_rate=0.5, gamma=0, colsample_bytree=1 \n",
      "[CV]  subsample=0.5, objective=binary:logistic, n_estimators=200, min_child_weight=1, max_depth=12, learning_rate=0.5, gamma=0, colsample_bytree=1, total=   4.9s\n",
      "[CV] subsample=0.5, objective=binary:logistic, n_estimators=200, min_child_weight=1, max_depth=12, learning_rate=0.5, gamma=0, colsample_bytree=1 \n",
      "[CV]  subsample=0.5, objective=binary:logistic, n_estimators=200, min_child_weight=1, max_depth=12, learning_rate=0.5, gamma=0, colsample_bytree=1, total=   5.0s\n",
      "[CV] subsample=0.5, objective=binary:logistic, n_estimators=200, min_child_weight=1, max_depth=12, learning_rate=0.5, gamma=0, colsample_bytree=1 \n",
      "[CV]  subsample=0.5, objective=binary:logistic, n_estimators=200, min_child_weight=1, max_depth=12, learning_rate=0.5, gamma=0, colsample_bytree=1, total=   5.0s\n",
      "[CV] subsample=1, objective=binary:logistic, n_estimators=200, min_child_weight=3, max_depth=4, learning_rate=0.3, gamma=0.5, colsample_bytree=0.5 \n",
      "[CV]  subsample=1, objective=binary:logistic, n_estimators=200, min_child_weight=3, max_depth=4, learning_rate=0.3, gamma=0.5, colsample_bytree=0.5, total=   3.4s\n",
      "[CV] subsample=1, objective=binary:logistic, n_estimators=200, min_child_weight=3, max_depth=4, learning_rate=0.3, gamma=0.5, colsample_bytree=0.5 \n",
      "[CV]  subsample=1, objective=binary:logistic, n_estimators=200, min_child_weight=3, max_depth=4, learning_rate=0.3, gamma=0.5, colsample_bytree=0.5, total=   3.4s\n",
      "[CV] subsample=1, objective=binary:logistic, n_estimators=200, min_child_weight=3, max_depth=4, learning_rate=0.3, gamma=0.5, colsample_bytree=0.5 \n",
      "[CV]  subsample=1, objective=binary:logistic, n_estimators=200, min_child_weight=3, max_depth=4, learning_rate=0.3, gamma=0.5, colsample_bytree=0.5, total=   3.4s\n",
      "[CV] subsample=1, objective=binary:logistic, n_estimators=20, min_child_weight=1, max_depth=8, learning_rate=0.3, gamma=0.5, colsample_bytree=1 \n",
      "[CV]  subsample=1, objective=binary:logistic, n_estimators=20, min_child_weight=1, max_depth=8, learning_rate=0.3, gamma=0.5, colsample_bytree=1, total=   1.5s\n",
      "[CV] subsample=1, objective=binary:logistic, n_estimators=20, min_child_weight=1, max_depth=8, learning_rate=0.3, gamma=0.5, colsample_bytree=1 \n",
      "[CV]  subsample=1, objective=binary:logistic, n_estimators=20, min_child_weight=1, max_depth=8, learning_rate=0.3, gamma=0.5, colsample_bytree=1, total=   1.5s\n",
      "[CV] subsample=1, objective=binary:logistic, n_estimators=20, min_child_weight=1, max_depth=8, learning_rate=0.3, gamma=0.5, colsample_bytree=1 \n",
      "[CV]  subsample=1, objective=binary:logistic, n_estimators=20, min_child_weight=1, max_depth=8, learning_rate=0.3, gamma=0.5, colsample_bytree=1, total=   1.5s\n",
      "[CV] subsample=1, objective=binary:logistic, n_estimators=50, min_child_weight=3, max_depth=12, learning_rate=0.01, gamma=0.5, colsample_bytree=0.1 \n",
      "[CV]  subsample=1, objective=binary:logistic, n_estimators=50, min_child_weight=3, max_depth=12, learning_rate=0.01, gamma=0.5, colsample_bytree=0.1, total=   0.5s\n",
      "[CV] subsample=1, objective=binary:logistic, n_estimators=50, min_child_weight=3, max_depth=12, learning_rate=0.01, gamma=0.5, colsample_bytree=0.1 \n",
      "[CV]  subsample=1, objective=binary:logistic, n_estimators=50, min_child_weight=3, max_depth=12, learning_rate=0.01, gamma=0.5, colsample_bytree=0.1, total=   0.5s\n",
      "[CV] subsample=1, objective=binary:logistic, n_estimators=50, min_child_weight=3, max_depth=12, learning_rate=0.01, gamma=0.5, colsample_bytree=0.1 \n",
      "[CV]  subsample=1, objective=binary:logistic, n_estimators=50, min_child_weight=3, max_depth=12, learning_rate=0.01, gamma=0.5, colsample_bytree=0.1, total=   0.5s\n",
      "[CV] subsample=0.5, objective=binary:logistic, n_estimators=50, min_child_weight=1, max_depth=12, learning_rate=0.01, gamma=0.5, colsample_bytree=0.1 \n",
      "[CV]  subsample=0.5, objective=binary:logistic, n_estimators=50, min_child_weight=1, max_depth=12, learning_rate=0.01, gamma=0.5, colsample_bytree=0.1, total=   0.4s\n",
      "[CV] subsample=0.5, objective=binary:logistic, n_estimators=50, min_child_weight=1, max_depth=12, learning_rate=0.01, gamma=0.5, colsample_bytree=0.1 \n"
     ]
    },
    {
     "name": "stdout",
     "output_type": "stream",
     "text": [
      "[CV]  subsample=0.5, objective=binary:logistic, n_estimators=50, min_child_weight=1, max_depth=12, learning_rate=0.01, gamma=0.5, colsample_bytree=0.1, total=   0.4s\n",
      "[CV] subsample=0.5, objective=binary:logistic, n_estimators=50, min_child_weight=1, max_depth=12, learning_rate=0.01, gamma=0.5, colsample_bytree=0.1 \n",
      "[CV]  subsample=0.5, objective=binary:logistic, n_estimators=50, min_child_weight=1, max_depth=12, learning_rate=0.01, gamma=0.5, colsample_bytree=0.1, total=   0.4s\n",
      "[CV] subsample=0.1, objective=binary:logistic, n_estimators=50, min_child_weight=3, max_depth=8, learning_rate=0.3, gamma=0.5, colsample_bytree=0.5 \n",
      "[CV]  subsample=0.1, objective=binary:logistic, n_estimators=50, min_child_weight=3, max_depth=8, learning_rate=0.3, gamma=0.5, colsample_bytree=0.5, total=   0.3s\n",
      "[CV] subsample=0.1, objective=binary:logistic, n_estimators=50, min_child_weight=3, max_depth=8, learning_rate=0.3, gamma=0.5, colsample_bytree=0.5 \n",
      "[CV]  subsample=0.1, objective=binary:logistic, n_estimators=50, min_child_weight=3, max_depth=8, learning_rate=0.3, gamma=0.5, colsample_bytree=0.5, total=   0.3s\n",
      "[CV] subsample=0.1, objective=binary:logistic, n_estimators=50, min_child_weight=3, max_depth=8, learning_rate=0.3, gamma=0.5, colsample_bytree=0.5 \n",
      "[CV]  subsample=0.1, objective=binary:logistic, n_estimators=50, min_child_weight=3, max_depth=8, learning_rate=0.3, gamma=0.5, colsample_bytree=0.5, total=   0.3s\n",
      "[CV] subsample=1, objective=binary:logistic, n_estimators=20, min_child_weight=1, max_depth=4, learning_rate=0.3, gamma=0.25, colsample_bytree=1 \n",
      "[CV]  subsample=1, objective=binary:logistic, n_estimators=20, min_child_weight=1, max_depth=4, learning_rate=0.3, gamma=0.25, colsample_bytree=1, total=   0.8s\n",
      "[CV] subsample=1, objective=binary:logistic, n_estimators=20, min_child_weight=1, max_depth=4, learning_rate=0.3, gamma=0.25, colsample_bytree=1 \n",
      "[CV]  subsample=1, objective=binary:logistic, n_estimators=20, min_child_weight=1, max_depth=4, learning_rate=0.3, gamma=0.25, colsample_bytree=1, total=   0.8s\n",
      "[CV] subsample=1, objective=binary:logistic, n_estimators=20, min_child_weight=1, max_depth=4, learning_rate=0.3, gamma=0.25, colsample_bytree=1 \n",
      "[CV]  subsample=1, objective=binary:logistic, n_estimators=20, min_child_weight=1, max_depth=4, learning_rate=0.3, gamma=0.25, colsample_bytree=1, total=   0.8s\n",
      "[CV] subsample=0.5, objective=binary:logistic, n_estimators=20, min_child_weight=1, max_depth=4, learning_rate=0.3, gamma=0.5, colsample_bytree=1 \n",
      "[CV]  subsample=0.5, objective=binary:logistic, n_estimators=20, min_child_weight=1, max_depth=4, learning_rate=0.3, gamma=0.5, colsample_bytree=1, total=   0.6s\n",
      "[CV] subsample=0.5, objective=binary:logistic, n_estimators=20, min_child_weight=1, max_depth=4, learning_rate=0.3, gamma=0.5, colsample_bytree=1 \n",
      "[CV]  subsample=0.5, objective=binary:logistic, n_estimators=20, min_child_weight=1, max_depth=4, learning_rate=0.3, gamma=0.5, colsample_bytree=1, total=   0.6s\n",
      "[CV] subsample=0.5, objective=binary:logistic, n_estimators=20, min_child_weight=1, max_depth=4, learning_rate=0.3, gamma=0.5, colsample_bytree=1 \n",
      "[CV]  subsample=0.5, objective=binary:logistic, n_estimators=20, min_child_weight=1, max_depth=4, learning_rate=0.3, gamma=0.5, colsample_bytree=1, total=   0.6s\n",
      "[CV] subsample=1, objective=binary:logistic, n_estimators=20, min_child_weight=3, max_depth=4, learning_rate=0.01, gamma=0.25, colsample_bytree=1 \n",
      "[CV]  subsample=1, objective=binary:logistic, n_estimators=20, min_child_weight=3, max_depth=4, learning_rate=0.01, gamma=0.25, colsample_bytree=1, total=   0.8s\n",
      "[CV] subsample=1, objective=binary:logistic, n_estimators=20, min_child_weight=3, max_depth=4, learning_rate=0.01, gamma=0.25, colsample_bytree=1 \n",
      "[CV]  subsample=1, objective=binary:logistic, n_estimators=20, min_child_weight=3, max_depth=4, learning_rate=0.01, gamma=0.25, colsample_bytree=1, total=   0.8s\n",
      "[CV] subsample=1, objective=binary:logistic, n_estimators=20, min_child_weight=3, max_depth=4, learning_rate=0.01, gamma=0.25, colsample_bytree=1 \n",
      "[CV]  subsample=1, objective=binary:logistic, n_estimators=20, min_child_weight=3, max_depth=4, learning_rate=0.01, gamma=0.25, colsample_bytree=1, total=   1.4s\n",
      "[CV] subsample=1, objective=binary:logistic, n_estimators=20, min_child_weight=3, max_depth=8, learning_rate=0.3, gamma=0.25, colsample_bytree=1 \n",
      "[CV]  subsample=1, objective=binary:logistic, n_estimators=20, min_child_weight=3, max_depth=8, learning_rate=0.3, gamma=0.25, colsample_bytree=1, total=   1.4s\n",
      "[CV] subsample=1, objective=binary:logistic, n_estimators=20, min_child_weight=3, max_depth=8, learning_rate=0.3, gamma=0.25, colsample_bytree=1 \n",
      "[CV]  subsample=1, objective=binary:logistic, n_estimators=20, min_child_weight=3, max_depth=8, learning_rate=0.3, gamma=0.25, colsample_bytree=1, total=   1.7s\n",
      "[CV] subsample=1, objective=binary:logistic, n_estimators=20, min_child_weight=3, max_depth=8, learning_rate=0.3, gamma=0.25, colsample_bytree=1 \n",
      "[CV]  subsample=1, objective=binary:logistic, n_estimators=20, min_child_weight=3, max_depth=8, learning_rate=0.3, gamma=0.25, colsample_bytree=1, total=   1.4s\n",
      "[CV] subsample=1, objective=binary:logistic, n_estimators=50, min_child_weight=3, max_depth=8, learning_rate=0.01, gamma=0.5, colsample_bytree=0.1 \n",
      "[CV]  subsample=1, objective=binary:logistic, n_estimators=50, min_child_weight=3, max_depth=8, learning_rate=0.01, gamma=0.5, colsample_bytree=0.1, total=   0.5s\n",
      "[CV] subsample=1, objective=binary:logistic, n_estimators=50, min_child_weight=3, max_depth=8, learning_rate=0.01, gamma=0.5, colsample_bytree=0.1 \n",
      "[CV]  subsample=1, objective=binary:logistic, n_estimators=50, min_child_weight=3, max_depth=8, learning_rate=0.01, gamma=0.5, colsample_bytree=0.1, total=   0.5s\n",
      "[CV] subsample=1, objective=binary:logistic, n_estimators=50, min_child_weight=3, max_depth=8, learning_rate=0.01, gamma=0.5, colsample_bytree=0.1 \n",
      "[CV]  subsample=1, objective=binary:logistic, n_estimators=50, min_child_weight=3, max_depth=8, learning_rate=0.01, gamma=0.5, colsample_bytree=0.1, total=   0.5s\n",
      "[CV] subsample=0.1, objective=binary:logistic, n_estimators=50, min_child_weight=5, max_depth=4, learning_rate=0.3, gamma=0.5, colsample_bytree=0.1 \n",
      "[CV]  subsample=0.1, objective=binary:logistic, n_estimators=50, min_child_weight=5, max_depth=4, learning_rate=0.3, gamma=0.5, colsample_bytree=0.1, total=   0.1s\n",
      "[CV] subsample=0.1, objective=binary:logistic, n_estimators=50, min_child_weight=5, max_depth=4, learning_rate=0.3, gamma=0.5, colsample_bytree=0.1 \n",
      "[CV]  subsample=0.1, objective=binary:logistic, n_estimators=50, min_child_weight=5, max_depth=4, learning_rate=0.3, gamma=0.5, colsample_bytree=0.1, total=   0.1s\n",
      "[CV] subsample=0.1, objective=binary:logistic, n_estimators=50, min_child_weight=5, max_depth=4, learning_rate=0.3, gamma=0.5, colsample_bytree=0.1 \n",
      "[CV]  subsample=0.1, objective=binary:logistic, n_estimators=50, min_child_weight=5, max_depth=4, learning_rate=0.3, gamma=0.5, colsample_bytree=0.1, total=   0.1s\n",
      "[CV] subsample=0.5, objective=binary:logistic, n_estimators=200, min_child_weight=1, max_depth=8, learning_rate=0.01, gamma=0.5, colsample_bytree=1 \n",
      "[CV]  subsample=0.5, objective=binary:logistic, n_estimators=200, min_child_weight=1, max_depth=8, learning_rate=0.01, gamma=0.5, colsample_bytree=1, total=  11.3s\n",
      "[CV] subsample=0.5, objective=binary:logistic, n_estimators=200, min_child_weight=1, max_depth=8, learning_rate=0.01, gamma=0.5, colsample_bytree=1 \n",
      "[CV]  subsample=0.5, objective=binary:logistic, n_estimators=200, min_child_weight=1, max_depth=8, learning_rate=0.01, gamma=0.5, colsample_bytree=1, total=  10.8s\n",
      "[CV] subsample=0.5, objective=binary:logistic, n_estimators=200, min_child_weight=1, max_depth=8, learning_rate=0.01, gamma=0.5, colsample_bytree=1 \n",
      "[CV]  subsample=0.5, objective=binary:logistic, n_estimators=200, min_child_weight=1, max_depth=8, learning_rate=0.01, gamma=0.5, colsample_bytree=1, total=  10.8s\n",
      "[CV] subsample=0.1, objective=binary:logistic, n_estimators=20, min_child_weight=3, max_depth=12, learning_rate=0.01, gamma=0.25, colsample_bytree=0.1 \n",
      "[CV]  subsample=0.1, objective=binary:logistic, n_estimators=20, min_child_weight=3, max_depth=12, learning_rate=0.01, gamma=0.25, colsample_bytree=0.1, total=   0.1s\n",
      "[CV] subsample=0.1, objective=binary:logistic, n_estimators=20, min_child_weight=3, max_depth=12, learning_rate=0.01, gamma=0.25, colsample_bytree=0.1 \n",
      "[CV]  subsample=0.1, objective=binary:logistic, n_estimators=20, min_child_weight=3, max_depth=12, learning_rate=0.01, gamma=0.25, colsample_bytree=0.1, total=   0.1s\n",
      "[CV] subsample=0.1, objective=binary:logistic, n_estimators=20, min_child_weight=3, max_depth=12, learning_rate=0.01, gamma=0.25, colsample_bytree=0.1 \n"
     ]
    },
    {
     "name": "stdout",
     "output_type": "stream",
     "text": [
      "[CV]  subsample=0.1, objective=binary:logistic, n_estimators=20, min_child_weight=3, max_depth=12, learning_rate=0.01, gamma=0.25, colsample_bytree=0.1, total=   0.1s\n",
      "[CV] subsample=1, objective=binary:logistic, n_estimators=200, min_child_weight=5, max_depth=8, learning_rate=0.3, gamma=0, colsample_bytree=0.1 \n",
      "[CV]  subsample=1, objective=binary:logistic, n_estimators=200, min_child_weight=5, max_depth=8, learning_rate=0.3, gamma=0, colsample_bytree=0.1, total=   0.9s\n",
      "[CV] subsample=1, objective=binary:logistic, n_estimators=200, min_child_weight=5, max_depth=8, learning_rate=0.3, gamma=0, colsample_bytree=0.1 \n",
      "[CV]  subsample=1, objective=binary:logistic, n_estimators=200, min_child_weight=5, max_depth=8, learning_rate=0.3, gamma=0, colsample_bytree=0.1, total=   0.9s\n",
      "[CV] subsample=1, objective=binary:logistic, n_estimators=200, min_child_weight=5, max_depth=8, learning_rate=0.3, gamma=0, colsample_bytree=0.1 \n",
      "[CV]  subsample=1, objective=binary:logistic, n_estimators=200, min_child_weight=5, max_depth=8, learning_rate=0.3, gamma=0, colsample_bytree=0.1, total=   0.9s\n",
      "[CV] subsample=1, objective=binary:logistic, n_estimators=20, min_child_weight=3, max_depth=8, learning_rate=0.01, gamma=0.5, colsample_bytree=1 \n",
      "[CV]  subsample=1, objective=binary:logistic, n_estimators=20, min_child_weight=3, max_depth=8, learning_rate=0.01, gamma=0.5, colsample_bytree=1, total=   1.5s\n",
      "[CV] subsample=1, objective=binary:logistic, n_estimators=20, min_child_weight=3, max_depth=8, learning_rate=0.01, gamma=0.5, colsample_bytree=1 \n",
      "[CV]  subsample=1, objective=binary:logistic, n_estimators=20, min_child_weight=3, max_depth=8, learning_rate=0.01, gamma=0.5, colsample_bytree=1, total=   1.5s\n",
      "[CV] subsample=1, objective=binary:logistic, n_estimators=20, min_child_weight=3, max_depth=8, learning_rate=0.01, gamma=0.5, colsample_bytree=1 \n",
      "[CV]  subsample=1, objective=binary:logistic, n_estimators=20, min_child_weight=3, max_depth=8, learning_rate=0.01, gamma=0.5, colsample_bytree=1, total=   1.5s\n",
      "[CV] subsample=1, objective=binary:logistic, n_estimators=200, min_child_weight=3, max_depth=12, learning_rate=0.3, gamma=0.5, colsample_bytree=1 \n",
      "[CV]  subsample=1, objective=binary:logistic, n_estimators=200, min_child_weight=3, max_depth=12, learning_rate=0.3, gamma=0.5, colsample_bytree=1, total=   9.5s\n",
      "[CV] subsample=1, objective=binary:logistic, n_estimators=200, min_child_weight=3, max_depth=12, learning_rate=0.3, gamma=0.5, colsample_bytree=1 \n",
      "[CV]  subsample=1, objective=binary:logistic, n_estimators=200, min_child_weight=3, max_depth=12, learning_rate=0.3, gamma=0.5, colsample_bytree=1, total=  11.0s\n",
      "[CV] subsample=1, objective=binary:logistic, n_estimators=200, min_child_weight=3, max_depth=12, learning_rate=0.3, gamma=0.5, colsample_bytree=1 \n",
      "[CV]  subsample=1, objective=binary:logistic, n_estimators=200, min_child_weight=3, max_depth=12, learning_rate=0.3, gamma=0.5, colsample_bytree=1, total=   8.9s\n",
      "[CV] subsample=0.1, objective=binary:logistic, n_estimators=50, min_child_weight=5, max_depth=8, learning_rate=0.5, gamma=0.25, colsample_bytree=0.5 \n",
      "[CV]  subsample=0.1, objective=binary:logistic, n_estimators=50, min_child_weight=5, max_depth=8, learning_rate=0.5, gamma=0.25, colsample_bytree=0.5, total=   0.2s\n",
      "[CV] subsample=0.1, objective=binary:logistic, n_estimators=50, min_child_weight=5, max_depth=8, learning_rate=0.5, gamma=0.25, colsample_bytree=0.5 \n",
      "[CV]  subsample=0.1, objective=binary:logistic, n_estimators=50, min_child_weight=5, max_depth=8, learning_rate=0.5, gamma=0.25, colsample_bytree=0.5, total=   0.2s\n",
      "[CV] subsample=0.1, objective=binary:logistic, n_estimators=50, min_child_weight=5, max_depth=8, learning_rate=0.5, gamma=0.25, colsample_bytree=0.5 \n",
      "[CV]  subsample=0.1, objective=binary:logistic, n_estimators=50, min_child_weight=5, max_depth=8, learning_rate=0.5, gamma=0.25, colsample_bytree=0.5, total=   0.2s\n",
      "[CV] subsample=0.5, objective=binary:logistic, n_estimators=50, min_child_weight=3, max_depth=4, learning_rate=0.01, gamma=0.5, colsample_bytree=1 \n",
      "[CV]  subsample=0.5, objective=binary:logistic, n_estimators=50, min_child_weight=3, max_depth=4, learning_rate=0.01, gamma=0.5, colsample_bytree=1, total=   1.5s\n",
      "[CV] subsample=0.5, objective=binary:logistic, n_estimators=50, min_child_weight=3, max_depth=4, learning_rate=0.01, gamma=0.5, colsample_bytree=1 \n",
      "[CV]  subsample=0.5, objective=binary:logistic, n_estimators=50, min_child_weight=3, max_depth=4, learning_rate=0.01, gamma=0.5, colsample_bytree=1, total=   1.5s\n",
      "[CV] subsample=0.5, objective=binary:logistic, n_estimators=50, min_child_weight=3, max_depth=4, learning_rate=0.01, gamma=0.5, colsample_bytree=1 \n",
      "[CV]  subsample=0.5, objective=binary:logistic, n_estimators=50, min_child_weight=3, max_depth=4, learning_rate=0.01, gamma=0.5, colsample_bytree=1, total=   1.5s\n",
      "[CV] subsample=1, objective=binary:logistic, n_estimators=20, min_child_weight=5, max_depth=8, learning_rate=0.01, gamma=0, colsample_bytree=1 \n",
      "[CV]  subsample=1, objective=binary:logistic, n_estimators=20, min_child_weight=5, max_depth=8, learning_rate=0.01, gamma=0, colsample_bytree=1, total=   1.4s\n",
      "[CV] subsample=1, objective=binary:logistic, n_estimators=20, min_child_weight=5, max_depth=8, learning_rate=0.01, gamma=0, colsample_bytree=1 \n",
      "[CV]  subsample=1, objective=binary:logistic, n_estimators=20, min_child_weight=5, max_depth=8, learning_rate=0.01, gamma=0, colsample_bytree=1, total=   1.3s\n",
      "[CV] subsample=1, objective=binary:logistic, n_estimators=20, min_child_weight=5, max_depth=8, learning_rate=0.01, gamma=0, colsample_bytree=1 \n",
      "[CV]  subsample=1, objective=binary:logistic, n_estimators=20, min_child_weight=5, max_depth=8, learning_rate=0.01, gamma=0, colsample_bytree=1, total=   1.4s\n",
      "[CV] subsample=1, objective=binary:logistic, n_estimators=20, min_child_weight=1, max_depth=4, learning_rate=0.01, gamma=0.25, colsample_bytree=1 \n",
      "[CV]  subsample=1, objective=binary:logistic, n_estimators=20, min_child_weight=1, max_depth=4, learning_rate=0.01, gamma=0.25, colsample_bytree=1, total=   0.8s\n",
      "[CV] subsample=1, objective=binary:logistic, n_estimators=20, min_child_weight=1, max_depth=4, learning_rate=0.01, gamma=0.25, colsample_bytree=1 \n",
      "[CV]  subsample=1, objective=binary:logistic, n_estimators=20, min_child_weight=1, max_depth=4, learning_rate=0.01, gamma=0.25, colsample_bytree=1, total=   0.8s\n",
      "[CV] subsample=1, objective=binary:logistic, n_estimators=20, min_child_weight=1, max_depth=4, learning_rate=0.01, gamma=0.25, colsample_bytree=1 \n",
      "[CV]  subsample=1, objective=binary:logistic, n_estimators=20, min_child_weight=1, max_depth=4, learning_rate=0.01, gamma=0.25, colsample_bytree=1, total=   0.8s\n",
      "[CV] subsample=0.5, objective=binary:logistic, n_estimators=20, min_child_weight=5, max_depth=4, learning_rate=0.3, gamma=0, colsample_bytree=0.1 \n",
      "[CV]  subsample=0.5, objective=binary:logistic, n_estimators=20, min_child_weight=5, max_depth=4, learning_rate=0.3, gamma=0, colsample_bytree=0.1, total=   0.1s\n",
      "[CV] subsample=0.5, objective=binary:logistic, n_estimators=20, min_child_weight=5, max_depth=4, learning_rate=0.3, gamma=0, colsample_bytree=0.1 \n",
      "[CV]  subsample=0.5, objective=binary:logistic, n_estimators=20, min_child_weight=5, max_depth=4, learning_rate=0.3, gamma=0, colsample_bytree=0.1, total=   0.1s\n",
      "[CV] subsample=0.5, objective=binary:logistic, n_estimators=20, min_child_weight=5, max_depth=4, learning_rate=0.3, gamma=0, colsample_bytree=0.1 \n",
      "[CV]  subsample=0.5, objective=binary:logistic, n_estimators=20, min_child_weight=5, max_depth=4, learning_rate=0.3, gamma=0, colsample_bytree=0.1, total=   0.1s\n",
      "[CV] subsample=0.1, objective=binary:logistic, n_estimators=50, min_child_weight=3, max_depth=4, learning_rate=0.01, gamma=0.5, colsample_bytree=1 \n",
      "[CV]  subsample=0.1, objective=binary:logistic, n_estimators=50, min_child_weight=3, max_depth=4, learning_rate=0.01, gamma=0.5, colsample_bytree=1, total=   0.5s\n",
      "[CV] subsample=0.1, objective=binary:logistic, n_estimators=50, min_child_weight=3, max_depth=4, learning_rate=0.01, gamma=0.5, colsample_bytree=1 \n",
      "[CV]  subsample=0.1, objective=binary:logistic, n_estimators=50, min_child_weight=3, max_depth=4, learning_rate=0.01, gamma=0.5, colsample_bytree=1, total=   0.5s\n",
      "[CV] subsample=0.1, objective=binary:logistic, n_estimators=50, min_child_weight=3, max_depth=4, learning_rate=0.01, gamma=0.5, colsample_bytree=1 \n"
     ]
    },
    {
     "name": "stdout",
     "output_type": "stream",
     "text": [
      "[CV]  subsample=0.1, objective=binary:logistic, n_estimators=50, min_child_weight=3, max_depth=4, learning_rate=0.01, gamma=0.5, colsample_bytree=1, total=   0.5s\n",
      "[CV] subsample=1, objective=binary:logistic, n_estimators=20, min_child_weight=5, max_depth=8, learning_rate=0.3, gamma=0, colsample_bytree=1 \n",
      "[CV]  subsample=1, objective=binary:logistic, n_estimators=20, min_child_weight=5, max_depth=8, learning_rate=0.3, gamma=0, colsample_bytree=1, total=   1.3s\n",
      "[CV] subsample=1, objective=binary:logistic, n_estimators=20, min_child_weight=5, max_depth=8, learning_rate=0.3, gamma=0, colsample_bytree=1 \n",
      "[CV]  subsample=1, objective=binary:logistic, n_estimators=20, min_child_weight=5, max_depth=8, learning_rate=0.3, gamma=0, colsample_bytree=1, total=   1.3s\n",
      "[CV] subsample=1, objective=binary:logistic, n_estimators=20, min_child_weight=5, max_depth=8, learning_rate=0.3, gamma=0, colsample_bytree=1 \n",
      "[CV]  subsample=1, objective=binary:logistic, n_estimators=20, min_child_weight=5, max_depth=8, learning_rate=0.3, gamma=0, colsample_bytree=1, total=   1.3s\n",
      "[CV] subsample=0.1, objective=binary:logistic, n_estimators=50, min_child_weight=5, max_depth=4, learning_rate=0.3, gamma=0.25, colsample_bytree=1 \n",
      "[CV]  subsample=0.1, objective=binary:logistic, n_estimators=50, min_child_weight=5, max_depth=4, learning_rate=0.3, gamma=0.25, colsample_bytree=1, total=   0.4s\n",
      "[CV] subsample=0.1, objective=binary:logistic, n_estimators=50, min_child_weight=5, max_depth=4, learning_rate=0.3, gamma=0.25, colsample_bytree=1 \n",
      "[CV]  subsample=0.1, objective=binary:logistic, n_estimators=50, min_child_weight=5, max_depth=4, learning_rate=0.3, gamma=0.25, colsample_bytree=1, total=   0.4s\n",
      "[CV] subsample=0.1, objective=binary:logistic, n_estimators=50, min_child_weight=5, max_depth=4, learning_rate=0.3, gamma=0.25, colsample_bytree=1 \n",
      "[CV]  subsample=0.1, objective=binary:logistic, n_estimators=50, min_child_weight=5, max_depth=4, learning_rate=0.3, gamma=0.25, colsample_bytree=1, total=   0.4s\n",
      "[CV] subsample=1, objective=binary:logistic, n_estimators=20, min_child_weight=1, max_depth=12, learning_rate=0.5, gamma=0, colsample_bytree=0.1 \n",
      "[CV]  subsample=1, objective=binary:logistic, n_estimators=20, min_child_weight=1, max_depth=12, learning_rate=0.5, gamma=0, colsample_bytree=0.1, total=   0.2s\n",
      "[CV] subsample=1, objective=binary:logistic, n_estimators=20, min_child_weight=1, max_depth=12, learning_rate=0.5, gamma=0, colsample_bytree=0.1 \n",
      "[CV]  subsample=1, objective=binary:logistic, n_estimators=20, min_child_weight=1, max_depth=12, learning_rate=0.5, gamma=0, colsample_bytree=0.1, total=   0.2s\n",
      "[CV] subsample=1, objective=binary:logistic, n_estimators=20, min_child_weight=1, max_depth=12, learning_rate=0.5, gamma=0, colsample_bytree=0.1 \n",
      "[CV]  subsample=1, objective=binary:logistic, n_estimators=20, min_child_weight=1, max_depth=12, learning_rate=0.5, gamma=0, colsample_bytree=0.1, total=   0.2s\n",
      "[CV] subsample=0.1, objective=binary:logistic, n_estimators=50, min_child_weight=3, max_depth=4, learning_rate=0.5, gamma=0.5, colsample_bytree=1 \n",
      "[CV]  subsample=0.1, objective=binary:logistic, n_estimators=50, min_child_weight=3, max_depth=4, learning_rate=0.5, gamma=0.5, colsample_bytree=1, total=   0.4s\n",
      "[CV] subsample=0.1, objective=binary:logistic, n_estimators=50, min_child_weight=3, max_depth=4, learning_rate=0.5, gamma=0.5, colsample_bytree=1 \n",
      "[CV]  subsample=0.1, objective=binary:logistic, n_estimators=50, min_child_weight=3, max_depth=4, learning_rate=0.5, gamma=0.5, colsample_bytree=1, total=   0.4s\n",
      "[CV] subsample=0.1, objective=binary:logistic, n_estimators=50, min_child_weight=3, max_depth=4, learning_rate=0.5, gamma=0.5, colsample_bytree=1 \n",
      "[CV]  subsample=0.1, objective=binary:logistic, n_estimators=50, min_child_weight=3, max_depth=4, learning_rate=0.5, gamma=0.5, colsample_bytree=1, total=   0.4s\n",
      "[CV] subsample=0.1, objective=binary:logistic, n_estimators=20, min_child_weight=1, max_depth=12, learning_rate=0.5, gamma=0.25, colsample_bytree=1 \n",
      "[CV]  subsample=0.1, objective=binary:logistic, n_estimators=20, min_child_weight=1, max_depth=12, learning_rate=0.5, gamma=0.25, colsample_bytree=1, total=   0.3s\n",
      "[CV] subsample=0.1, objective=binary:logistic, n_estimators=20, min_child_weight=1, max_depth=12, learning_rate=0.5, gamma=0.25, colsample_bytree=1 \n",
      "[CV]  subsample=0.1, objective=binary:logistic, n_estimators=20, min_child_weight=1, max_depth=12, learning_rate=0.5, gamma=0.25, colsample_bytree=1, total=   0.3s\n",
      "[CV] subsample=0.1, objective=binary:logistic, n_estimators=20, min_child_weight=1, max_depth=12, learning_rate=0.5, gamma=0.25, colsample_bytree=1 \n",
      "[CV]  subsample=0.1, objective=binary:logistic, n_estimators=20, min_child_weight=1, max_depth=12, learning_rate=0.5, gamma=0.25, colsample_bytree=1, total=   0.3s\n",
      "[CV] subsample=0.1, objective=binary:logistic, n_estimators=200, min_child_weight=3, max_depth=8, learning_rate=0.01, gamma=0.5, colsample_bytree=0.1 \n",
      "[CV]  subsample=0.1, objective=binary:logistic, n_estimators=200, min_child_weight=3, max_depth=8, learning_rate=0.01, gamma=0.5, colsample_bytree=0.1, total=   0.4s\n",
      "[CV] subsample=0.1, objective=binary:logistic, n_estimators=200, min_child_weight=3, max_depth=8, learning_rate=0.01, gamma=0.5, colsample_bytree=0.1 \n",
      "[CV]  subsample=0.1, objective=binary:logistic, n_estimators=200, min_child_weight=3, max_depth=8, learning_rate=0.01, gamma=0.5, colsample_bytree=0.1, total=   0.4s\n",
      "[CV] subsample=0.1, objective=binary:logistic, n_estimators=200, min_child_weight=3, max_depth=8, learning_rate=0.01, gamma=0.5, colsample_bytree=0.1 \n",
      "[CV]  subsample=0.1, objective=binary:logistic, n_estimators=200, min_child_weight=3, max_depth=8, learning_rate=0.01, gamma=0.5, colsample_bytree=0.1, total=   0.4s\n",
      "[CV] subsample=0.5, objective=binary:logistic, n_estimators=200, min_child_weight=1, max_depth=8, learning_rate=0.5, gamma=0, colsample_bytree=0.1 \n",
      "[CV]  subsample=0.5, objective=binary:logistic, n_estimators=200, min_child_weight=1, max_depth=8, learning_rate=0.5, gamma=0, colsample_bytree=0.1, total=   0.8s\n",
      "[CV] subsample=0.5, objective=binary:logistic, n_estimators=200, min_child_weight=1, max_depth=8, learning_rate=0.5, gamma=0, colsample_bytree=0.1 \n",
      "[CV]  subsample=0.5, objective=binary:logistic, n_estimators=200, min_child_weight=1, max_depth=8, learning_rate=0.5, gamma=0, colsample_bytree=0.1, total=   0.8s\n",
      "[CV] subsample=0.5, objective=binary:logistic, n_estimators=200, min_child_weight=1, max_depth=8, learning_rate=0.5, gamma=0, colsample_bytree=0.1 \n",
      "[CV]  subsample=0.5, objective=binary:logistic, n_estimators=200, min_child_weight=1, max_depth=8, learning_rate=0.5, gamma=0, colsample_bytree=0.1, total=   0.9s\n",
      "[CV] subsample=0.5, objective=binary:logistic, n_estimators=200, min_child_weight=3, max_depth=12, learning_rate=0.01, gamma=0, colsample_bytree=0.1 \n",
      "[CV]  subsample=0.5, objective=binary:logistic, n_estimators=200, min_child_weight=3, max_depth=12, learning_rate=0.01, gamma=0, colsample_bytree=0.1, total=   1.3s\n",
      "[CV] subsample=0.5, objective=binary:logistic, n_estimators=200, min_child_weight=3, max_depth=12, learning_rate=0.01, gamma=0, colsample_bytree=0.1 \n",
      "[CV]  subsample=0.5, objective=binary:logistic, n_estimators=200, min_child_weight=3, max_depth=12, learning_rate=0.01, gamma=0, colsample_bytree=0.1, total=   1.3s\n",
      "[CV] subsample=0.5, objective=binary:logistic, n_estimators=200, min_child_weight=3, max_depth=12, learning_rate=0.01, gamma=0, colsample_bytree=0.1 \n",
      "[CV]  subsample=0.5, objective=binary:logistic, n_estimators=200, min_child_weight=3, max_depth=12, learning_rate=0.01, gamma=0, colsample_bytree=0.1, total=   1.3s\n",
      "[CV] subsample=1, objective=binary:logistic, n_estimators=200, min_child_weight=3, max_depth=12, learning_rate=0.5, gamma=0.5, colsample_bytree=0.5 \n",
      "[CV]  subsample=1, objective=binary:logistic, n_estimators=200, min_child_weight=3, max_depth=12, learning_rate=0.5, gamma=0.5, colsample_bytree=0.5, total=   4.2s\n",
      "[CV] subsample=1, objective=binary:logistic, n_estimators=200, min_child_weight=3, max_depth=12, learning_rate=0.5, gamma=0.5, colsample_bytree=0.5 \n",
      "[CV]  subsample=1, objective=binary:logistic, n_estimators=200, min_child_weight=3, max_depth=12, learning_rate=0.5, gamma=0.5, colsample_bytree=0.5, total=   4.0s\n",
      "[CV] subsample=1, objective=binary:logistic, n_estimators=200, min_child_weight=3, max_depth=12, learning_rate=0.5, gamma=0.5, colsample_bytree=0.5 \n"
     ]
    },
    {
     "name": "stdout",
     "output_type": "stream",
     "text": [
      "[CV]  subsample=1, objective=binary:logistic, n_estimators=200, min_child_weight=3, max_depth=12, learning_rate=0.5, gamma=0.5, colsample_bytree=0.5, total=   4.3s\n",
      "[CV] subsample=1, objective=binary:logistic, n_estimators=200, min_child_weight=3, max_depth=8, learning_rate=0.3, gamma=0.25, colsample_bytree=0.1 \n",
      "[CV]  subsample=1, objective=binary:logistic, n_estimators=200, min_child_weight=3, max_depth=8, learning_rate=0.3, gamma=0.25, colsample_bytree=0.1, total=   1.0s\n",
      "[CV] subsample=1, objective=binary:logistic, n_estimators=200, min_child_weight=3, max_depth=8, learning_rate=0.3, gamma=0.25, colsample_bytree=0.1 \n",
      "[CV]  subsample=1, objective=binary:logistic, n_estimators=200, min_child_weight=3, max_depth=8, learning_rate=0.3, gamma=0.25, colsample_bytree=0.1, total=   1.0s\n",
      "[CV] subsample=1, objective=binary:logistic, n_estimators=200, min_child_weight=3, max_depth=8, learning_rate=0.3, gamma=0.25, colsample_bytree=0.1 \n",
      "[CV]  subsample=1, objective=binary:logistic, n_estimators=200, min_child_weight=3, max_depth=8, learning_rate=0.3, gamma=0.25, colsample_bytree=0.1, total=   1.0s\n",
      "[CV] subsample=1, objective=binary:logistic, n_estimators=50, min_child_weight=5, max_depth=4, learning_rate=0.3, gamma=0.5, colsample_bytree=0.1 \n",
      "[CV]  subsample=1, objective=binary:logistic, n_estimators=50, min_child_weight=5, max_depth=4, learning_rate=0.3, gamma=0.5, colsample_bytree=0.1, total=   0.3s\n",
      "[CV] subsample=1, objective=binary:logistic, n_estimators=50, min_child_weight=5, max_depth=4, learning_rate=0.3, gamma=0.5, colsample_bytree=0.1 \n",
      "[CV]  subsample=1, objective=binary:logistic, n_estimators=50, min_child_weight=5, max_depth=4, learning_rate=0.3, gamma=0.5, colsample_bytree=0.1, total=   0.3s\n",
      "[CV] subsample=1, objective=binary:logistic, n_estimators=50, min_child_weight=5, max_depth=4, learning_rate=0.3, gamma=0.5, colsample_bytree=0.1 \n",
      "[CV]  subsample=1, objective=binary:logistic, n_estimators=50, min_child_weight=5, max_depth=4, learning_rate=0.3, gamma=0.5, colsample_bytree=0.1, total=   0.3s\n",
      "[CV] subsample=0.5, objective=binary:logistic, n_estimators=20, min_child_weight=1, max_depth=4, learning_rate=0.5, gamma=0, colsample_bytree=1 \n",
      "[CV]  subsample=0.5, objective=binary:logistic, n_estimators=20, min_child_weight=1, max_depth=4, learning_rate=0.5, gamma=0, colsample_bytree=1, total=   0.6s\n",
      "[CV] subsample=0.5, objective=binary:logistic, n_estimators=20, min_child_weight=1, max_depth=4, learning_rate=0.5, gamma=0, colsample_bytree=1 \n",
      "[CV]  subsample=0.5, objective=binary:logistic, n_estimators=20, min_child_weight=1, max_depth=4, learning_rate=0.5, gamma=0, colsample_bytree=1, total=   0.6s\n",
      "[CV] subsample=0.5, objective=binary:logistic, n_estimators=20, min_child_weight=1, max_depth=4, learning_rate=0.5, gamma=0, colsample_bytree=1 \n",
      "[CV]  subsample=0.5, objective=binary:logistic, n_estimators=20, min_child_weight=1, max_depth=4, learning_rate=0.5, gamma=0, colsample_bytree=1, total=   0.6s\n",
      "[CV] subsample=1, objective=binary:logistic, n_estimators=200, min_child_weight=5, max_depth=12, learning_rate=0.3, gamma=0.5, colsample_bytree=0.5 \n",
      "[CV]  subsample=1, objective=binary:logistic, n_estimators=200, min_child_weight=5, max_depth=12, learning_rate=0.3, gamma=0.5, colsample_bytree=0.5, total=   3.8s\n",
      "[CV] subsample=1, objective=binary:logistic, n_estimators=200, min_child_weight=5, max_depth=12, learning_rate=0.3, gamma=0.5, colsample_bytree=0.5 \n",
      "[CV]  subsample=1, objective=binary:logistic, n_estimators=200, min_child_weight=5, max_depth=12, learning_rate=0.3, gamma=0.5, colsample_bytree=0.5, total=   3.9s\n",
      "[CV] subsample=1, objective=binary:logistic, n_estimators=200, min_child_weight=5, max_depth=12, learning_rate=0.3, gamma=0.5, colsample_bytree=0.5 \n",
      "[CV]  subsample=1, objective=binary:logistic, n_estimators=200, min_child_weight=5, max_depth=12, learning_rate=0.3, gamma=0.5, colsample_bytree=0.5, total=   3.7s\n",
      "[CV] subsample=0.5, objective=binary:logistic, n_estimators=200, min_child_weight=5, max_depth=4, learning_rate=0.3, gamma=0.25, colsample_bytree=0.5 \n",
      "[CV]  subsample=0.5, objective=binary:logistic, n_estimators=200, min_child_weight=5, max_depth=4, learning_rate=0.3, gamma=0.25, colsample_bytree=0.5, total=   2.3s\n",
      "[CV] subsample=0.5, objective=binary:logistic, n_estimators=200, min_child_weight=5, max_depth=4, learning_rate=0.3, gamma=0.25, colsample_bytree=0.5 \n",
      "[CV]  subsample=0.5, objective=binary:logistic, n_estimators=200, min_child_weight=5, max_depth=4, learning_rate=0.3, gamma=0.25, colsample_bytree=0.5, total=   2.3s\n",
      "[CV] subsample=0.5, objective=binary:logistic, n_estimators=200, min_child_weight=5, max_depth=4, learning_rate=0.3, gamma=0.25, colsample_bytree=0.5 \n",
      "[CV]  subsample=0.5, objective=binary:logistic, n_estimators=200, min_child_weight=5, max_depth=4, learning_rate=0.3, gamma=0.25, colsample_bytree=0.5, total=   2.4s\n",
      "[CV] subsample=0.1, objective=binary:logistic, n_estimators=50, min_child_weight=1, max_depth=8, learning_rate=0.3, gamma=0, colsample_bytree=0.1 \n",
      "[CV]  subsample=0.1, objective=binary:logistic, n_estimators=50, min_child_weight=1, max_depth=8, learning_rate=0.3, gamma=0, colsample_bytree=0.1, total=   0.2s\n",
      "[CV] subsample=0.1, objective=binary:logistic, n_estimators=50, min_child_weight=1, max_depth=8, learning_rate=0.3, gamma=0, colsample_bytree=0.1 \n",
      "[CV]  subsample=0.1, objective=binary:logistic, n_estimators=50, min_child_weight=1, max_depth=8, learning_rate=0.3, gamma=0, colsample_bytree=0.1, total=   0.2s\n",
      "[CV] subsample=0.1, objective=binary:logistic, n_estimators=50, min_child_weight=1, max_depth=8, learning_rate=0.3, gamma=0, colsample_bytree=0.1 \n",
      "[CV]  subsample=0.1, objective=binary:logistic, n_estimators=50, min_child_weight=1, max_depth=8, learning_rate=0.3, gamma=0, colsample_bytree=0.1, total=   0.2s\n",
      "[CV] subsample=0.1, objective=binary:logistic, n_estimators=20, min_child_weight=1, max_depth=12, learning_rate=0.01, gamma=0.25, colsample_bytree=0.1 \n",
      "[CV]  subsample=0.1, objective=binary:logistic, n_estimators=20, min_child_weight=1, max_depth=12, learning_rate=0.01, gamma=0.25, colsample_bytree=0.1, total=   0.1s\n",
      "[CV] subsample=0.1, objective=binary:logistic, n_estimators=20, min_child_weight=1, max_depth=12, learning_rate=0.01, gamma=0.25, colsample_bytree=0.1 \n",
      "[CV]  subsample=0.1, objective=binary:logistic, n_estimators=20, min_child_weight=1, max_depth=12, learning_rate=0.01, gamma=0.25, colsample_bytree=0.1, total=   0.1s\n",
      "[CV] subsample=0.1, objective=binary:logistic, n_estimators=20, min_child_weight=1, max_depth=12, learning_rate=0.01, gamma=0.25, colsample_bytree=0.1 \n",
      "[CV]  subsample=0.1, objective=binary:logistic, n_estimators=20, min_child_weight=1, max_depth=12, learning_rate=0.01, gamma=0.25, colsample_bytree=0.1, total=   0.1s\n",
      "[CV] subsample=0.5, objective=binary:logistic, n_estimators=50, min_child_weight=5, max_depth=4, learning_rate=0.5, gamma=0, colsample_bytree=0.1 \n",
      "[CV]  subsample=0.5, objective=binary:logistic, n_estimators=50, min_child_weight=5, max_depth=4, learning_rate=0.5, gamma=0, colsample_bytree=0.1, total=   0.2s\n",
      "[CV] subsample=0.5, objective=binary:logistic, n_estimators=50, min_child_weight=5, max_depth=4, learning_rate=0.5, gamma=0, colsample_bytree=0.1 \n",
      "[CV]  subsample=0.5, objective=binary:logistic, n_estimators=50, min_child_weight=5, max_depth=4, learning_rate=0.5, gamma=0, colsample_bytree=0.1, total=   0.2s\n",
      "[CV] subsample=0.5, objective=binary:logistic, n_estimators=50, min_child_weight=5, max_depth=4, learning_rate=0.5, gamma=0, colsample_bytree=0.1 \n",
      "[CV]  subsample=0.5, objective=binary:logistic, n_estimators=50, min_child_weight=5, max_depth=4, learning_rate=0.5, gamma=0, colsample_bytree=0.1, total=   0.2s\n",
      "[CV] subsample=0.1, objective=binary:logistic, n_estimators=50, min_child_weight=1, max_depth=4, learning_rate=0.5, gamma=0.5, colsample_bytree=0.1 \n",
      "[CV]  subsample=0.1, objective=binary:logistic, n_estimators=50, min_child_weight=1, max_depth=4, learning_rate=0.5, gamma=0.5, colsample_bytree=0.1, total=   0.1s\n",
      "[CV] subsample=0.1, objective=binary:logistic, n_estimators=50, min_child_weight=1, max_depth=4, learning_rate=0.5, gamma=0.5, colsample_bytree=0.1 \n",
      "[CV]  subsample=0.1, objective=binary:logistic, n_estimators=50, min_child_weight=1, max_depth=4, learning_rate=0.5, gamma=0.5, colsample_bytree=0.1, total=   0.1s\n",
      "[CV] subsample=0.1, objective=binary:logistic, n_estimators=50, min_child_weight=1, max_depth=4, learning_rate=0.5, gamma=0.5, colsample_bytree=0.1 \n",
      "[CV]  subsample=0.1, objective=binary:logistic, n_estimators=50, min_child_weight=1, max_depth=4, learning_rate=0.5, gamma=0.5, colsample_bytree=0.1, total=   0.1s\n"
     ]
    },
    {
     "name": "stderr",
     "output_type": "stream",
     "text": [
      "[Parallel(n_jobs=1)]: Done 300 out of 300 | elapsed:  7.7min finished\n"
     ]
    },
    {
     "name": "stdout",
     "output_type": "stream",
     "text": [
      ">>Best_params<<\n",
      " {'subsample': 0.5, 'objective': 'binary:logistic', 'n_estimators': 200, 'min_child_weight': 3, 'max_depth': 12, 'learning_rate': 0.01, 'gamma': 0.25, 'colsample_bytree': 1}\n",
      ">>Best_score<<\n",
      " 0.7405819515699691\n"
     ]
    }
   ],
   "source": [
    "##randomized search\n",
    "param_grid = {\n",
    "    'max_depth' : [4, 8, 12],\n",
    "    'learning_rate' : [0.01, 0.3, 0.5],\n",
    "    'n_estimators' : [20, 50, 200],              \n",
    "    'objective' : [\"binary:logistic\"],#['multi:softprob'],\n",
    "    'gamma' : [0, 0.25, 0.5],\n",
    "    'min_child_weight' : [1, 3, 5],\n",
    "    'subsample' : [0.1, 0.5, 1],\n",
    "    'colsample_bytree' : [0.1, 0.5, 1]}\n",
    "\n",
    "\n",
    "xgb_random = RandomizedSearchCV(estimator = xgb_model,scoring='roc_auc', param_distributions = param_grid, n_iter = 100, cv = 3, verbose=2, random_state=42)\n",
    "# Fit the random search model\n",
    "xgb_random.fit(train_df_final[engineered_features], train_labels)\n",
    "print(\">>Best_params<<\\n\",xgb_random.best_params_)\n",
    "print(\">>Best_score<<\\n\",xgb_random.best_score_)\n"
   ]
  },
  {
   "cell_type": "code",
   "execution_count": 91,
   "metadata": {
    "collapsed": true
   },
   "outputs": [],
   "source": [
    "best_xgb_params = {'subsample': 0.5, 'objective': 'binary:logistic', 'n_estimators': 200, 'min_child_weight': 3, 'max_depth': 12, 'learning_rate': 0.01, 'gamma': 0.25, 'colsample_bytree': 1}\n",
    "best_xgb_model = XGBClassifier(**best_xgb_params)"
   ]
  },
  {
   "cell_type": "code",
   "execution_count": 154,
   "metadata": {},
   "outputs": [
    {
     "name": "stdout",
     "output_type": "stream",
     "text": [
      "1fold completed\n",
      "2fold completed\n",
      "3fold completed\n",
      "4fold completed\n",
      "5fold completed\n"
     ]
    }
   ],
   "source": [
    "best_xgb_new_feat_results = stratify_kfold_cv(train_df_final,best_xgb_model,engineered_features)#,weights=True)"
   ]
  },
  {
   "cell_type": "code",
   "execution_count": 155,
   "metadata": {},
   "outputs": [
    {
     "data": {
      "text/html": [
       "<div>\n",
       "<style scoped>\n",
       "    .dataframe tbody tr th:only-of-type {\n",
       "        vertical-align: middle;\n",
       "    }\n",
       "\n",
       "    .dataframe tbody tr th {\n",
       "        vertical-align: top;\n",
       "    }\n",
       "\n",
       "    .dataframe thead th {\n",
       "        text-align: right;\n",
       "    }\n",
       "</style>\n",
       "<table border=\"1\" class=\"dataframe\">\n",
       "  <thead>\n",
       "    <tr style=\"text-align: right;\">\n",
       "      <th></th>\n",
       "      <th>FN</th>\n",
       "      <th>FP</th>\n",
       "      <th>TN</th>\n",
       "      <th>TP</th>\n",
       "      <th>accuracy</th>\n",
       "      <th>f1score</th>\n",
       "      <th>precision</th>\n",
       "      <th>recall</th>\n",
       "      <th>roc_auc_score</th>\n",
       "    </tr>\n",
       "  </thead>\n",
       "  <tbody>\n",
       "    <tr>\n",
       "      <th>1Fold</th>\n",
       "      <td>58.0</td>\n",
       "      <td>35.0</td>\n",
       "      <td>147.0</td>\n",
       "      <td>95.0</td>\n",
       "      <td>0.722388</td>\n",
       "      <td>0.671378</td>\n",
       "      <td>0.730769</td>\n",
       "      <td>0.620915</td>\n",
       "      <td>0.802772</td>\n",
       "    </tr>\n",
       "    <tr>\n",
       "      <th>2Fold</th>\n",
       "      <td>50.0</td>\n",
       "      <td>50.0</td>\n",
       "      <td>137.0</td>\n",
       "      <td>98.0</td>\n",
       "      <td>0.701493</td>\n",
       "      <td>0.662162</td>\n",
       "      <td>0.662162</td>\n",
       "      <td>0.662162</td>\n",
       "      <td>0.746242</td>\n",
       "    </tr>\n",
       "    <tr>\n",
       "      <th>3Fold</th>\n",
       "      <td>57.0</td>\n",
       "      <td>46.0</td>\n",
       "      <td>136.0</td>\n",
       "      <td>96.0</td>\n",
       "      <td>0.692537</td>\n",
       "      <td>0.650847</td>\n",
       "      <td>0.676056</td>\n",
       "      <td>0.627451</td>\n",
       "      <td>0.756338</td>\n",
       "    </tr>\n",
       "    <tr>\n",
       "      <th>4Fold</th>\n",
       "      <td>52.0</td>\n",
       "      <td>47.0</td>\n",
       "      <td>135.0</td>\n",
       "      <td>99.0</td>\n",
       "      <td>0.702703</td>\n",
       "      <td>0.666667</td>\n",
       "      <td>0.678082</td>\n",
       "      <td>0.655629</td>\n",
       "      <td>0.779419</td>\n",
       "    </tr>\n",
       "    <tr>\n",
       "      <th>5Fold</th>\n",
       "      <td>58.0</td>\n",
       "      <td>49.0</td>\n",
       "      <td>132.0</td>\n",
       "      <td>93.0</td>\n",
       "      <td>0.677711</td>\n",
       "      <td>0.634812</td>\n",
       "      <td>0.654930</td>\n",
       "      <td>0.615894</td>\n",
       "      <td>0.775347</td>\n",
       "    </tr>\n",
       "    <tr>\n",
       "      <th>Overall</th>\n",
       "      <td>275.0</td>\n",
       "      <td>227.0</td>\n",
       "      <td>687.0</td>\n",
       "      <td>481.0</td>\n",
       "      <td>0.699401</td>\n",
       "      <td>0.657104</td>\n",
       "      <td>0.679379</td>\n",
       "      <td>0.636243</td>\n",
       "      <td>0.771323</td>\n",
       "    </tr>\n",
       "  </tbody>\n",
       "</table>\n",
       "</div>"
      ],
      "text/plain": [
       "            FN     FP     TN     TP  accuracy   f1score  precision    recall  \\\n",
       "1Fold     58.0   35.0  147.0   95.0  0.722388  0.671378   0.730769  0.620915   \n",
       "2Fold     50.0   50.0  137.0   98.0  0.701493  0.662162   0.662162  0.662162   \n",
       "3Fold     57.0   46.0  136.0   96.0  0.692537  0.650847   0.676056  0.627451   \n",
       "4Fold     52.0   47.0  135.0   99.0  0.702703  0.666667   0.678082  0.655629   \n",
       "5Fold     58.0   49.0  132.0   93.0  0.677711  0.634812   0.654930  0.615894   \n",
       "Overall  275.0  227.0  687.0  481.0  0.699401  0.657104   0.679379  0.636243   \n",
       "\n",
       "         roc_auc_score  \n",
       "1Fold         0.802772  \n",
       "2Fold         0.746242  \n",
       "3Fold         0.756338  \n",
       "4Fold         0.779419  \n",
       "5Fold         0.775347  \n",
       "Overall       0.771323  "
      ]
     },
     "execution_count": 155,
     "metadata": {},
     "output_type": "execute_result"
    }
   ],
   "source": [
    "best_xgb_new_feat_results.T"
   ]
  },
  {
   "cell_type": "markdown",
   "metadata": {},
   "source": [
    "We'll provide higher weights to samples in range (3,15] as we would want a higher cost penalty for wrong predictions in this range and eventually increase our precision and decrease FP."
   ]
  },
  {
   "cell_type": "code",
   "execution_count": 156,
   "metadata": {
    "collapsed": true
   },
   "outputs": [],
   "source": [
    "train_df_final['weights'] = np.where((train_df_final['total_flights_range']=='(3.0, 15.0]'),1,0.8)\n",
    "#train_df_final['weights'] = np.where((train_df_final['total_flights_range']=='(15.0, 49.0]'),1,np.nan)\n",
    "#train_df_final['weights'] = train_df_final['weights'].fillna(0.6)\n",
    "#train_df_final['weights'] = np.where((train_df_final['total_flights_range']=='(3.0, 15.0]')|(train_df_final['total_flights_range']=='(15.0, 43.0]'),1,0.8)"
   ]
  },
  {
   "cell_type": "code",
   "execution_count": 157,
   "metadata": {},
   "outputs": [
    {
     "name": "stdout",
     "output_type": "stream",
     "text": [
      "1fold completed\n",
      "2fold completed\n",
      "3fold completed\n",
      "4fold completed\n",
      "5fold completed\n"
     ]
    }
   ],
   "source": [
    "best_xgb_new_feat_results1 = stratify_kfold_cv(train_df_final,best_xgb_model,engineered_features,weights=True)"
   ]
  },
  {
   "cell_type": "code",
   "execution_count": 158,
   "metadata": {},
   "outputs": [
    {
     "data": {
      "text/html": [
       "<div>\n",
       "<style scoped>\n",
       "    .dataframe tbody tr th:only-of-type {\n",
       "        vertical-align: middle;\n",
       "    }\n",
       "\n",
       "    .dataframe tbody tr th {\n",
       "        vertical-align: top;\n",
       "    }\n",
       "\n",
       "    .dataframe thead th {\n",
       "        text-align: right;\n",
       "    }\n",
       "</style>\n",
       "<table border=\"1\" class=\"dataframe\">\n",
       "  <thead>\n",
       "    <tr style=\"text-align: right;\">\n",
       "      <th></th>\n",
       "      <th>FN</th>\n",
       "      <th>FP</th>\n",
       "      <th>TN</th>\n",
       "      <th>TP</th>\n",
       "      <th>accuracy</th>\n",
       "      <th>f1score</th>\n",
       "      <th>precision</th>\n",
       "      <th>recall</th>\n",
       "      <th>roc_auc_score</th>\n",
       "    </tr>\n",
       "  </thead>\n",
       "  <tbody>\n",
       "    <tr>\n",
       "      <th>1Fold</th>\n",
       "      <td>54.0</td>\n",
       "      <td>31.0</td>\n",
       "      <td>151.0</td>\n",
       "      <td>99.0</td>\n",
       "      <td>0.746269</td>\n",
       "      <td>0.699647</td>\n",
       "      <td>0.761538</td>\n",
       "      <td>0.647059</td>\n",
       "      <td>0.802844</td>\n",
       "    </tr>\n",
       "    <tr>\n",
       "      <th>2Fold</th>\n",
       "      <td>51.0</td>\n",
       "      <td>47.0</td>\n",
       "      <td>140.0</td>\n",
       "      <td>97.0</td>\n",
       "      <td>0.707463</td>\n",
       "      <td>0.664384</td>\n",
       "      <td>0.673611</td>\n",
       "      <td>0.655405</td>\n",
       "      <td>0.742954</td>\n",
       "    </tr>\n",
       "    <tr>\n",
       "      <th>3Fold</th>\n",
       "      <td>57.0</td>\n",
       "      <td>46.0</td>\n",
       "      <td>136.0</td>\n",
       "      <td>96.0</td>\n",
       "      <td>0.692537</td>\n",
       "      <td>0.650847</td>\n",
       "      <td>0.676056</td>\n",
       "      <td>0.627451</td>\n",
       "      <td>0.755046</td>\n",
       "    </tr>\n",
       "    <tr>\n",
       "      <th>4Fold</th>\n",
       "      <td>48.0</td>\n",
       "      <td>47.0</td>\n",
       "      <td>135.0</td>\n",
       "      <td>103.0</td>\n",
       "      <td>0.714715</td>\n",
       "      <td>0.684385</td>\n",
       "      <td>0.686667</td>\n",
       "      <td>0.682119</td>\n",
       "      <td>0.778510</td>\n",
       "    </tr>\n",
       "    <tr>\n",
       "      <th>5Fold</th>\n",
       "      <td>58.0</td>\n",
       "      <td>48.0</td>\n",
       "      <td>133.0</td>\n",
       "      <td>93.0</td>\n",
       "      <td>0.680723</td>\n",
       "      <td>0.636986</td>\n",
       "      <td>0.659574</td>\n",
       "      <td>0.615894</td>\n",
       "      <td>0.779408</td>\n",
       "    </tr>\n",
       "    <tr>\n",
       "      <th>Overall</th>\n",
       "      <td>268.0</td>\n",
       "      <td>219.0</td>\n",
       "      <td>695.0</td>\n",
       "      <td>488.0</td>\n",
       "      <td>0.708383</td>\n",
       "      <td>0.667122</td>\n",
       "      <td>0.690240</td>\n",
       "      <td>0.645503</td>\n",
       "      <td>0.770798</td>\n",
       "    </tr>\n",
       "  </tbody>\n",
       "</table>\n",
       "</div>"
      ],
      "text/plain": [
       "            FN     FP     TN     TP  accuracy   f1score  precision    recall  \\\n",
       "1Fold     54.0   31.0  151.0   99.0  0.746269  0.699647   0.761538  0.647059   \n",
       "2Fold     51.0   47.0  140.0   97.0  0.707463  0.664384   0.673611  0.655405   \n",
       "3Fold     57.0   46.0  136.0   96.0  0.692537  0.650847   0.676056  0.627451   \n",
       "4Fold     48.0   47.0  135.0  103.0  0.714715  0.684385   0.686667  0.682119   \n",
       "5Fold     58.0   48.0  133.0   93.0  0.680723  0.636986   0.659574  0.615894   \n",
       "Overall  268.0  219.0  695.0  488.0  0.708383  0.667122   0.690240  0.645503   \n",
       "\n",
       "         roc_auc_score  \n",
       "1Fold         0.802844  \n",
       "2Fold         0.742954  \n",
       "3Fold         0.755046  \n",
       "4Fold         0.778510  \n",
       "5Fold         0.779408  \n",
       "Overall       0.770798  "
      ]
     },
     "execution_count": 158,
     "metadata": {},
     "output_type": "execute_result"
    }
   ],
   "source": [
    "best_xgb_new_feat_results1.T"
   ]
  },
  {
   "cell_type": "code",
   "execution_count": 166,
   "metadata": {},
   "outputs": [
    {
     "data": {
      "text/plain": [
       "XGBClassifier(base_score=0.5, booster='gbtree', colsample_bylevel=1,\n",
       "       colsample_bytree=1, gamma=0.25, learning_rate=0.01,\n",
       "       max_delta_step=0, max_depth=12, min_child_weight=3, missing=None,\n",
       "       n_estimators=200, n_jobs=1, nthread=None,\n",
       "       objective='binary:logistic', random_state=0, reg_alpha=0,\n",
       "       reg_lambda=1, scale_pos_weight=1, seed=None, silent=True,\n",
       "       subsample=0.5)"
      ]
     },
     "execution_count": 166,
     "metadata": {},
     "output_type": "execute_result"
    }
   ],
   "source": [
    "best_xgb_model.fit(train_df_final[engineered_features],train_labels,sample_weight=train_df_final['weights'])"
   ]
  },
  {
   "cell_type": "code",
   "execution_count": 167,
   "metadata": {
    "collapsed": true
   },
   "outputs": [],
   "source": [
    "test_df['Good_Bad'] = best_xgb_model.predict(test_df[engineered_features])\n",
    "##Second submission\n",
    "sub = test_df[['Day_Id','Good_Bad']].copy()\n",
    "sub=sub.reindex(columns=[\"Day_Id\",\"Good_Bad\"])\n",
    "filename = 'submission.csv'\n",
    "sub.to_csv(filename, index=False)"
   ]
  },
  {
   "cell_type": "markdown",
   "metadata": {},
   "source": [
    "###############################END OF FILE###################################"
   ]
  },
  {
   "cell_type": "markdown",
   "metadata": {},
   "source": [
    "Due to computational limitation and time constraints we could perform hyper parameter tuning with Bayesian optimization instead of a comprehensive grid search of parameters.We'll look into it later maybe."
   ]
  },
  {
   "cell_type": "code",
   "execution_count": 159,
   "metadata": {
    "collapsed": true
   },
   "outputs": [],
   "source": [
    "from skopt import BayesSearchCV\n",
    "from sklearn.metrics import make_scorer\n",
    "ITERATIONS = 25 # 1000\n",
    "bayes_cv_tuner = BayesSearchCV(\n",
    "    estimator = xgb.XGBClassifier(\n",
    "        n_jobs = 1,\n",
    "        objective = 'binary:logistic',\n",
    "        eval_metric = 'auc',\n",
    "        silent=1,\n",
    "        tree_method='approx'\n",
    "    ),\n",
    "    search_spaces = {\n",
    "        'learning_rate': (0.01, 1.0, 'log-uniform'),\n",
    "        'min_child_weight': (0, 10),\n",
    "        'max_depth': (0, 50),\n",
    "        'max_delta_step': (0, 20),\n",
    "        'subsample': (0.01, 1.0, 'uniform'),\n",
    "        'colsample_bytree': (0.01, 1.0, 'uniform'),\n",
    "        'colsample_bylevel': (0.01, 1.0, 'uniform'),\n",
    "        'reg_lambda': (1e-9, 1000, 'log-uniform'),\n",
    "        'reg_alpha': (1e-9, 1.0, 'log-uniform'),\n",
    "        'gamma': (1e-9, 0.5, 'log-uniform'),\n",
    "        'min_child_weight': (0, 5),\n",
    "        'n_estimators': (50, 100),\n",
    "        'scale_pos_weight': (1e-6, 500, 'log-uniform')\n",
    "    },    \n",
    "    scoring = make_scorer(f1_score),\n",
    "    cv = StratifiedKFold(\n",
    "        n_splits=3,\n",
    "        shuffle=True,\n",
    "        random_state=42\n",
    "    ),\n",
    "    n_jobs = 3,\n",
    "    n_iter = ITERATIONS,   \n",
    "    verbose = 0,\n",
    "    refit = True,\n",
    "    random_state = 42\n",
    ")\n",
    "\n",
    "def status_print(optim_result):\n",
    "    \"\"\"Status callback durring bayesian hyperparameter search\"\"\"\n",
    "    \n",
    "    # Get all the models tested so far in DataFrame format\n",
    "    all_models = pd.DataFrame(bayes_cv_tuner.cv_results_)    \n",
    "    \n",
    "    # Get current parameters and the best parameters    \n",
    "    best_params = pd.Series(bayes_cv_tuner.best_params_)\n",
    "    print('Model #{}\\nBest ROC-AUC: {}\\nBest params: {}\\n'.format(\n",
    "        len(all_models),\n",
    "        np.round(bayes_cv_tuner.best_score_, 4),\n",
    "        bayes_cv_tuner.best_params_\n",
    "    ))\n",
    "    \n",
    "    # Save all model results\n",
    "    clf_name = bayes_cv_tuner.estimator.__class__.__name__\n",
    "    all_models.to_csv(clf_name+\"_cv_results.csv\")"
   ]
  },
  {
   "cell_type": "code",
   "execution_count": 87,
   "metadata": {},
   "outputs": [
    {
     "name": "stdout",
     "output_type": "stream",
     "text": [
      "Model #1\n",
      "Best ROC-AUC: 0.5\n",
      "Best params: {'colsample_bylevel': 0.4160029192647807, 'colsample_bytree': 0.7304484857455519, 'gamma': 0.13031389926541354, 'learning_rate': 0.042815319280763466, 'max_delta_step': 13, 'max_depth': 21, 'min_child_weight': 2, 'n_estimators': 87, 'reg_alpha': 5.497557739289786e-07, 'reg_lambda': 0.05936070635912049, 'scale_pos_weight': 0.060830282487222144, 'subsample': 0.13556548021189216}\n",
      "\n",
      "Model #2\n",
      "Best ROC-AUC: 0.6225\n",
      "Best params: {'colsample_bylevel': 0.8390144719977516, 'colsample_bytree': 0.8844821246070537, 'gamma': 4.358684608480795e-07, 'learning_rate': 0.7988179462781242, 'max_delta_step': 17, 'max_depth': 3, 'min_child_weight': 1, 'n_estimators': 68, 'reg_alpha': 0.0005266983003701547, 'reg_lambda': 276.5424475574225, 'scale_pos_weight': 0.3016410771843142, 'subsample': 0.9923710598637134}\n",
      "\n",
      "Model #3\n",
      "Best ROC-AUC: 0.6762\n",
      "Best params: {'colsample_bylevel': 0.4503841871781403, 'colsample_bytree': 0.9195352964526833, 'gamma': 8.168958221061441e-09, 'learning_rate': 0.07356404539935663, 'max_delta_step': 4, 'max_depth': 23, 'min_child_weight': 1, 'n_estimators': 88, 'reg_alpha': 0.00010376808625045426, 'reg_lambda': 476.96194787286544, 'scale_pos_weight': 1.3165669602830552, 'subsample': 0.387658500562527}\n",
      "\n",
      "Model #4\n",
      "Best ROC-AUC: 0.6762\n",
      "Best params: {'colsample_bylevel': 0.4503841871781403, 'colsample_bytree': 0.9195352964526833, 'gamma': 8.168958221061441e-09, 'learning_rate': 0.07356404539935663, 'max_delta_step': 4, 'max_depth': 23, 'min_child_weight': 1, 'n_estimators': 88, 'reg_alpha': 0.00010376808625045426, 'reg_lambda': 476.96194787286544, 'scale_pos_weight': 1.3165669602830552, 'subsample': 0.387658500562527}\n",
      "\n",
      "Model #5\n",
      "Best ROC-AUC: 0.6762\n",
      "Best params: {'colsample_bylevel': 0.4503841871781403, 'colsample_bytree': 0.9195352964526833, 'gamma': 8.168958221061441e-09, 'learning_rate': 0.07356404539935663, 'max_delta_step': 4, 'max_depth': 23, 'min_child_weight': 1, 'n_estimators': 88, 'reg_alpha': 0.00010376808625045426, 'reg_lambda': 476.96194787286544, 'scale_pos_weight': 1.3165669602830552, 'subsample': 0.387658500562527}\n",
      "\n",
      "Model #6\n",
      "Best ROC-AUC: 0.6762\n",
      "Best params: {'colsample_bylevel': 0.4503841871781403, 'colsample_bytree': 0.9195352964526833, 'gamma': 8.168958221061441e-09, 'learning_rate': 0.07356404539935663, 'max_delta_step': 4, 'max_depth': 23, 'min_child_weight': 1, 'n_estimators': 88, 'reg_alpha': 0.00010376808625045426, 'reg_lambda': 476.96194787286544, 'scale_pos_weight': 1.3165669602830552, 'subsample': 0.387658500562527}\n",
      "\n",
      "Model #7\n",
      "Best ROC-AUC: 0.6762\n",
      "Best params: {'colsample_bylevel': 0.4503841871781403, 'colsample_bytree': 0.9195352964526833, 'gamma': 8.168958221061441e-09, 'learning_rate': 0.07356404539935663, 'max_delta_step': 4, 'max_depth': 23, 'min_child_weight': 1, 'n_estimators': 88, 'reg_alpha': 0.00010376808625045426, 'reg_lambda': 476.96194787286544, 'scale_pos_weight': 1.3165669602830552, 'subsample': 0.387658500562527}\n",
      "\n",
      "Model #8\n",
      "Best ROC-AUC: 0.6762\n",
      "Best params: {'colsample_bylevel': 0.4503841871781403, 'colsample_bytree': 0.9195352964526833, 'gamma': 8.168958221061441e-09, 'learning_rate': 0.07356404539935663, 'max_delta_step': 4, 'max_depth': 23, 'min_child_weight': 1, 'n_estimators': 88, 'reg_alpha': 0.00010376808625045426, 'reg_lambda': 476.96194787286544, 'scale_pos_weight': 1.3165669602830552, 'subsample': 0.387658500562527}\n",
      "\n",
      "Model #9\n",
      "Best ROC-AUC: 0.6794\n",
      "Best params: {'colsample_bylevel': 0.955923206446829, 'colsample_bytree': 0.7036152301751524, 'gamma': 0.03823613443879595, 'learning_rate': 0.06786442521779147, 'max_delta_step': 8, 'max_depth': 11, 'min_child_weight': 0, 'n_estimators': 69, 'reg_alpha': 0.00022356829889037284, 'reg_lambda': 1.2908532337409298e-07, 'scale_pos_weight': 4.73588486119117, 'subsample': 0.4499578015509351}\n",
      "\n",
      "Model #10\n",
      "Best ROC-AUC: 0.6794\n",
      "Best params: {'colsample_bylevel': 0.955923206446829, 'colsample_bytree': 0.7036152301751524, 'gamma': 0.03823613443879595, 'learning_rate': 0.06786442521779147, 'max_delta_step': 8, 'max_depth': 11, 'min_child_weight': 0, 'n_estimators': 69, 'reg_alpha': 0.00022356829889037284, 'reg_lambda': 1.2908532337409298e-07, 'scale_pos_weight': 4.73588486119117, 'subsample': 0.4499578015509351}\n",
      "\n",
      "Model #11\n",
      "Best ROC-AUC: 0.6794\n",
      "Best params: {'colsample_bylevel': 0.955923206446829, 'colsample_bytree': 0.7036152301751524, 'gamma': 0.03823613443879595, 'learning_rate': 0.06786442521779147, 'max_delta_step': 8, 'max_depth': 11, 'min_child_weight': 0, 'n_estimators': 69, 'reg_alpha': 0.00022356829889037284, 'reg_lambda': 1.2908532337409298e-07, 'scale_pos_weight': 4.73588486119117, 'subsample': 0.4499578015509351}\n",
      "\n",
      "Model #12\n",
      "Best ROC-AUC: 0.6794\n",
      "Best params: {'colsample_bylevel': 0.955923206446829, 'colsample_bytree': 0.7036152301751524, 'gamma': 0.03823613443879595, 'learning_rate': 0.06786442521779147, 'max_delta_step': 8, 'max_depth': 11, 'min_child_weight': 0, 'n_estimators': 69, 'reg_alpha': 0.00022356829889037284, 'reg_lambda': 1.2908532337409298e-07, 'scale_pos_weight': 4.73588486119117, 'subsample': 0.4499578015509351}\n",
      "\n",
      "Model #13\n",
      "Best ROC-AUC: 0.6794\n",
      "Best params: {'colsample_bylevel': 0.955923206446829, 'colsample_bytree': 0.7036152301751524, 'gamma': 0.03823613443879595, 'learning_rate': 0.06786442521779147, 'max_delta_step': 8, 'max_depth': 11, 'min_child_weight': 0, 'n_estimators': 69, 'reg_alpha': 0.00022356829889037284, 'reg_lambda': 1.2908532337409298e-07, 'scale_pos_weight': 4.73588486119117, 'subsample': 0.4499578015509351}\n",
      "\n",
      "Model #14\n",
      "Best ROC-AUC: 0.6794\n",
      "Best params: {'colsample_bylevel': 0.955923206446829, 'colsample_bytree': 0.7036152301751524, 'gamma': 0.03823613443879595, 'learning_rate': 0.06786442521779147, 'max_delta_step': 8, 'max_depth': 11, 'min_child_weight': 0, 'n_estimators': 69, 'reg_alpha': 0.00022356829889037284, 'reg_lambda': 1.2908532337409298e-07, 'scale_pos_weight': 4.73588486119117, 'subsample': 0.4499578015509351}\n",
      "\n",
      "Model #15\n",
      "Best ROC-AUC: 0.6794\n",
      "Best params: {'colsample_bylevel': 0.955923206446829, 'colsample_bytree': 0.7036152301751524, 'gamma': 0.03823613443879595, 'learning_rate': 0.06786442521779147, 'max_delta_step': 8, 'max_depth': 11, 'min_child_weight': 0, 'n_estimators': 69, 'reg_alpha': 0.00022356829889037284, 'reg_lambda': 1.2908532337409298e-07, 'scale_pos_weight': 4.73588486119117, 'subsample': 0.4499578015509351}\n",
      "\n",
      "Model #16\n",
      "Best ROC-AUC: 0.6794\n",
      "Best params: {'colsample_bylevel': 0.955923206446829, 'colsample_bytree': 0.7036152301751524, 'gamma': 0.03823613443879595, 'learning_rate': 0.06786442521779147, 'max_delta_step': 8, 'max_depth': 11, 'min_child_weight': 0, 'n_estimators': 69, 'reg_alpha': 0.00022356829889037284, 'reg_lambda': 1.2908532337409298e-07, 'scale_pos_weight': 4.73588486119117, 'subsample': 0.4499578015509351}\n",
      "\n",
      "Model #17\n",
      "Best ROC-AUC: 0.6794\n",
      "Best params: {'colsample_bylevel': 0.955923206446829, 'colsample_bytree': 0.7036152301751524, 'gamma': 0.03823613443879595, 'learning_rate': 0.06786442521779147, 'max_delta_step': 8, 'max_depth': 11, 'min_child_weight': 0, 'n_estimators': 69, 'reg_alpha': 0.00022356829889037284, 'reg_lambda': 1.2908532337409298e-07, 'scale_pos_weight': 4.73588486119117, 'subsample': 0.4499578015509351}\n",
      "\n",
      "Model #18\n",
      "Best ROC-AUC: 0.6794\n",
      "Best params: {'colsample_bylevel': 0.955923206446829, 'colsample_bytree': 0.7036152301751524, 'gamma': 0.03823613443879595, 'learning_rate': 0.06786442521779147, 'max_delta_step': 8, 'max_depth': 11, 'min_child_weight': 0, 'n_estimators': 69, 'reg_alpha': 0.00022356829889037284, 'reg_lambda': 1.2908532337409298e-07, 'scale_pos_weight': 4.73588486119117, 'subsample': 0.4499578015509351}\n",
      "\n",
      "Model #19\n",
      "Best ROC-AUC: 0.6794\n",
      "Best params: {'colsample_bylevel': 0.955923206446829, 'colsample_bytree': 0.7036152301751524, 'gamma': 0.03823613443879595, 'learning_rate': 0.06786442521779147, 'max_delta_step': 8, 'max_depth': 11, 'min_child_weight': 0, 'n_estimators': 69, 'reg_alpha': 0.00022356829889037284, 'reg_lambda': 1.2908532337409298e-07, 'scale_pos_weight': 4.73588486119117, 'subsample': 0.4499578015509351}\n",
      "\n",
      "Model #20\n",
      "Best ROC-AUC: 0.6794\n",
      "Best params: {'colsample_bylevel': 0.955923206446829, 'colsample_bytree': 0.7036152301751524, 'gamma': 0.03823613443879595, 'learning_rate': 0.06786442521779147, 'max_delta_step': 8, 'max_depth': 11, 'min_child_weight': 0, 'n_estimators': 69, 'reg_alpha': 0.00022356829889037284, 'reg_lambda': 1.2908532337409298e-07, 'scale_pos_weight': 4.73588486119117, 'subsample': 0.4499578015509351}\n",
      "\n"
     ]
    },
    {
     "name": "stdout",
     "output_type": "stream",
     "text": [
      "Model #21\n",
      "Best ROC-AUC: 0.6794\n",
      "Best params: {'colsample_bylevel': 0.955923206446829, 'colsample_bytree': 0.7036152301751524, 'gamma': 0.03823613443879595, 'learning_rate': 0.06786442521779147, 'max_delta_step': 8, 'max_depth': 11, 'min_child_weight': 0, 'n_estimators': 69, 'reg_alpha': 0.00022356829889037284, 'reg_lambda': 1.2908532337409298e-07, 'scale_pos_weight': 4.73588486119117, 'subsample': 0.4499578015509351}\n",
      "\n",
      "Model #22\n",
      "Best ROC-AUC: 0.6794\n",
      "Best params: {'colsample_bylevel': 0.955923206446829, 'colsample_bytree': 0.7036152301751524, 'gamma': 0.03823613443879595, 'learning_rate': 0.06786442521779147, 'max_delta_step': 8, 'max_depth': 11, 'min_child_weight': 0, 'n_estimators': 69, 'reg_alpha': 0.00022356829889037284, 'reg_lambda': 1.2908532337409298e-07, 'scale_pos_weight': 4.73588486119117, 'subsample': 0.4499578015509351}\n",
      "\n",
      "Model #23\n",
      "Best ROC-AUC: 0.6875\n",
      "Best params: {'colsample_bylevel': 0.7307968509811582, 'colsample_bytree': 0.5179152536187541, 'gamma': 0.0018406853480943382, 'learning_rate': 0.023835431281720304, 'max_delta_step': 3, 'max_depth': 23, 'min_child_weight': 0, 'n_estimators': 56, 'reg_alpha': 0.833624385244558, 'reg_lambda': 1.4112196295181561e-09, 'scale_pos_weight': 4.328907304806557, 'subsample': 0.37941367765437495}\n",
      "\n",
      "Model #24\n",
      "Best ROC-AUC: 0.6875\n",
      "Best params: {'colsample_bylevel': 0.7307968509811582, 'colsample_bytree': 0.5179152536187541, 'gamma': 0.0018406853480943382, 'learning_rate': 0.023835431281720304, 'max_delta_step': 3, 'max_depth': 23, 'min_child_weight': 0, 'n_estimators': 56, 'reg_alpha': 0.833624385244558, 'reg_lambda': 1.4112196295181561e-09, 'scale_pos_weight': 4.328907304806557, 'subsample': 0.37941367765437495}\n",
      "\n",
      "Model #25\n",
      "Best ROC-AUC: 0.6875\n",
      "Best params: {'colsample_bylevel': 0.7307968509811582, 'colsample_bytree': 0.5179152536187541, 'gamma': 0.0018406853480943382, 'learning_rate': 0.023835431281720304, 'max_delta_step': 3, 'max_depth': 23, 'min_child_weight': 0, 'n_estimators': 56, 'reg_alpha': 0.833624385244558, 'reg_lambda': 1.4112196295181561e-09, 'scale_pos_weight': 4.328907304806557, 'subsample': 0.37941367765437495}\n",
      "\n"
     ]
    }
   ],
   "source": [
    "xgb_new_result = bayes_cv_tuner.fit(train_df_final[engineered_features].values, train_labels.values, callback=status_print)"
   ]
  },
  {
   "cell_type": "code",
   "execution_count": null,
   "metadata": {
    "collapsed": true
   },
   "outputs": [],
   "source": [
    "search_spaces = {\n",
    "        'learning_rate': (0.01, 1.0, 'log-uniform'),\n",
    "        'min_child_weight': (0, 10),\n",
    "        'max_depth': (0, 50),\n",
    "        'max_delta_step': (0, 20),\n",
    "        'subsample': (0.01, 1.0, 'uniform'),\n",
    "        'colsample_bytree': (0.01, 1.0, 'uniform'),\n",
    "        'colsample_bylevel': (0.01, 1.0, 'uniform'),\n",
    "        'reg_lambda': (1e-9, 1000, 'log-uniform'),\n",
    "        'reg_alpha': (1e-9, 1.0, 'log-uniform'),\n",
    "        'gamma': (1e-9, 0.5, 'log-uniform'),\n",
    "        'min_child_weight': (0, 5),\n",
    "        'n_estimators': (50, 100),\n",
    "        'scale_pos_weight': (1e-6, 500, 'log-uniform')\n",
    "    }\n",
    "\n",
    "def objective(params):\n",
    "    params = {\n",
    "        'max_depth': int(params['max_depth']),\n",
    "        'gamma': \"{:.3f}\".format(params['gamma']),\n",
    "        'colsample_bytree': '{:.3f}'.format(params['colsample_bytree']),\n",
    "    }\n",
    "    \n",
    "    clf = xgb.XGBClassifier(\n",
    "        n_estimators=250,\n",
    "        learning_rate=0.05,\n",
    "        n_jobs=4,\n",
    "        **params\n",
    "    )\n",
    "    \n",
    "    score = cross_val_score(clf, X, Y, scoring=gini_scorer, cv=StratifiedKFold()).mean()\n",
    "    print(\"Gini {:.3f} params {}\".format(score, params))\n",
    "    return score\n",
    "\n",
    "space = {\n",
    "    'max_depth': hp.quniform('max_depth', 2, 8, 1),\n",
    "    'colsample_bytree': hp.uniform('colsample_bytree', 0.3, 1.0),\n",
    "    'gamma': hp.uniform('gamma', 0.0, 0.5),\n",
    "}\n",
    "\n",
    "best = fmin(fn=objective,\n",
    "            space=space,\n",
    "            algo=tpe.suggest,\n",
    "            max_evals=10)"
   ]
  }
 ],
 "metadata": {
  "kernelspec": {
   "display_name": "Python 3",
   "language": "python",
   "name": "python3"
  },
  "language_info": {
   "codemirror_mode": {
    "name": "ipython",
    "version": 3
   },
   "file_extension": ".py",
   "mimetype": "text/x-python",
   "name": "python",
   "nbconvert_exporter": "python",
   "pygments_lexer": "ipython3",
   "version": "3.6.2"
  }
 },
 "nbformat": 4,
 "nbformat_minor": 2
}
